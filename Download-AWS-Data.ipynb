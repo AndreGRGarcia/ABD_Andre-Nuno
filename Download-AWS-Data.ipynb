{
 "cells": [
  {
   "cell_type": "markdown",
   "id": "917fbe7d",
   "metadata": {},
   "source": [
    "# Download files from AWS Registry of Open Data\n",
    "\n",
    "This notebook allows to download files from a particular dataset stored in AWS's S3, given its Amazon Resource Name (ARN)\n",
    "\n",
    "See https://registry.opendata.aws/\n",
    "\n",
    "The downloading process relies on the usage of the package boto3. See also\n",
    "\n",
    "https://boto3.amazonaws.com/v1/documentation/api/latest/index.html\n",
    "\n",
    "https://boto3.amazonaws.com/v1/documentation/api/latest/guide/s3-examples.html\n",
    "\n",
    "\n",
    "PS. Feel free to adjust the code"
   ]
  },
  {
   "cell_type": "code",
   "execution_count": 1,
   "id": "545fcd85",
   "metadata": {},
   "outputs": [],
   "source": [
    "import os\n",
    "import boto3\n",
    "from botocore import UNSIGNED\n",
    "from botocore.client import Config"
   ]
  },
  {
   "cell_type": "code",
   "execution_count": 3,
   "id": "73541d9e",
   "metadata": {},
   "outputs": [],
   "source": [
    "# Print out the objects' name in a specified bucket, given the s3 resource.\n",
    "# Optionally, filters specific names\n",
    "\n",
    "def print_all_objects_name(s3_resource, bucket_name, name_word = \"\"):\n",
    "    \n",
    "    # select bucket\n",
    "    my_bucket = s3_resource.Bucket(bucket_name)\n",
    "    \n",
    "    # print out name\n",
    "    for s3_object in my_bucket.objects.all():\n",
    "        filename = s3_object.key\n",
    "        if name_word == \"\" or name_word in filename:\n",
    "            print(filename)\n",
    "        "
   ]
  },
  {
   "cell_type": "code",
   "execution_count": 4,
   "id": "def2ce6d",
   "metadata": {},
   "outputs": [],
   "source": [
    "# Print out the objects' name in a sub-folder of a S3 bucket, given the s3 resource.\n",
    "# Optionally, filters specific names\n",
    "\n",
    "def print_all_objects_name_in_folder(s3_resource, bucket_name, prefix, name_word = \"\"):\n",
    "    \n",
    "    # select bucket and objects\n",
    "    my_bucket = s3_resource.Bucket(bucket_name)\n",
    "    \n",
    "    objects = my_bucket.objects.filter(Prefix=prefix)\n",
    "    for obj in objects:\n",
    "        filename = obj.key\n",
    "        if name_word == \"\" or name_word in filename:  \n",
    "            print(filename)\n",
    "            "
   ]
  },
  {
   "cell_type": "code",
   "execution_count": 5,
   "id": "73cadeb5",
   "metadata": {},
   "outputs": [],
   "source": [
    "# Download all objects in a sub-folder of a S3 bucket, given the s3 resource.\n",
    "# Optionally, filters specific names\n",
    "\n",
    "def download_all_objects_in_folder(s3_resource, bucket_name, prefix, name_word = \"\"):\n",
    "    \n",
    "    # select bucket and objects\n",
    "    my_bucket = s3_resource.Bucket(bucket_name)\n",
    "    \n",
    "    objects = my_bucket.objects.filter(Prefix=prefix)\n",
    "    for obj in objects:\n",
    "        path, filename = os.path.split(obj.key)\n",
    "        if name_word == \"\" or name_word in filename:\n",
    "            my_bucket.download_file(obj.key, filename)\n",
    "        "
   ]
  },
  {
   "cell_type": "code",
   "execution_count": 6,
   "id": "c3f84773",
   "metadata": {},
   "outputs": [],
   "source": [
    "# Download all objects in a sub-folder of a S3 bucket, given the s3 resource.\n",
    "# Optionally, filters specific names\n",
    "\n",
    "def download_all_objects_in_folder_with_complete_name(s3_resource, bucket_name, prefix, name_word = \"\"):\n",
    "    \n",
    "    # select bucket and objects\n",
    "    my_bucket = s3_resource.Bucket(bucket_name)\n",
    "    \n",
    "    objects = my_bucket.objects.filter(Prefix=prefix)\n",
    "    for obj in objects:\n",
    "        path, filename = os.path.split(obj.key)\n",
    "        complete_filename = path.replace('/', '|') + '|' + filename\n",
    "        if name_word == \"\" or name_word in filename:\n",
    "            my_bucket.download_file(obj.key, complete_filename)\n",
    "        "
   ]
  },
  {
   "cell_type": "code",
   "execution_count": 8,
   "id": "9a16e635",
   "metadata": {},
   "outputs": [],
   "source": [
    "def download_all_objects_in_folder_exact_match(s3_resource, bucket_name, prefix, name_word = \"\"):\n",
    "    \n",
    "    # select bucket and objects\n",
    "    my_bucket = s3_resource.Bucket(bucket_name)\n",
    "    \n",
    "    objects = my_bucket.objects.filter(Prefix=prefix)\n",
    "    if name_word != \"\":\n",
    "        for obj in objects:\n",
    "            path, filename = os.path.split(obj.key)\n",
    "            if name_word == filename:\n",
    "                my_bucket.download_file(obj.key, filename)\n",
    "    else:\n",
    "        for obj in objects:\n",
    "            path, filename = os.path.split(obj.key)\n",
    "            my_bucket.download_file(obj.key, filename)"
   ]
  },
  {
   "cell_type": "code",
   "execution_count": 9,
   "id": "cf8150a2",
   "metadata": {},
   "outputs": [],
   "source": [
    "# Initiate S3 resource\n",
    "\n",
    "s3_resource = boto3.resource('s3', config=Config(signature_version=UNSIGNED))\n"
   ]
  },
  {
   "cell_type": "code",
   "execution_count": 10,
   "id": "58d5a5f7",
   "metadata": {},
   "outputs": [],
   "source": [
    "# Set S3 resource name of interest\n",
    "\n",
    "BUCKET_NAME = 'noaa-gsod-pds' \n"
   ]
  },
  {
   "cell_type": "code",
   "execution_count": 15,
   "id": "a7b858e9",
   "metadata": {},
   "outputs": [
    {
     "name": "stdout",
     "output_type": "stream",
     "text": [
      "/home/saltedcookie/Desktop/projetoABD/data14-15\n"
     ]
    }
   ],
   "source": [
    "# Pasta para onde vai ser feito o download:\n",
    "\n",
    "%cd /home/saltedcookie/Desktop/projetoABD/data14-15\n",
    "#%cd /home/saltedcookie/Desktop/projetoABD/dataPT"
   ]
  },
  {
   "cell_type": "code",
   "execution_count": 13,
   "id": "a0f2db1a",
   "metadata": {},
   "outputs": [
    {
     "name": "stdout",
     "output_type": "stream",
     "text": [
      "/home/saltedcookie/Documents/GitHub/ABD_Andre-Nuno\n"
     ]
    }
   ],
   "source": [
    "! pwd"
   ]
  },
  {
   "cell_type": "code",
   "execution_count": 25,
   "id": "24f08d2e",
   "metadata": {
    "tags": []
   },
   "outputs": [
    {
     "name": "stdout",
     "output_type": "stream",
     "text": [
      "total 1684\n",
      "drwxrwxr-x 3 saltedcookie saltedcookie    4096 mai 10 14:36 .\n",
      "drwxr-xr-x 7 saltedcookie saltedcookie    4096 mai  6 14:36 ..\n",
      "-rw-rw-r-- 1 saltedcookie saltedcookie 1710754 mai 10 14:36 Download-AWS-Data.ipynb\n",
      "drwxrwxr-x 2 saltedcookie saltedcookie    4096 mai 10 12:52 .ipynb_checkpoints\n"
     ]
    }
   ],
   "source": [
    "! ls -la"
   ]
  },
  {
   "cell_type": "code",
   "execution_count": 16,
   "id": "28eb88d4",
   "metadata": {
    "scrolled": true
   },
   "outputs": [],
   "source": [
    "# Downloaded all info on Lisbon station\n",
    "\n",
    "#for i in range(1920, 2023):\n",
    "#    download_all_objects_in_folder_with_complete_name(s3_resource, BUCKET_NAME, str(i) + \"/\" + PATH_NAME)\n",
    "\n",
    "\n",
    "\n",
    "# Download of all info in a range\n",
    "\n",
    "for i in [2014, 2015]:\n",
    "    download_all_objects_in_folder_with_complete_name(s3_resource, BUCKET_NAME, str(i))"
   ]
  },
  {
   "cell_type": "code",
   "execution_count": null,
   "id": "d6d88cc1",
   "metadata": {},
   "outputs": [],
   "source": [
    "# Concatenate all downloaded files into one\n",
    "\n",
    "! cat *csv > Data2018-2022.csv"
   ]
  },
  {
   "cell_type": "code",
   "execution_count": null,
   "id": "e71d64b0-3e10-4c91-a2e2-a29f90a64e12",
   "metadata": {},
   "outputs": [],
   "source": [
    "# Remove extra headings resulting from naïve concatenation\n",
    "\n",
    "! awk 'NR==1 || !/^\"STATION\"/' combined.csv > noaa.csv"
   ]
  },
  {
   "cell_type": "code",
   "execution_count": null,
   "id": "09eabbeb",
   "metadata": {},
   "outputs": [],
   "source": [
    "! ls -la"
   ]
  }
 ],
 "metadata": {
  "kernelspec": {
   "display_name": "Python 3 (ipykernel)",
   "language": "python",
   "name": "python3"
  },
  "language_info": {
   "codemirror_mode": {
    "name": "ipython",
    "version": 3
   },
   "file_extension": ".py",
   "mimetype": "text/x-python",
   "name": "python",
   "nbconvert_exporter": "python",
   "pygments_lexer": "ipython3",
   "version": "3.8.10"
  }
 },
 "nbformat": 4,
 "nbformat_minor": 5
}
