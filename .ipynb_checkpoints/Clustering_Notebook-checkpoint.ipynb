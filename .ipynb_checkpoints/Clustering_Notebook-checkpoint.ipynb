{
 "cells": [
  {
   "cell_type": "code",
   "execution_count": 5,
   "id": "c3642a10-8db6-43a3-b129-d896c8b3ab81",
   "metadata": {},
   "outputs": [],
   "source": [
    "import os \n",
    "\n",
    "import numpy as np \n",
    "import pandas as pd  \n",
    "import matplotlib.pyplot as plt\n",
    "import seaborn as sns\n",
    "import warnings\n",
    "import nbimporter\n",
    "import Useful_Visualization_Functions\n",
    "from pyspark.ml import *\n",
    "from pyspark.sql import *\n",
    "from pyspark.ml.classification import LinearSVC\n",
    "from pyspark.ml.evaluation import BinaryClassificationEvaluator\n",
    "from pyspark.ml import Pipeline\n",
    "from pyspark.ml.stat import Correlation\n",
    "from pyspark.ml.feature import Imputer, VectorAssembler\n",
    "from pyspark.ml.regression import LinearRegression\n",
    "from pyspark.ml.evaluation import RegressionEvaluator\n",
    "from pyspark.sql.types import *\n",
    "from pyspark.sql.functions import *\n",
    "from pyspark.sql.functions import col, explode, array, lit\n",
    "\n",
    "from pyspark.ml.clustering import KMeans\n",
    "from pyspark.ml.evaluation import ClusteringEvaluator\n",
    "from pyspark.ml.linalg import Vectors\n",
    "from pyspark.ml.feature import VectorAssembler\n",
    "\n",
    "warnings.filterwarnings(\"ignore\")\n",
    "import pyspark.sql.functions as F"
   ]
  },
  {
   "cell_type": "code",
   "execution_count": 2,
   "id": "3ef3b049-d798-4645-9347-c66c505321d4",
   "metadata": {},
   "outputs": [
    {
     "name": "stderr",
     "output_type": "stream",
     "text": [
      "22/05/23 16:14:59 WARN Utils: Your hostname, nuno-g14 resolves to a loopback address: 127.0.1.1; using 10.90.21.45 instead (on interface wlp2s0)\n",
      "22/05/23 16:14:59 WARN Utils: Set SPARK_LOCAL_IP if you need to bind to another address\n",
      "WARNING: An illegal reflective access operation has occurred\n",
      "WARNING: Illegal reflective access by org.apache.spark.unsafe.Platform (file:/home/nuno/.local/lib/python3.8/site-packages/pyspark/jars/spark-unsafe_2.12-3.2.1.jar) to constructor java.nio.DirectByteBuffer(long,int)\n",
      "WARNING: Please consider reporting this to the maintainers of org.apache.spark.unsafe.Platform\n",
      "WARNING: Use --illegal-access=warn to enable warnings of further illegal reflective access operations\n",
      "WARNING: All illegal access operations will be denied in a future release\n",
      "Using Spark's default log4j profile: org/apache/spark/log4j-defaults.properties\n",
      "Setting default log level to \"WARN\".\n",
      "To adjust logging level use sc.setLogLevel(newLevel). For SparkR, use setLogLevel(newLevel).\n",
      "22/05/23 16:15:00 WARN NativeCodeLoader: Unable to load native-hadoop library for your platform... using builtin-java classes where applicable\n",
      "22/05/23 16:15:01 WARN Utils: Service 'SparkUI' could not bind on port 4040. Attempting port 4041.\n"
     ]
    }
   ],
   "source": [
    "myspark = SparkSession\\\n",
    "    .builder\\\n",
    "    .appName(\"AWS-Spark\")\\\n",
    "    .config(\"spark.driver.memory\", \"15g\") \\\n",
    "    .config(\"spark.sql.shuffle.partitions\",6)\\\n",
    "    .config(\"spark.sql.repl.eagereval.enabled\",True)\\\n",
    "    .getOrCreate()"
   ]
  },
  {
   "cell_type": "code",
   "execution_count": 6,
   "id": "b0676e54-bae4-47cb-ad42-9bca1b4edca8",
   "metadata": {},
   "outputs": [
    {
     "name": "stdout",
     "output_type": "stream",
     "text": [
      "+----+----+------+---+-----+----+-----+----+----+----+----+------+--------+\n",
      "|TEMP|DEWP|   SLP|STP|VISIB|WDSP|MXSPD| MAX| MIN|PRCP|SNDP|FRSHTT|ItRained|\n",
      "+----+----+------+---+-----+----+-----+----+----+----+----+------+--------+\n",
      "|30.2|26.6|1018.2|0.8|  7.6| 2.5|  6.0|37.4|26.6|0.34| 5.9|  1000|       0|\n",
      "|31.8|27.6|1027.1|9.7|  5.3| 4.4| 13.0|33.8|29.1|0.28| 1.2| 11000|       1|\n",
      "|42.1|40.7|1025.6|8.7| 10.6| 1.5|  4.1|43.9|39.9|0.45| 0.4| 10000|       1|\n",
      "|44.6|41.0|1023.9|7.0|  6.1| 4.2|  8.0|50.0|38.1|0.47| 0.4| 10000|       1|\n",
      "|46.9|41.5|1023.5|6.7|  9.0| 5.3|  9.9|55.4|40.6|0.89| 0.4| 10000|       1|\n",
      "|60.5|58.9|1018.0|1.7|  4.6| 4.1| 12.0|64.4|58.1|0.28| 0.4| 10000|       1|\n",
      "|47.5|37.3|1020.8|4.1|  8.3| 7.0| 15.9|52.0|43.7|0.66| 0.4| 10100|       1|\n",
      "|51.4|49.8|1017.6|1.0|  4.9| 4.6|  9.9|53.6|50.0| 0.2| 0.4| 10000|       1|\n",
      "|44.3|38.0|1018.2|1.4|  7.6| 6.5| 12.0|50.2|36.0|0.86| 0.4| 10000|       1|\n",
      "|47.6|44.7|1020.5|3.7|  5.7| 2.1|  7.0|50.0|45.3|0.79| 0.8| 10000|       1|\n",
      "+----+----+------+---+-----+----+-----+----+----+----+----+------+--------+\n",
      "only showing top 10 rows\n",
      "\n"
     ]
    }
   ],
   "source": [
    "# noaa_data = myspark.read.parquet(\"clean-noaa\")\n",
    "noaa_data.show(10)"
   ]
  },
  {
   "cell_type": "code",
   "execution_count": 16,
   "id": "6e237df3-91fd-436f-8173-3b1573f925b5",
   "metadata": {},
   "outputs": [],
   "source": [
    "cols_interest = ['TEMP','DEWP','SLP','STP', 'VISIB','WDSP','MXSPD','MAX','MIN']\n",
    "non_labeled_df = noaa_data.select(cols_interest)\n",
    "labels_col = noaa_data.select('ItRained')"
   ]
  },
  {
   "cell_type": "code",
   "execution_count": 17,
   "id": "8dd39ac8-230d-43ab-beb5-202af8dc9bc0",
   "metadata": {},
   "outputs": [
    {
     "name": "stderr",
     "output_type": "stream",
     "text": [
      "                                                                                \r"
     ]
    },
    {
     "name": "stdout",
     "output_type": "stream",
     "text": [
      "Silhouette with squared euclidean distance = 0.6044758578622507\n",
      "Cluster Centers: \n",
      "[  29.18184106   23.11602924 1019.63368649   10.40069312   11.87872862\n",
      "    6.76219026   10.40533332   34.79501943   22.47477412]\n",
      "[ 6.08276150e+00 -1.08061500e-01  1.02373505e+03  1.30660191e+01\n",
      "  1.30619351e+01  6.16393454e+00  9.30172159e+00  1.39714606e+01\n",
      " -3.70037917e+00]\n"
     ]
    }
   ],
   "source": [
    "assembler = VectorAssembler(inputCols=cols_interest,outputCol=\"features\")\n",
    "non_labeled_df = assembler.transform(non_labeled_df)\n",
    "# Trains a k-means model.\n",
    "kmeans = KMeans(featuresCol=\"features\").setK(2).setSeed(1)\n",
    "model = kmeans.fit(non_labeled_df)\n",
    "\n",
    "# Make predictions\n",
    "predictions = model.transform(non_labeled_df)\n",
    "\n",
    "# Evaluate clustering by computing Silhouette score\n",
    "evaluator = ClusteringEvaluator()\n",
    "\n",
    "silhouette = evaluator.evaluate(predictions)\n",
    "print(\"Silhouette with squared euclidean distance = \" + str(silhouette))\n",
    "\n",
    "# Shows the result.\n",
    "centers = model.clusterCenters()\n",
    "print(\"Cluster Centers: \")\n",
    "for center in centers:\n",
    "    print(center)"
   ]
  },
  {
   "cell_type": "code",
   "execution_count": null,
   "id": "1f631ac5-7e5d-4955-8df1-4aba6a1d1d73",
   "metadata": {},
   "outputs": [
    {
     "name": "stdout",
     "output_type": "stream",
     "text": [
      "+----+----+------+----+-----+----+-----+----+----+--------------------+----------+\n",
      "|TEMP|DEWP|   SLP| STP|VISIB|WDSP|MXSPD| MAX| MIN|            features|prediction|\n",
      "+----+----+------+----+-----+----+-----+----+----+--------------------+----------+\n",
      "|35.4|32.1|1004.4| 1.0|  6.2| 3.6| 11.1|46.4|30.0|[35.4,32.1,1004.4...|         0|\n",
      "|28.2|25.6|1012.5| 9.0|  6.5| 2.5|  6.0|37.9|22.3|[28.2,25.6,1012.5...|         0|\n",
      "|42.5|39.2|1015.7|12.3|  6.2| 5.3| 13.0|47.7|36.0|[42.5,39.2,1015.7...|         0|\n",
      "|66.7|65.1|1015.0| 0.8|  3.7| 8.4| 15.0|72.0|60.4|[66.7,65.1,1015.0...|         0|\n",
      "|57.9|47.0|1021.7| 7.1| 11.9|11.4| 14.0|61.2|54.0|[57.9,47.0,1021.7...|         0|\n",
      "|56.6|46.1|1019.4| 4.9| 11.2| 9.0| 13.0|63.7|48.2|[56.6,46.1,1019.4...|         0|\n",
      "|48.0|39.1|1020.5| 5.7| 12.4|10.4| 14.0|50.9|45.1|[48.0,39.1,1020.5...|         0|\n",
      "|70.0|59.2|1015.6| 1.5| 12.0|11.3| 15.9|76.1|57.9|[70.0,59.2,1015.6...|         0|\n",
      "|69.9|50.6|1016.2| 2.1| 11.9| 5.9|  9.9|75.9|55.0|[69.9,50.6,1016.2...|         0|\n",
      "|72.3|70.5|1006.4| 1.5|  5.6| 7.0| 15.9|78.8|68.0|[72.3,70.5,1006.4...|         0|\n",
      "|63.3|57.0|1013.5| 8.5|  6.2|12.4| 20.0|68.2|59.9|[63.3,57.0,1013.5...|         0|\n",
      "|60.9|53.3|1018.5|13.5|  6.7|13.9| 20.0|66.2|58.6|[60.9,53.3,1018.5...|         0|\n",
      "|57.7|54.8|1012.9| 7.8|  5.8| 6.3| 11.1|62.6|53.6|[57.7,54.8,1012.9...|         0|\n",
      "|56.5|55.7|1007.4| 2.4|  4.7| 6.8| 12.0|57.9|53.6|[56.5,55.7,1007.4...|         0|\n",
      "|53.6|48.7|1006.1| 1.0|  6.0|17.2| 25.1|55.4|50.0|[53.6,48.7,1006.1...|         0|\n",
      "|63.9|62.6|1011.7| 6.7|  4.0| 7.5| 15.0|70.2|58.8|[63.9,62.6,1011.7...|         0|\n",
      "|54.1|45.5|1020.2|15.1|  9.2| 7.5| 12.0|62.6|42.8|[54.1,45.5,1020.2...|         0|\n",
      "|56.5|54.3|1010.5| 5.4|  4.8|10.2| 14.0|59.4|51.8|[56.5,54.3,1010.5...|         0|\n",
      "|69.7|61.8|1014.8| 9.8|  8.9| 8.3| 14.0|75.4|60.8|[69.7,61.8,1014.8...|         0|\n",
      "|69.6|51.3|1016.7|11.8| 11.1| 6.9| 12.0|77.0|51.8|[69.6,51.3,1016.7...|         0|\n",
      "+----+----+------+----+-----+----+-----+----+----+--------------------+----------+\n",
      "only showing top 20 rows\n",
      "\n",
      "207443\n"
     ]
    }
   ],
   "source": [
    "predictions.orderBy('prediction', ascending=True).show()\n",
    "new = predictions.sample(False, 0.1).toPandas()\n",
    "Useful_Visualization_Functions.plotScatterMatrix(new, \"prediction\")"
   ]
  }
 ],
 "metadata": {
  "kernelspec": {
   "display_name": "Python 3 (ipykernel)",
   "language": "python",
   "name": "python3"
  },
  "language_info": {
   "codemirror_mode": {
    "name": "ipython",
    "version": 3
   },
   "file_extension": ".py",
   "mimetype": "text/x-python",
   "name": "python",
   "nbconvert_exporter": "python",
   "pygments_lexer": "ipython3",
   "version": "3.8.10"
  }
 },
 "nbformat": 4,
 "nbformat_minor": 5
}
