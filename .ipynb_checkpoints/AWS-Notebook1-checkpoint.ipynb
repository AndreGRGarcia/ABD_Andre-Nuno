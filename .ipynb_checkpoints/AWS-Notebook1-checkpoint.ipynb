{
 "cells": [
  {
   "cell_type": "code",
   "execution_count": 1,
   "id": "0e5c799b",
   "metadata": {},
   "outputs": [
    {
     "name": "stderr",
     "output_type": "stream",
     "text": [
      "22/05/10 15:58:30 WARN Utils: Your hostname, nuno-g14 resolves to a loopback address: 127.0.1.1; using 172.20.10.2 instead (on interface wlp2s0)\n",
      "22/05/10 15:58:30 WARN Utils: Set SPARK_LOCAL_IP if you need to bind to another address\n",
      "WARNING: An illegal reflective access operation has occurred\n",
      "WARNING: Illegal reflective access by org.apache.spark.unsafe.Platform (file:/home/nuno/.local/lib/python3.8/site-packages/pyspark/jars/spark-unsafe_2.12-3.2.1.jar) to constructor java.nio.DirectByteBuffer(long,int)\n",
      "WARNING: Please consider reporting this to the maintainers of org.apache.spark.unsafe.Platform\n",
      "WARNING: Use --illegal-access=warn to enable warnings of further illegal reflective access operations\n",
      "WARNING: All illegal access operations will be denied in a future release\n",
      "Using Spark's default log4j profile: org/apache/spark/log4j-defaults.properties\n",
      "Setting default log level to \"WARN\".\n",
      "To adjust logging level use sc.setLogLevel(newLevel). For SparkR, use setLogLevel(newLevel).\n",
      "22/05/10 15:58:31 WARN NativeCodeLoader: Unable to load native-hadoop library for your platform... using builtin-java classes where applicable\n"
     ]
    }
   ],
   "source": [
    "from pyspark.sql import SparkSession\n",
    "\n",
    "# build our own SparkSession\n",
    "myspark = SparkSession\\\n",
    "    .builder\\\n",
    "    .appName(\"AWS-Spark\")\\\n",
    "    .config(\"spark.sql.shuffle.partitions\",6)\\\n",
    "    .config(\"spark.sql.repl.eagereval.enabled\",True)\\\n",
    "    .getOrCreate()"
   ]
  },
  {
   "cell_type": "code",
   "execution_count": 2,
   "id": "42d2d3be",
   "metadata": {},
   "outputs": [
    {
     "data": {
      "text/html": [
       "\n",
       "            <div>\n",
       "                <p><b>SparkSession - in-memory</b></p>\n",
       "                \n",
       "        <div>\n",
       "            <p><b>SparkContext</b></p>\n",
       "\n",
       "            <p><a href=\"http://172.20.10.2:4040\">Spark UI</a></p>\n",
       "\n",
       "            <dl>\n",
       "              <dt>Version</dt>\n",
       "                <dd><code>v3.2.1</code></dd>\n",
       "              <dt>Master</dt>\n",
       "                <dd><code>local[*]</code></dd>\n",
       "              <dt>AppName</dt>\n",
       "                <dd><code>AWS-Spark</code></dd>\n",
       "            </dl>\n",
       "        </div>\n",
       "        \n",
       "            </div>\n",
       "        "
      ],
      "text/plain": [
       "<pyspark.sql.session.SparkSession at 0x7fc863fc31c0>"
      ]
     },
     "execution_count": 2,
     "metadata": {},
     "output_type": "execute_result"
    }
   ],
   "source": [
    "myspark"
   ]
  },
  {
   "cell_type": "code",
   "execution_count": 5,
   "id": "f83b173a",
   "metadata": {},
   "outputs": [],
   "source": [
    "# ! head noaa.csv\n",
    "# noaa_data.show(10)\n",
    "noaa_data = myspark.read.load(\"noaa.csv\", format=\"csv\", sep=\",\", header=True, inferSchema=True)\n",
    "noaa_data.count()"
   ]
  },
  {
   "cell_type": "code",
   "execution_count": 9,
   "id": "eca21e75",
   "metadata": {},
   "outputs": [
    {
     "name": "stdout",
     "output_type": "stream",
     "text": [
      "+----------+----------+----------+----------+---------+--------------------+----+---------------+----+---------------+------+--------------+-----+--------------+-----+----------------+----+---------------+-----+----+----+--------------+----+--------------+-----+---------------+-----+------+\n",
      "|   STATION|      DATE|  LATITUDE| LONGITUDE|ELEVATION|                NAME|TEMP|TEMP_ATTRIBUTES|DEWP|DEWP_ATTRIBUTES|   SLP|SLP_ATTRIBUTES|  STP|STP_ATTRIBUTES|VISIB|VISIB_ATTRIBUTES|WDSP|WDSP_ATTRIBUTES|MXSPD|GUST| MAX|MAX_ATTRIBUTES| MIN|MIN_ATTRIBUTES| PRCP|PRCP_ATTRIBUTES| SNDP|FRSHTT|\n",
      "+----------+----------+----------+----------+---------+--------------------+----+---------------+----+---------------+------+--------------+-----+--------------+-----+----------------+----+---------------+-----+----+----+--------------+----+--------------+-----+---------------+-----+------+\n",
      "|1001099999|2021-01-01|70.9333333|-8.6666667|      9.0|JAN MAYEN NOR NAV...|23.4|           24.0|15.7|           24.0|1017.7|          24.0| 16.5|          24.0| 28.0|             6.0|10.9|           24.0| 22.1|39.4|26.2|              |20.1|              | 0.04|              G|999.9|     0|\n",
      "|1001099999|2021-01-02|70.9333333|-8.6666667|      9.0|JAN MAYEN NOR NAV...|31.5|           23.0|30.1|           23.0|1017.4|          23.0| 16.2|          23.0|  4.9|             6.0|12.5|           23.0| 21.6|25.8|33.8|              |20.1|              | 0.06|              G|999.9| 11000|\n",
      "|1001099999|2021-01-03|70.9333333|-8.6666667|      9.0|JAN MAYEN NOR NAV...|35.0|           24.0|34.3|           24.0|1011.4|          24.0| 10.2|          24.0|  3.1|             6.0|12.2|           24.0| 19.0|24.9|39.9|              |32.7|              | 0.11|              G|999.9| 10000|\n",
      "|1001099999|2021-01-04|70.9333333|-8.6666667|      9.0|JAN MAYEN NOR NAV...|35.4|           22.0|29.8|           22.0|1007.6|          22.0|  6.4|          22.0|  6.1|             6.0|23.1|           22.0| 41.4|56.7|37.9|              |33.6|              | 0.01|              G|999.9| 10000|\n",
      "|1001099999|2021-01-05|70.9333333|-8.6666667|      9.0|JAN MAYEN NOR NAV...|27.5|           24.0|19.4|           24.0|1015.1|          24.0| 13.9|          24.0| 13.5|             6.0|12.8|           24.0| 25.1|37.9|35.4|              |21.7|              |  0.0|              G|999.9|  1000|\n",
      "|1001099999|2021-01-06|70.9333333|-8.6666667|      9.0|JAN MAYEN NOR NAV...|23.6|           24.0|16.2|           24.0|1015.1|          24.0| 13.9|          24.0|  8.6|             6.0|17.0|           24.0| 35.0|51.3|25.0|              |21.7|              |99.99|               |999.9|  1000|\n",
      "|1001099999|2021-01-07|70.9333333|-8.6666667|      9.0|JAN MAYEN NOR NAV...|18.7|           24.0|11.7|           24.0|1015.1|          24.0| 13.9|          24.0|  4.1|             6.0|20.7|           24.0| 36.5|56.1|25.5|              |14.4|              | 0.03|              G|999.9|  1000|\n",
      "|1001099999|2021-01-08|70.9333333|-8.6666667|      9.0|JAN MAYEN NOR NAV...|26.9|            8.0|24.9|            8.0|1001.9|           8.0|  0.8|           8.0|999.9|             0.0|12.6|            8.0| 18.3|42.5|32.5|              |17.1|              |  0.0|              G|999.9|  1000|\n",
      "|1001099999|2021-01-09|70.9333333|-8.6666667|      9.0|JAN MAYEN NOR NAV...|31.7|           24.0|30.3|           24.0| 978.9|          24.0|977.8|          24.0|  5.9|             6.0| 8.8|           24.0| 19.2|26.8|34.0|              |26.1|              | 0.23|              G|999.9| 10000|\n",
      "|1001099999|2021-01-10|70.9333333|-8.6666667|      9.0|JAN MAYEN NOR NAV...|32.1|           24.0|29.5|           24.0| 991.6|          24.0|990.4|          24.0|  5.4|             6.0|17.3|           24.0| 26.2|37.1|34.2|              |26.1|              |  0.0|              G|999.9| 11000|\n",
      "+----------+----------+----------+----------+---------+--------------------+----+---------------+----+---------------+------+--------------+-----+--------------+-----+----------------+----+---------------+-----+----+----+--------------+----+--------------+-----+---------------+-----+------+\n",
      "only showing top 10 rows\n",
      "\n"
     ]
    }
   ],
   "source": [
    "noaa_data.show(10)\n"
   ]
  },
  {
   "cell_type": "code",
   "execution_count": 11,
   "id": "49c114ae",
   "metadata": {},
   "outputs": [
    {
     "data": {
      "text/plain": [
       "1392"
      ]
     },
     "execution_count": 11,
     "metadata": {},
     "output_type": "execute_result"
    }
   ],
   "source": [
    "temp_filt = (noaa_data.filter(noaa_data.ELEVATION <= 5))\n",
    "temp_filt.count()"
   ]
  },
  {
   "cell_type": "code",
   "execution_count": 13,
   "id": "146451d2",
   "metadata": {},
   "outputs": [
    {
     "name": "stdout",
     "output_type": "stream",
     "text": [
      "+----------+----------+----------+----------+---------+--------------------+----+---------------+----+---------------+------+--------------+-----+--------------+-----+----------------+----+---------------+-----+----+----+--------------+----+--------------+-----+---------------+-----+------+\n",
      "|   STATION|      DATE|  LATITUDE| LONGITUDE|ELEVATION|                NAME|TEMP|TEMP_ATTRIBUTES|DEWP|DEWP_ATTRIBUTES|   SLP|SLP_ATTRIBUTES|  STP|STP_ATTRIBUTES|VISIB|VISIB_ATTRIBUTES|WDSP|WDSP_ATTRIBUTES|MXSPD|GUST| MAX|MAX_ATTRIBUTES| MIN|MIN_ATTRIBUTES| PRCP|PRCP_ATTRIBUTES| SNDP|FRSHTT|\n",
      "+----------+----------+----------+----------+---------+--------------------+----+---------------+----+---------------+------+--------------+-----+--------------+-----+----------------+----+---------------+-----+----+----+--------------+----+--------------+-----+---------------+-----+------+\n",
      "|1001099999|2021-01-01|70.9333333|-8.6666667|      9.0|JAN MAYEN NOR NAV...|23.4|           24.0|15.7|           24.0|1017.7|          24.0| 16.5|          24.0| 28.0|             6.0|10.9|           24.0| 22.1|39.4|26.2|              |20.1|              | 0.04|              G|999.9|     0|\n",
      "|1001099999|2021-01-02|70.9333333|-8.6666667|      9.0|JAN MAYEN NOR NAV...|31.5|           23.0|30.1|           23.0|1017.4|          23.0| 16.2|          23.0|  4.9|             6.0|12.5|           23.0| 21.6|25.8|33.8|              |20.1|              | 0.06|              G|999.9| 11000|\n",
      "|1001099999|2021-01-03|70.9333333|-8.6666667|      9.0|JAN MAYEN NOR NAV...|35.0|           24.0|34.3|           24.0|1011.4|          24.0| 10.2|          24.0|  3.1|             6.0|12.2|           24.0| 19.0|24.9|39.9|              |32.7|              | 0.11|              G|999.9| 10000|\n",
      "|1001099999|2021-01-04|70.9333333|-8.6666667|      9.0|JAN MAYEN NOR NAV...|35.4|           22.0|29.8|           22.0|1007.6|          22.0|  6.4|          22.0|  6.1|             6.0|23.1|           22.0| 41.4|56.7|37.9|              |33.6|              | 0.01|              G|999.9| 10000|\n",
      "|1001099999|2021-01-05|70.9333333|-8.6666667|      9.0|JAN MAYEN NOR NAV...|27.5|           24.0|19.4|           24.0|1015.1|          24.0| 13.9|          24.0| 13.5|             6.0|12.8|           24.0| 25.1|37.9|35.4|              |21.7|              |  0.0|              G|999.9|  1000|\n",
      "|1001099999|2021-01-06|70.9333333|-8.6666667|      9.0|JAN MAYEN NOR NAV...|23.6|           24.0|16.2|           24.0|1015.1|          24.0| 13.9|          24.0|  8.6|             6.0|17.0|           24.0| 35.0|51.3|25.0|              |21.7|              |99.99|               |999.9|  1000|\n",
      "|1001099999|2021-01-07|70.9333333|-8.6666667|      9.0|JAN MAYEN NOR NAV...|18.7|           24.0|11.7|           24.0|1015.1|          24.0| 13.9|          24.0|  4.1|             6.0|20.7|           24.0| 36.5|56.1|25.5|              |14.4|              | 0.03|              G|999.9|  1000|\n",
      "|1001099999|2021-01-08|70.9333333|-8.6666667|      9.0|JAN MAYEN NOR NAV...|26.9|            8.0|24.9|            8.0|1001.9|           8.0|  0.8|           8.0|999.9|             0.0|12.6|            8.0| 18.3|42.5|32.5|              |17.1|              |  0.0|              G|999.9|  1000|\n",
      "|1001099999|2021-01-09|70.9333333|-8.6666667|      9.0|JAN MAYEN NOR NAV...|31.7|           24.0|30.3|           24.0| 978.9|          24.0|977.8|          24.0|  5.9|             6.0| 8.8|           24.0| 19.2|26.8|34.0|              |26.1|              | 0.23|              G|999.9| 10000|\n",
      "|1001099999|2021-01-10|70.9333333|-8.6666667|      9.0|JAN MAYEN NOR NAV...|32.1|           24.0|29.5|           24.0| 991.6|          24.0|990.4|          24.0|  5.4|             6.0|17.3|           24.0| 26.2|37.1|34.2|              |26.1|              |  0.0|              G|999.9| 11000|\n",
      "+----------+----------+----------+----------+---------+--------------------+----+---------------+----+---------------+------+--------------+-----+--------------+-----+----------------+----+---------------+-----+----+----+--------------+----+--------------+-----+---------------+-----+------+\n",
      "only showing top 10 rows\n",
      "\n"
     ]
    }
   ],
   "source": [
    "noaa_data.orderBy(\"ELEVATION\", ascending=True)\n",
    "noaa_data.show(10)"
   ]
  }
 ],
 "metadata": {
  "kernelspec": {
   "display_name": "Python 3 (ipykernel)",
   "language": "python",
   "name": "python3"
  },
  "language_info": {
   "codemirror_mode": {
    "name": "ipython",
    "version": 3
   },
   "file_extension": ".py",
   "mimetype": "text/x-python",
   "name": "python",
   "nbconvert_exporter": "python",
   "pygments_lexer": "ipython3",
   "version": "3.8.10"
  }
 },
 "nbformat": 4,
 "nbformat_minor": 5
}
