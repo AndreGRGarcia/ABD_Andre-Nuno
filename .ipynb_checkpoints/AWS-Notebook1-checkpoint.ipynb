{
 "cells": [
  {
   "cell_type": "code",
   "execution_count": 1,
   "id": "e9d0be34",
   "metadata": {},
   "outputs": [],
   "source": [
    "import os \n",
    "\n",
    "import numpy as np \n",
    "import pandas as pd  \n",
    "import matplotlib.pyplot as plt\n",
    "import seaborn as sns\n",
    "import warnings\n",
    "import nbimporter\n",
    "import Useful_Visualization_Functions\n",
    "from pyspark.sql.types import *\n",
    "warnings.filterwarnings(\"ignore\")"
   ]
  },
  {
   "cell_type": "code",
   "execution_count": 2,
   "id": "387b62b3",
   "metadata": {},
   "outputs": [],
   "source": [
    "from pyspark.sql import SparkSession\n",
    "from pyspark.sql import Row\n",
    "from pyspark.sql.functions import lit, col, column, expr, desc, asc"
   ]
  },
  {
   "cell_type": "code",
   "execution_count": 3,
   "id": "a8da508b",
   "metadata": {},
   "outputs": [],
   "source": [
    "# ! pip install matplotlib\n",
    "# ! pip install seaborn\n",
    "# ! pip install ipynb\n",
    "# ! pip install nbimporter"
   ]
  },
  {
   "cell_type": "code",
   "execution_count": 4,
   "id": "0e5c799b",
   "metadata": {},
   "outputs": [
    {
     "name": "stderr",
     "output_type": "stream",
     "text": [
      "22/05/17 14:48:14 WARN Utils: Your hostname, nuno-g14 resolves to a loopback address: 127.0.1.1; using 172.20.10.5 instead (on interface enx8a190809820f)\n",
      "22/05/17 14:48:14 WARN Utils: Set SPARK_LOCAL_IP if you need to bind to another address\n",
      "WARNING: An illegal reflective access operation has occurred\n",
      "WARNING: Illegal reflective access by org.apache.spark.unsafe.Platform (file:/home/nuno/.local/lib/python3.8/site-packages/pyspark/jars/spark-unsafe_2.12-3.2.1.jar) to constructor java.nio.DirectByteBuffer(long,int)\n",
      "WARNING: Please consider reporting this to the maintainers of org.apache.spark.unsafe.Platform\n",
      "WARNING: Use --illegal-access=warn to enable warnings of further illegal reflective access operations\n",
      "WARNING: All illegal access operations will be denied in a future release\n",
      "Using Spark's default log4j profile: org/apache/spark/log4j-defaults.properties\n",
      "Setting default log level to \"WARN\".\n",
      "To adjust logging level use sc.setLogLevel(newLevel). For SparkR, use setLogLevel(newLevel).\n",
      "22/05/17 14:48:15 WARN NativeCodeLoader: Unable to load native-hadoop library for your platform... using builtin-java classes where applicable\n"
     ]
    }
   ],
   "source": [
    "# build our own SparkSession\n",
    "myspark = SparkSession\\\n",
    "    .builder\\\n",
    "    .appName(\"AWS-Spark\")\\\n",
    "    .config(\"spark.driver.memory\", \"15g\") \\\n",
    "    .config(\"spark.sql.shuffle.partitions\",6)\\\n",
    "    .config(\"spark.sql.repl.eagereval.enabled\",True)\\\n",
    "    .getOrCreate()"
   ]
  },
  {
   "cell_type": "code",
   "execution_count": 5,
   "id": "42d2d3be",
   "metadata": {},
   "outputs": [
    {
     "data": {
      "text/html": [
       "\n",
       "            <div>\n",
       "                <p><b>SparkSession - in-memory</b></p>\n",
       "                \n",
       "        <div>\n",
       "            <p><b>SparkContext</b></p>\n",
       "\n",
       "            <p><a href=\"http://172.20.10.5:4040\">Spark UI</a></p>\n",
       "\n",
       "            <dl>\n",
       "              <dt>Version</dt>\n",
       "                <dd><code>v3.2.1</code></dd>\n",
       "              <dt>Master</dt>\n",
       "                <dd><code>local[*]</code></dd>\n",
       "              <dt>AppName</dt>\n",
       "                <dd><code>AWS-Spark</code></dd>\n",
       "            </dl>\n",
       "        </div>\n",
       "        \n",
       "            </div>\n",
       "        "
      ],
      "text/plain": [
       "<pyspark.sql.session.SparkSession at 0x7f616b9bb1f0>"
      ]
     },
     "execution_count": 5,
     "metadata": {},
     "output_type": "execute_result"
    }
   ],
   "source": [
    "myspark"
   ]
  },
  {
   "cell_type": "code",
   "execution_count": 6,
   "id": "12e89599",
   "metadata": {},
   "outputs": [
    {
     "data": {
      "text/plain": [
       "22601"
      ]
     },
     "execution_count": 6,
     "metadata": {},
     "output_type": "execute_result"
    }
   ],
   "source": [
    "# ! head noaa.csv\n",
    "# noaa_data.show(10)\n",
    "noaa_data = myspark.read.load(\"noaa.csv\", format=\"csv\", sep=\",\", header=True, inferSchema=True)\n",
    "noaa_data.count()"
   ]
  },
  {
   "cell_type": "code",
   "execution_count": 7,
   "id": "277aed05",
   "metadata": {},
   "outputs": [],
   "source": [
    "# noaa_data.show(10)"
   ]
  },
  {
   "cell_type": "code",
   "execution_count": 8,
   "id": "82911c09",
   "metadata": {},
   "outputs": [],
   "source": [
    "# temp_filt = (noaa_data.filter(noaa_data.ELEVATION <= 5))\n",
    "# temp_filt.count()"
   ]
  },
  {
   "cell_type": "code",
   "execution_count": 9,
   "id": "f43d04d1",
   "metadata": {
    "scrolled": true
   },
   "outputs": [],
   "source": [
    "#latitude_order = noaa_data.orderBy(\"LATITUDE\", ascending=False)\n",
    "#latitude_order.show(10)"
   ]
  },
  {
   "cell_type": "code",
   "execution_count": 10,
   "id": "d31b3512",
   "metadata": {
    "scrolled": true
   },
   "outputs": [
    {
     "name": "stdout",
     "output_type": "stream",
     "text": [
      "root\n",
      " |-- STATION: integer (nullable = true)\n",
      " |-- DATE: string (nullable = true)\n",
      " |-- LATITUDE: double (nullable = true)\n",
      " |-- LONGITUDE: double (nullable = true)\n",
      " |-- ELEVATION: double (nullable = true)\n",
      " |-- NAME: string (nullable = true)\n",
      " |-- TEMP: double (nullable = true)\n",
      " |-- TEMP_ATTRIBUTES: double (nullable = true)\n",
      " |-- DEWP: double (nullable = true)\n",
      " |-- DEWP_ATTRIBUTES: double (nullable = true)\n",
      " |-- SLP: double (nullable = true)\n",
      " |-- SLP_ATTRIBUTES: double (nullable = true)\n",
      " |-- STP: double (nullable = true)\n",
      " |-- STP_ATTRIBUTES: double (nullable = true)\n",
      " |-- VISIB: double (nullable = true)\n",
      " |-- VISIB_ATTRIBUTES: double (nullable = true)\n",
      " |-- WDSP: double (nullable = true)\n",
      " |-- WDSP_ATTRIBUTES: double (nullable = true)\n",
      " |-- MXSPD: double (nullable = true)\n",
      " |-- GUST: double (nullable = true)\n",
      " |-- MAX: double (nullable = true)\n",
      " |-- MAX_ATTRIBUTES: string (nullable = true)\n",
      " |-- MIN: double (nullable = true)\n",
      " |-- MIN_ATTRIBUTES: string (nullable = true)\n",
      " |-- PRCP: double (nullable = true)\n",
      " |-- PRCP_ATTRIBUTES: string (nullable = true)\n",
      " |-- SNDP: double (nullable = true)\n",
      " |-- FRSHTT: integer (nullable = true)\n",
      "\n"
     ]
    }
   ],
   "source": [
    "noaa_data.printSchema()"
   ]
  },
  {
   "cell_type": "code",
   "execution_count": 11,
   "id": "20f9f9a4",
   "metadata": {
    "scrolled": true
   },
   "outputs": [
    {
     "name": "stdout",
     "output_type": "stream",
     "text": [
      "+----+---------+-----+\n",
      "|TEMP|ELEVATION|VISIB|\n",
      "+----+---------+-----+\n",
      "|23.4|      9.0| 28.0|\n",
      "|31.5|      9.0|  4.9|\n",
      "|35.0|      9.0|  3.1|\n",
      "|35.4|      9.0|  6.1|\n",
      "|27.5|      9.0| 13.5|\n",
      "|23.6|      9.0|  8.6|\n",
      "|18.7|      9.0|  4.1|\n",
      "|26.9|      9.0|999.9|\n",
      "|31.7|      9.0|  5.9|\n",
      "|32.1|      9.0|  5.4|\n",
      "+----+---------+-----+\n",
      "only showing top 10 rows\n",
      "\n"
     ]
    }
   ],
   "source": [
    "noaa_data.select(\"TEMP\", \"ELEVATION\", \"VISIB\").show(10)"
   ]
  },
  {
   "cell_type": "code",
   "execution_count": 12,
   "id": "d54a464c",
   "metadata": {},
   "outputs": [
    {
     "data": {
      "text/plain": [
       "'\\nfor cl in columns:\\n    noaa_data.describe(cl).show()\\n\\nfor cl in columns:\\n    noaa_data.select(cl).distinct().show(10)\\n'"
      ]
     },
     "execution_count": 12,
     "metadata": {},
     "output_type": "execute_result"
    }
   ],
   "source": [
    "\n",
    "columns = noaa_data.columns\n",
    "\"\"\"\n",
    "for cl in columns:\n",
    "    noaa_data.describe(cl).show()\n",
    "\n",
    "for cl in columns:\n",
    "    noaa_data.select(cl).distinct().show(10)\n",
    "\"\"\""
   ]
  },
  {
   "cell_type": "code",
   "execution_count": 13,
   "id": "a52fe125",
   "metadata": {},
   "outputs": [],
   "source": [
    "cols_to_drop = [\"STATION\", \"DATE\", \"LATITUDE\", \"LONGITUDE\", \"ELEVATION\", \"NAME\", \"TEMP_ATTRIBUTES\", \"DEWP_ATTRIBUTES\",\n",
    "               \"SLP_ATTRIBUTES\", \"STP_ATTRIBUTES\", \"VISIB_ATTRIBUTES\", \"WDSP_ATTRIBUTES\", \"MAX_ATTRIBUTES\",\n",
    "               \"MIN_ATTRIBUTES\", \"PRCP_ATTRIBUTES\"]\n",
    "\n",
    "\"\"\"\n",
    "Mean temperature (.1 Fahrenheit) - TEMP\n",
    "Mean dew point (.1 Fahrenheit) - DEWP\n",
    "Mean sea level pressure (.1 mb) - SLP\n",
    "Mean station pressure (.1 mb) - STP\n",
    "Mean visibility (.1 miles) - VISIB\n",
    "Mean wind speed (.1 knots) - WDSP\n",
    "Maximum sustained wind speed (.1 knots) - MXSPD \n",
    "Maximum wind gust (.1 knots) - GUST\n",
    "Maximum temperature (.1 Fahrenheit) - MAX\n",
    "Minimum temperature (.1 Fahrenheit) - MIN\n",
    "Precipitation amount (.01 inches) - PRCP\n",
    "Snow depth (.1 inches) - SNDP\n",
    "Indicator for occurrence of: Fog, Rain or Drizzle, Snow or Ice Pellets, Hail, Thunder, Tornado/Funnel Cloud. - FRSHTT\n",
    "\"\"\"\n",
    "\n",
    "cols_interest = [x for x in columns if x not in cols_to_drop]\n",
    "df_interest_cols = noaa_data.select(cols_interest)"
   ]
  },
  {
   "cell_type": "markdown",
   "id": "845fa6f5",
   "metadata": {},
   "source": [
    "### Data cleansing"
   ]
  },
  {
   "cell_type": "code",
   "execution_count": 14,
   "id": "3a9de037",
   "metadata": {
    "scrolled": true
   },
   "outputs": [
    {
     "name": "stdout",
     "output_type": "stream",
     "text": [
      "root\n",
      " |-- TEMP: double (nullable = true)\n",
      " |-- DEWP: double (nullable = true)\n",
      " |-- SLP: double (nullable = true)\n",
      " |-- STP: double (nullable = true)\n",
      " |-- VISIB: double (nullable = true)\n",
      " |-- WDSP: double (nullable = true)\n",
      " |-- MXSPD: double (nullable = true)\n",
      " |-- GUST: double (nullable = true)\n",
      " |-- MAX: double (nullable = true)\n",
      " |-- MIN: double (nullable = true)\n",
      " |-- PRCP: double (nullable = true)\n",
      " |-- SNDP: double (nullable = true)\n",
      " |-- FRSHTT: integer (nullable = true)\n",
      "\n",
      "+-------+-----------------+\n",
      "|summary|             TEMP|\n",
      "+-------+-----------------+\n",
      "|  count|            22601|\n",
      "|   mean|38.10303968850951|\n",
      "| stddev| 14.0785718697824|\n",
      "|    min|            -29.7|\n",
      "|    25%|             29.4|\n",
      "|    50%|             39.0|\n",
      "|    75%|             48.5|\n",
      "|    max|             79.3|\n",
      "+-------+-----------------+\n",
      "\n",
      "+-------+------------------+\n",
      "|summary|              DEWP|\n",
      "+-------+------------------+\n",
      "|  count|             22601|\n",
      "|   mean| 667.6748816424214|\n",
      "| stddev|2436.3319845430606|\n",
      "|    min|             -36.1|\n",
      "|    25%|              23.8|\n",
      "|    50%|              34.0|\n",
      "|    75%|              43.9|\n",
      "|    max|            9999.9|\n",
      "+-------+------------------+\n",
      "\n",
      "+-------+-----------------+\n",
      "|summary|              SLP|\n",
      "+-------+-----------------+\n",
      "|  count|            22601|\n",
      "|   mean|6580.719361976253|\n",
      "| stddev|4364.410122020102|\n",
      "|    min|            961.0|\n",
      "|    25%|           1015.3|\n",
      "|    50%|           9999.9|\n",
      "|    75%|           9999.9|\n",
      "|    max|           9999.9|\n",
      "+-------+-----------------+\n",
      "\n",
      "+-------+-----------------+\n",
      "|summary|              STP|\n",
      "+-------+-----------------+\n",
      "|  count|            22601|\n",
      "|   mean|765.3473917084528|\n",
      "| stddev|417.1009940638588|\n",
      "|    min|              0.0|\n",
      "|    25%|            942.2|\n",
      "|    50%|            999.9|\n",
      "|    75%|            999.9|\n",
      "|    max|            999.9|\n",
      "+-------+-----------------+\n",
      "\n",
      "+-------+------------------+\n",
      "|summary|             VISIB|\n",
      "+-------+------------------+\n",
      "|  count|             22601|\n",
      "|   mean|453.61675589582114|\n",
      "| stddev|493.62063086378316|\n",
      "|    min|               0.2|\n",
      "|    25%|               6.2|\n",
      "|    50%|               9.3|\n",
      "|    75%|             999.9|\n",
      "|    max|             999.9|\n",
      "+-------+------------------+\n",
      "\n",
      "+-------+------------------+\n",
      "|summary|              WDSP|\n",
      "+-------+------------------+\n",
      "|  count|             22601|\n",
      "|   mean| 75.95578514225029|\n",
      "| stddev|244.78094093396595|\n",
      "|    min|               0.0|\n",
      "|    25%|               5.7|\n",
      "|    50%|              10.1|\n",
      "|    75%|              16.8|\n",
      "|    max|             999.9|\n",
      "+-------+------------------+\n",
      "\n",
      "+-------+------------------+\n",
      "|summary|             MXSPD|\n",
      "+-------+------------------+\n",
      "|  count|             22601|\n",
      "|   mean| 82.47690810141215|\n",
      "| stddev|244.18290125883763|\n",
      "|    min|               0.4|\n",
      "|    25%|              10.7|\n",
      "|    50%|              16.9|\n",
      "|    75%|              25.1|\n",
      "|    max|             999.9|\n",
      "+-------+------------------+\n",
      "\n",
      "+-------+------------------+\n",
      "|summary|              GUST|\n",
      "+-------+------------------+\n",
      "|  count|             22601|\n",
      "|   mean| 324.6274943586799|\n",
      "| stddev|449.53295992417105|\n",
      "|    min|               9.7|\n",
      "|    25%|              19.8|\n",
      "|    50%|              30.5|\n",
      "|    75%|             999.9|\n",
      "|    max|             999.9|\n",
      "+-------+------------------+\n",
      "\n",
      "+-------+-----------------+\n",
      "|summary|              MAX|\n",
      "+-------+-----------------+\n",
      "|  count|            22601|\n",
      "|   mean|78.20655723198117|\n",
      "| stddev|595.2221222496755|\n",
      "|    min|            -22.4|\n",
      "|    25%|             33.4|\n",
      "|    50%|             42.8|\n",
      "|    75%|             52.5|\n",
      "|    max|           9999.9|\n",
      "+-------+-----------------+\n",
      "\n",
      "+-------+-----------------+\n",
      "|summary|              MIN|\n",
      "+-------+-----------------+\n",
      "|  count|            22601|\n",
      "|   mean| 63.6477324012211|\n",
      "| stddev|550.0617786722054|\n",
      "|    min|            -33.3|\n",
      "|    25%|             24.8|\n",
      "|    50%|             34.9|\n",
      "|    75%|             44.6|\n",
      "|    max|           9999.9|\n",
      "+-------+-----------------+\n",
      "\n",
      "+-------+-----------------+\n",
      "|summary|             PRCP|\n",
      "+-------+-----------------+\n",
      "|  count|            22601|\n",
      "|   mean|30.46266050174588|\n",
      "| stddev|45.98208713083976|\n",
      "|    min|              0.0|\n",
      "|    25%|              0.0|\n",
      "|    50%|              0.0|\n",
      "|    75%|            99.99|\n",
      "|    max|            99.99|\n",
      "+-------+-----------------+\n",
      "\n",
      "+-------+------------------+\n",
      "|summary|              SNDP|\n",
      "+-------+------------------+\n",
      "|  count|             22601|\n",
      "|   mean| 948.1612362286069|\n",
      "| stddev|220.18555733674444|\n",
      "|    min|               0.4|\n",
      "|    25%|             999.9|\n",
      "|    50%|             999.9|\n",
      "|    75%|             999.9|\n",
      "|    max|             999.9|\n",
      "+-------+------------------+\n",
      "\n",
      "+-------+-----------------+\n",
      "|summary|           FRSHTT|\n",
      "+-------+-----------------+\n",
      "|  count|            22601|\n",
      "|   mean|7242.978629264192|\n",
      "| stddev|21136.62641143516|\n",
      "|    min|                0|\n",
      "|    25%|                0|\n",
      "|    50%|                0|\n",
      "|    75%|            10000|\n",
      "|    max|           111100|\n",
      "+-------+-----------------+\n",
      "\n"
     ]
    },
    {
     "data": {
      "text/plain": [
       "'\\nfor cl in columns:\\n    df_clean.describe(cl).show()\\n\\n\\nfor cl in columns:\\n    df_clean.select(cl).distinct().show(10)\\n'"
      ]
     },
     "execution_count": 14,
     "metadata": {},
     "output_type": "execute_result"
    }
   ],
   "source": [
    "df_interest_cols.printSchema()\n",
    "df_clean = df_interest_cols.dropna()\n",
    "[df_interest_cols.count(), df_clean.count()]\n",
    "\n",
    "columns = df_clean.columns\n",
    "    \n",
    "for cl in df_clean.columns: \n",
    "    df_clean.select(cl).summary().show()\n",
    "    \n",
    "\"\"\"\n",
    "for cl in columns:\n",
    "    df_clean.describe(cl).show()\n",
    "\n",
    "\n",
    "for cl in columns:\n",
    "    df_clean.select(cl).distinct().show(10)\n",
    "\"\"\"\n"
   ]
  },
  {
   "cell_type": "code",
   "execution_count": 17,
   "id": "e9a4aa2c-d3ec-4e61-9ce9-4852cb5eb232",
   "metadata": {},
   "outputs": [
    {
     "data": {
      "image/png": "[encoded data removed]",
      "text/plain": [
       "<Figure size 432x288 with 1 Axes>"
      ]
     },
     "metadata": {
      "needs_background": "light"
     },
     "output_type": "display_data"
    }
   ],
   "source": [
    "df_clean_pd = df_clean.toPandas()\n",
    "temp_median = df_clean_pd['TEMP'].quantile(0.50)\n",
    "df_clean_pd['TEMP'] = np.where(df_clean_pd['TEMP'] < -10, temp_median, df_clean_pd['TEMP'])\n",
    "plt.boxplot(df_clean_pd[\"TEMP\"])\n",
    "plt.show()"
   ]
  },
  {
   "cell_type": "code",
   "execution_count": 18,
   "id": "58d135a4-216b-4a5a-8613-1cb7575530ca",
   "metadata": {},
   "outputs": [
    {
     "data": {
      "image/png": "[encoded data removed]",
      "text/plain": [
       "<Figure size 432x288 with 1 Axes>"
      ]
     },
     "metadata": {
      "needs_background": "light"
     },
     "output_type": "display_data"
    }
   ],
   "source": [
    "dewp_median = df_clean_pd['DEWP'].quantile(0.50)\n",
    "df_clean_pd['DEWP'] = np.where(df_clean_pd['DEWP'] > 100, dewp_median, df_clean_pd['DEWP'])\n",
    "plt.boxplot(df_clean_pd[\"DEWP\"])\n",
    "plt.show()"
   ]
  },
  {
   "cell_type": "code",
   "execution_count": 19,
   "id": "18560f15-563c-42a1-b209-feadcaa69425",
   "metadata": {},
   "outputs": [
    {
     "data": {
      "image/png": "[encoded data removed]",
      "text/plain": [
       "<Figure size 432x288 with 1 Axes>"
      ]
     },
     "metadata": {
      "needs_background": "light"
     },
     "output_type": "display_data"
    }
   ],
   "source": [
    "df_clean_slp_filter = df_clean.filter(df_clean.SLP < 4000).toPandas()\n",
    "dewp_median = df_clean_slp_filter['SLP'].quantile(0.50)\n",
    "df_clean_pd['SLP'] = np.where(df_clean_pd['SLP'] > 4000, dewp_median, df_clean_pd['SLP'])\n",
    "plt.boxplot(df_clean_pd[\"SLP\"])\n",
    "plt.show()"
   ]
  },
  {
   "cell_type": "code",
   "execution_count": null,
   "id": "e41c1fd5",
   "metadata": {},
   "outputs": [],
   "source": []
  },
  {
   "cell_type": "code",
   "execution_count": null,
   "id": "d83e59b6-11e0-481c-9025-143e2a36dd34",
   "metadata": {},
   "outputs": [],
   "source": [
    "\"\"\"\n",
    "double_cols = [x.name for x in df_clean.schema.fields if x.dataType == DoubleType()]\n",
    "df_plot = df_clean.select(double_cols).toPandas()\n",
    "Useful_Visualization_Functions.plotCorrelationMatrix1(df_plot)\n",
    "Useful_Visualization_Functions.plotScatter(df_plot, 'TEMP', 'DEWP', 'TEMP')\n",
    "Useful_Visualization_Functions.plotScatter(df_plot, 'TEMP', 'SLP', 'TEMP')\n",
    "Useful_Visualization_Functions.plotScatter(df_plot, 'TEMP', 'STP', 'STP')\n",
    "Useful_Visualization_Functions.plotScatter(df_plot, 'TEMP', 'VISIB', 'VISIB')\n",
    "Useful_Visualization_Functions.plotScatter(df_plot, 'TEMP', 'WDSP', 'WDSP')\n",
    "Useful_Visualization_Functions.plotScatter(df_plot, 'TEMP', 'MXSPD', 'MXSPD')\n",
    "Useful_Visualization_Functions.plotScatter(df_plot, 'TEMP', 'GUST', 'GUST')\n",
    "df_clean = df_clean.filter(df_clean.DEWP < 100)\n",
    "df_clean.count()\n",
    "df_clean = df_clean.filter(df_clean.SLP < 4000)\n",
    "df_clean.count()\n",
    "df_clean = df_clean.filter(df_clean.STP < 100)\n",
    "df_clean.count()\n",
    "df_clean = df_clean.filter(df_clean.VISIB < 100)\n",
    "df_clean.count()\n",
    "df_clean = df_clean.filter(df_clean.WDSP < 100)\n",
    "df_clean.count()\n",
    "df_clean = df_clean.filter(df_clean.MXSPD < 100)\n",
    "df_clean.count()\n",
    "df_clean = df_clean.filter(df_clean.GUST < 200)\n",
    "df_clean.count()\n",
    "df_clean.select().show(200)\n",
    "\"\"\""
   ]
  },
  {
   "cell_type": "code",
   "execution_count": null,
   "id": "a294e465-8ade-464c-ba17-eed5cfef2d34",
   "metadata": {},
   "outputs": [],
   "source": []
  },
  {
   "cell_type": "code",
   "execution_count": null,
   "id": "55869195-b204-4fe1-b03e-3bdb7d82c3e0",
   "metadata": {},
   "outputs": [],
   "source": []
  },
  {
   "cell_type": "code",
   "execution_count": null,
   "id": "47fd2c1f-3dc7-4730-a71a-7fc3cd3fd1e0",
   "metadata": {},
   "outputs": [],
   "source": []
  },
  {
   "cell_type": "code",
   "execution_count": null,
   "id": "a86801cc-0aa0-475e-95a6-af7c4e89437a",
   "metadata": {},
   "outputs": [],
   "source": []
  },
  {
   "cell_type": "code",
   "execution_count": null,
   "id": "ee0018f6-6c8e-4bdc-b440-7663176a97e4",
   "metadata": {},
   "outputs": [],
   "source": []
  },
  {
   "cell_type": "code",
   "execution_count": null,
   "id": "d8f4e320-fc29-4d69-922d-f44f2874a195",
   "metadata": {},
   "outputs": [],
   "source": []
  },
  {
   "cell_type": "code",
   "execution_count": null,
   "id": "3d37cfbd-01ad-4629-9f99-449f5fa8c16f",
   "metadata": {},
   "outputs": [],
   "source": []
  },
  {
   "cell_type": "code",
   "execution_count": null,
   "id": "a68df452-3cac-46da-9c13-a602ba3d4f49",
   "metadata": {},
   "outputs": [],
   "source": []
  }
 ],
 "metadata": {
  "kernelspec": {
   "display_name": "Python 3 (ipykernel)",
   "language": "python",
   "name": "python3"
  },
  "language_info": {
   "codemirror_mode": {
    "name": "ipython",
    "version": 3
   },
   "file_extension": ".py",
   "mimetype": "text/x-python",
   "name": "python",
   "nbconvert_exporter": "python",
   "pygments_lexer": "ipython3",
   "version": "3.8.10"
  }
 },
 "nbformat": 4,
 "nbformat_minor": 5
}
