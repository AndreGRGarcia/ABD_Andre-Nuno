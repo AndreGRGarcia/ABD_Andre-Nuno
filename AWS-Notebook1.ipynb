{
 "cells": [
  {
   "cell_type": "code",
   "execution_count": 179,
   "id": "e9d0be34",
   "metadata": {},
   "outputs": [],
   "source": [
    "import os \n",
    "\n",
    "import numpy as np \n",
    "import pandas as pd  \n",
    "import matplotlib.pyplot as plt\n",
    "import seaborn as sns\n",
    "import warnings\n",
    "import nbimporter\n",
    "import Useful_Visualization_Functions\n",
    "from pyspark.ml import *\n",
    "from pyspark.sql import *\n",
    "from pyspark.ml.classification import LinearSVC\n",
    "from pyspark.ml.evaluation import BinaryClassificationEvaluator\n",
    "\"\"\"\n",
    "from pyspark.ml import Pipeline\n",
    "from pyspark.ml.stat import Correlation\n",
    "from pyspark.ml.feature import Imputer, VectorAssembler\n",
    "from pyspark.ml.regression import LinearRegression\n",
    "from pyspark.ml.evaluation import RegressionEvaluator\n",
    "from pyspark.sql.types import *\n",
    "from pyspark.sql.functions import *\n",
    "\"\"\"\n",
    "warnings.filterwarnings(\"ignore\")\n",
    "import pyspark.sql.functions as F"
   ]
  },
  {
   "cell_type": "code",
   "execution_count": 125,
   "id": "387b62b3",
   "metadata": {},
   "outputs": [],
   "source": [
    "# from pyspark.sql import SparkSession\n",
    "# from pyspark.sql import Row\n",
    "# from pyspark.sql.functions import lit, col, column, expr, desc, asc"
   ]
  },
  {
   "cell_type": "code",
   "execution_count": 126,
   "id": "a8da508b",
   "metadata": {},
   "outputs": [],
   "source": [
    "# ! pip install matplotlib\n",
    "# ! pip install seaborn\n",
    "# ! pip install ipynb\n",
    "# ! pip install nbimporter"
   ]
  },
  {
   "cell_type": "code",
   "execution_count": 127,
   "id": "0e5c799b",
   "metadata": {},
   "outputs": [],
   "source": [
    "# build our own SparkSession\n",
    "myspark = SparkSession\\\n",
    "    .builder\\\n",
    "    .appName(\"AWS-Spark\")\\\n",
    "    .config(\"spark.driver.memory\", \"15g\") \\\n",
    "    .config(\"spark.sql.shuffle.partitions\",6)\\\n",
    "    .config(\"spark.sql.repl.eagereval.enabled\",True)\\\n",
    "    .getOrCreate()"
   ]
  },
  {
   "cell_type": "code",
   "execution_count": 128,
   "id": "42d2d3be",
   "metadata": {},
   "outputs": [
    {
     "data": {
      "text/html": [
       "\n",
       "            <div>\n",
       "                <p><b>SparkSession - in-memory</b></p>\n",
       "                \n",
       "        <div>\n",
       "            <p><b>SparkContext</b></p>\n",
       "\n",
       "            <p><a href=\"http://172.20.10.2:4040\">Spark UI</a></p>\n",
       "\n",
       "            <dl>\n",
       "              <dt>Version</dt>\n",
       "                <dd><code>v3.2.1</code></dd>\n",
       "              <dt>Master</dt>\n",
       "                <dd><code>local[*]</code></dd>\n",
       "              <dt>AppName</dt>\n",
       "                <dd><code>AWS-Spark</code></dd>\n",
       "            </dl>\n",
       "        </div>\n",
       "        \n",
       "            </div>\n",
       "        "
      ],
      "text/plain": [
       "<pyspark.sql.session.SparkSession at 0x7f77a3969970>"
      ]
     },
     "execution_count": 128,
     "metadata": {},
     "output_type": "execute_result"
    }
   ],
   "source": [
    "myspark"
   ]
  },
  {
   "cell_type": "code",
   "execution_count": 129,
   "id": "12e89599",
   "metadata": {},
   "outputs": [
    {
     "data": {
      "text/plain": [
       "22601"
      ]
     },
     "execution_count": 129,
     "metadata": {},
     "output_type": "execute_result"
    }
   ],
   "source": [
    "# ! head noaa.csv\n",
    "# noaa_data.show(10)\n",
    "noaa_data = myspark.read.load(\"noaa.csv\", format=\"csv\", sep=\",\", header=True, inferSchema=True)\n",
    "noaa_data.count()"
   ]
  },
  {
   "cell_type": "code",
   "execution_count": 130,
   "id": "277aed05",
   "metadata": {},
   "outputs": [],
   "source": [
    "# noaa_data.show(10)"
   ]
  },
  {
   "cell_type": "code",
   "execution_count": 131,
   "id": "82911c09",
   "metadata": {},
   "outputs": [],
   "source": [
    "# temp_filt = (noaa_data.filter(noaa_data.ELEVATION <= 5))\n",
    "# temp_filt.count()"
   ]
  },
  {
   "cell_type": "code",
   "execution_count": 132,
   "id": "f43d04d1",
   "metadata": {
    "scrolled": true
   },
   "outputs": [],
   "source": [
    "#latitude_order = noaa_data.orderBy(\"LATITUDE\", ascending=False)\n",
    "#latitude_order.show(10)"
   ]
  },
  {
   "cell_type": "code",
   "execution_count": 133,
   "id": "d31b3512",
   "metadata": {
    "scrolled": true
   },
   "outputs": [
    {
     "name": "stdout",
     "output_type": "stream",
     "text": [
      "root\n",
      " |-- STATION: integer (nullable = true)\n",
      " |-- DATE: string (nullable = true)\n",
      " |-- LATITUDE: double (nullable = true)\n",
      " |-- LONGITUDE: double (nullable = true)\n",
      " |-- ELEVATION: double (nullable = true)\n",
      " |-- NAME: string (nullable = true)\n",
      " |-- TEMP: double (nullable = true)\n",
      " |-- TEMP_ATTRIBUTES: double (nullable = true)\n",
      " |-- DEWP: double (nullable = true)\n",
      " |-- DEWP_ATTRIBUTES: double (nullable = true)\n",
      " |-- SLP: double (nullable = true)\n",
      " |-- SLP_ATTRIBUTES: double (nullable = true)\n",
      " |-- STP: double (nullable = true)\n",
      " |-- STP_ATTRIBUTES: double (nullable = true)\n",
      " |-- VISIB: double (nullable = true)\n",
      " |-- VISIB_ATTRIBUTES: double (nullable = true)\n",
      " |-- WDSP: double (nullable = true)\n",
      " |-- WDSP_ATTRIBUTES: double (nullable = true)\n",
      " |-- MXSPD: double (nullable = true)\n",
      " |-- GUST: double (nullable = true)\n",
      " |-- MAX: double (nullable = true)\n",
      " |-- MAX_ATTRIBUTES: string (nullable = true)\n",
      " |-- MIN: double (nullable = true)\n",
      " |-- MIN_ATTRIBUTES: string (nullable = true)\n",
      " |-- PRCP: double (nullable = true)\n",
      " |-- PRCP_ATTRIBUTES: string (nullable = true)\n",
      " |-- SNDP: double (nullable = true)\n",
      " |-- FRSHTT: integer (nullable = true)\n",
      "\n"
     ]
    }
   ],
   "source": [
    "noaa_data.printSchema()"
   ]
  },
  {
   "cell_type": "code",
   "execution_count": 134,
   "id": "20f9f9a4",
   "metadata": {
    "scrolled": true
   },
   "outputs": [
    {
     "name": "stdout",
     "output_type": "stream",
     "text": [
      "+----+---------+-----+\n",
      "|TEMP|ELEVATION|VISIB|\n",
      "+----+---------+-----+\n",
      "|23.4|      9.0| 28.0|\n",
      "|31.5|      9.0|  4.9|\n",
      "|35.0|      9.0|  3.1|\n",
      "|35.4|      9.0|  6.1|\n",
      "|27.5|      9.0| 13.5|\n",
      "|23.6|      9.0|  8.6|\n",
      "|18.7|      9.0|  4.1|\n",
      "|26.9|      9.0|999.9|\n",
      "|31.7|      9.0|  5.9|\n",
      "|32.1|      9.0|  5.4|\n",
      "+----+---------+-----+\n",
      "only showing top 10 rows\n",
      "\n"
     ]
    }
   ],
   "source": [
    "noaa_data.select(\"TEMP\", \"ELEVATION\", \"VISIB\").show(10)"
   ]
  },
  {
   "cell_type": "code",
   "execution_count": 151,
   "id": "69c93883-e0e9-45c1-9213-66e728fbc2a3",
   "metadata": {},
   "outputs": [
    {
     "name": "stdout",
     "output_type": "stream",
     "text": [
      "+----------+----------+----------+----------+---------+--------------------+----+---------------+----+---------------+------+--------------+-----+--------------+-----+----------------+----+---------------+-----+----+----+--------------+----+--------------+-----+---------------+-----+------+--------+\n",
      "|   STATION|      DATE|  LATITUDE| LONGITUDE|ELEVATION|                NAME|TEMP|TEMP_ATTRIBUTES|DEWP|DEWP_ATTRIBUTES|   SLP|SLP_ATTRIBUTES|  STP|STP_ATTRIBUTES|VISIB|VISIB_ATTRIBUTES|WDSP|WDSP_ATTRIBUTES|MXSPD|GUST| MAX|MAX_ATTRIBUTES| MIN|MIN_ATTRIBUTES| PRCP|PRCP_ATTRIBUTES| SNDP|FRSHTT|ItRained|\n",
      "+----------+----------+----------+----------+---------+--------------------+----+---------------+----+---------------+------+--------------+-----+--------------+-----+----------------+----+---------------+-----+----+----+--------------+----+--------------+-----+---------------+-----+------+--------+\n",
      "|1001099999|2021-01-01|70.9333333|-8.6666667|      9.0|JAN MAYEN NOR NAV...|23.4|           24.0|15.7|           24.0|1017.7|          24.0| 16.5|          24.0| 28.0|             6.0|10.9|           24.0| 22.1|39.4|26.2|              |20.1|              | 0.04|              G|999.9|     0|       0|\n",
      "|1001099999|2021-01-02|70.9333333|-8.6666667|      9.0|JAN MAYEN NOR NAV...|31.5|           23.0|30.1|           23.0|1017.4|          23.0| 16.2|          23.0|  4.9|             6.0|12.5|           23.0| 21.6|25.8|33.8|              |20.1|              | 0.06|              G|999.9| 11000|       1|\n",
      "|1001099999|2021-01-03|70.9333333|-8.6666667|      9.0|JAN MAYEN NOR NAV...|35.0|           24.0|34.3|           24.0|1011.4|          24.0| 10.2|          24.0|  3.1|             6.0|12.2|           24.0| 19.0|24.9|39.9|              |32.7|              | 0.11|              G|999.9| 10000|       1|\n",
      "|1001099999|2021-01-04|70.9333333|-8.6666667|      9.0|JAN MAYEN NOR NAV...|35.4|           22.0|29.8|           22.0|1007.6|          22.0|  6.4|          22.0|  6.1|             6.0|23.1|           22.0| 41.4|56.7|37.9|              |33.6|              | 0.01|              G|999.9| 10000|       1|\n",
      "|1001099999|2021-01-05|70.9333333|-8.6666667|      9.0|JAN MAYEN NOR NAV...|27.5|           24.0|19.4|           24.0|1015.1|          24.0| 13.9|          24.0| 13.5|             6.0|12.8|           24.0| 25.1|37.9|35.4|              |21.7|              |  0.0|              G|999.9|  1000|       0|\n",
      "|1001099999|2021-01-06|70.9333333|-8.6666667|      9.0|JAN MAYEN NOR NAV...|23.6|           24.0|16.2|           24.0|1015.1|          24.0| 13.9|          24.0|  8.6|             6.0|17.0|           24.0| 35.0|51.3|25.0|              |21.7|              |99.99|               |999.9|  1000|       0|\n",
      "|1001099999|2021-01-07|70.9333333|-8.6666667|      9.0|JAN MAYEN NOR NAV...|18.7|           24.0|11.7|           24.0|1015.1|          24.0| 13.9|          24.0|  4.1|             6.0|20.7|           24.0| 36.5|56.1|25.5|              |14.4|              | 0.03|              G|999.9|  1000|       0|\n",
      "|1001099999|2021-01-08|70.9333333|-8.6666667|      9.0|JAN MAYEN NOR NAV...|26.9|            8.0|24.9|            8.0|1001.9|           8.0|  0.8|           8.0|999.9|             0.0|12.6|            8.0| 18.3|42.5|32.5|              |17.1|              |  0.0|              G|999.9|  1000|       0|\n",
      "|1001099999|2021-01-09|70.9333333|-8.6666667|      9.0|JAN MAYEN NOR NAV...|31.7|           24.0|30.3|           24.0| 978.9|          24.0|977.8|          24.0|  5.9|             6.0| 8.8|           24.0| 19.2|26.8|34.0|              |26.1|              | 0.23|              G|999.9| 10000|       1|\n",
      "|1001099999|2021-01-10|70.9333333|-8.6666667|      9.0|JAN MAYEN NOR NAV...|32.1|           24.0|29.5|           24.0| 991.6|          24.0|990.4|          24.0|  5.4|             6.0|17.3|           24.0| 26.2|37.1|34.2|              |26.1|              |  0.0|              G|999.9| 11000|       1|\n",
      "+----------+----------+----------+----------+---------+--------------------+----+---------------+----+---------------+------+--------------+-----+--------------+-----+----------------+----+---------------+-----+----+----+--------------+----+--------------+-----+---------------+-----+------+--------+\n",
      "only showing top 10 rows\n",
      "\n"
     ]
    }
   ],
   "source": [
    "\n",
    "\n",
    "noaa_data = noaa_data.withColumn(\"ItRained\", when((F.length(noaa_data[\"FRSHTT\"]) <= 4), lit(0)) \\\n",
    "                    .when(F.length(noaa_data[\"FRSHTT\"]) == 5, lit(1)) \\\n",
    "                    .otherwise(lit(substring('FRSHTT', 2, 1).cast(IntegerType()))) \\\n",
    ")\n",
    "\n",
    "noaa_data.show(10)"
   ]
  },
  {
   "cell_type": "code",
   "execution_count": 152,
   "id": "d54a464c",
   "metadata": {},
   "outputs": [
    {
     "data": {
      "text/plain": [
       "'\\nfor cl in columns:\\n    noaa_data.describe(cl).show()\\n\\nfor cl in columns:\\n    noaa_data.select(cl).distinct().show(10)\\n'"
      ]
     },
     "execution_count": 152,
     "metadata": {},
     "output_type": "execute_result"
    }
   ],
   "source": [
    "\n",
    "columns = noaa_data.columns\n",
    "\"\"\"\n",
    "for cl in columns:\n",
    "    noaa_data.describe(cl).show()\n",
    "\n",
    "for cl in columns:\n",
    "    noaa_data.select(cl).distinct().show(10)\n",
    "\"\"\""
   ]
  },
  {
   "cell_type": "code",
   "execution_count": 153,
   "id": "a52fe125",
   "metadata": {},
   "outputs": [],
   "source": [
    "cols_to_drop = [\"STATION\", \"DATE\", \"LATITUDE\", \"LONGITUDE\", \"ELEVATION\", \"NAME\", \"TEMP_ATTRIBUTES\", \"DEWP_ATTRIBUTES\",\n",
    "               \"SLP_ATTRIBUTES\", \"STP_ATTRIBUTES\", \"VISIB_ATTRIBUTES\", \"WDSP_ATTRIBUTES\", \"MAX_ATTRIBUTES\",\n",
    "               \"MIN_ATTRIBUTES\", \"PRCP_ATTRIBUTES\"]\n",
    "\n",
    "cols_interest = [x for x in columns if x not in cols_to_drop]\n",
    "df_interest_cols = noaa_data.select(cols_interest)"
   ]
  },
  {
   "cell_type": "markdown",
   "id": "845fa6f5",
   "metadata": {},
   "source": [
    "### Data cleansing"
   ]
  },
  {
   "cell_type": "code",
   "execution_count": 154,
   "id": "3a9de037",
   "metadata": {
    "scrolled": true
   },
   "outputs": [
    {
     "name": "stdout",
     "output_type": "stream",
     "text": [
      "root\n",
      " |-- TEMP: double (nullable = true)\n",
      " |-- DEWP: double (nullable = true)\n",
      " |-- SLP: double (nullable = true)\n",
      " |-- STP: double (nullable = true)\n",
      " |-- VISIB: double (nullable = true)\n",
      " |-- WDSP: double (nullable = true)\n",
      " |-- MXSPD: double (nullable = true)\n",
      " |-- GUST: double (nullable = true)\n",
      " |-- MAX: double (nullable = true)\n",
      " |-- MIN: double (nullable = true)\n",
      " |-- PRCP: double (nullable = true)\n",
      " |-- SNDP: double (nullable = true)\n",
      " |-- FRSHTT: integer (nullable = true)\n",
      " |-- ItRained: integer (nullable = true)\n",
      "\n",
      "+-------+-----------------+\n",
      "|summary|             TEMP|\n",
      "+-------+-----------------+\n",
      "|  count|            22601|\n",
      "|   mean|38.10303968850951|\n",
      "| stddev| 14.0785718697824|\n",
      "|    min|            -29.7|\n",
      "|    25%|             29.4|\n",
      "|    50%|             39.0|\n",
      "|    75%|             48.5|\n",
      "|    max|             79.3|\n",
      "+-------+-----------------+\n",
      "\n",
      "+-------+------------------+\n",
      "|summary|              DEWP|\n",
      "+-------+------------------+\n",
      "|  count|             22601|\n",
      "|   mean| 667.6748816424214|\n",
      "| stddev|2436.3319845430606|\n",
      "|    min|             -36.1|\n",
      "|    25%|              23.8|\n",
      "|    50%|              34.0|\n",
      "|    75%|              43.9|\n",
      "|    max|            9999.9|\n",
      "+-------+------------------+\n",
      "\n",
      "+-------+-----------------+\n",
      "|summary|              SLP|\n",
      "+-------+-----------------+\n",
      "|  count|            22601|\n",
      "|   mean|6580.719361976253|\n",
      "| stddev|4364.410122020102|\n",
      "|    min|            961.0|\n",
      "|    25%|           1015.3|\n",
      "|    50%|           9999.9|\n",
      "|    75%|           9999.9|\n",
      "|    max|           9999.9|\n",
      "+-------+-----------------+\n",
      "\n",
      "+-------+-----------------+\n",
      "|summary|              STP|\n",
      "+-------+-----------------+\n",
      "|  count|            22601|\n",
      "|   mean|765.3473917084528|\n",
      "| stddev|417.1009940638588|\n",
      "|    min|              0.0|\n",
      "|    25%|            942.2|\n",
      "|    50%|            999.9|\n",
      "|    75%|            999.9|\n",
      "|    max|            999.9|\n",
      "+-------+-----------------+\n",
      "\n",
      "+-------+------------------+\n",
      "|summary|             VISIB|\n",
      "+-------+------------------+\n",
      "|  count|             22601|\n",
      "|   mean|453.61675589582114|\n",
      "| stddev|493.62063086378316|\n",
      "|    min|               0.2|\n",
      "|    25%|               6.2|\n",
      "|    50%|               9.3|\n",
      "|    75%|             999.9|\n",
      "|    max|             999.9|\n",
      "+-------+------------------+\n",
      "\n",
      "+-------+------------------+\n",
      "|summary|              WDSP|\n",
      "+-------+------------------+\n",
      "|  count|             22601|\n",
      "|   mean| 75.95578514225029|\n",
      "| stddev|244.78094093396595|\n",
      "|    min|               0.0|\n",
      "|    25%|               5.7|\n",
      "|    50%|              10.1|\n",
      "|    75%|              16.8|\n",
      "|    max|             999.9|\n",
      "+-------+------------------+\n",
      "\n",
      "+-------+------------------+\n",
      "|summary|             MXSPD|\n",
      "+-------+------------------+\n",
      "|  count|             22601|\n",
      "|   mean| 82.47690810141215|\n",
      "| stddev|244.18290125883763|\n",
      "|    min|               0.4|\n",
      "|    25%|              10.7|\n",
      "|    50%|              16.9|\n",
      "|    75%|              25.1|\n",
      "|    max|             999.9|\n",
      "+-------+------------------+\n",
      "\n",
      "+-------+------------------+\n",
      "|summary|              GUST|\n",
      "+-------+------------------+\n",
      "|  count|             22601|\n",
      "|   mean| 324.6274943586799|\n",
      "| stddev|449.53295992417105|\n",
      "|    min|               9.7|\n",
      "|    25%|              19.8|\n",
      "|    50%|              30.5|\n",
      "|    75%|             999.9|\n",
      "|    max|             999.9|\n",
      "+-------+------------------+\n",
      "\n",
      "+-------+-----------------+\n",
      "|summary|              MAX|\n",
      "+-------+-----------------+\n",
      "|  count|            22601|\n",
      "|   mean|78.20655723198117|\n",
      "| stddev|595.2221222496755|\n",
      "|    min|            -22.4|\n",
      "|    25%|             33.4|\n",
      "|    50%|             42.8|\n",
      "|    75%|             52.5|\n",
      "|    max|           9999.9|\n",
      "+-------+-----------------+\n",
      "\n",
      "+-------+-----------------+\n",
      "|summary|              MIN|\n",
      "+-------+-----------------+\n",
      "|  count|            22601|\n",
      "|   mean| 63.6477324012211|\n",
      "| stddev|550.0617786722054|\n",
      "|    min|            -33.3|\n",
      "|    25%|             24.8|\n",
      "|    50%|             34.9|\n",
      "|    75%|             44.6|\n",
      "|    max|           9999.9|\n",
      "+-------+-----------------+\n",
      "\n",
      "+-------+-----------------+\n",
      "|summary|             PRCP|\n",
      "+-------+-----------------+\n",
      "|  count|            22601|\n",
      "|   mean|30.46266050174588|\n",
      "| stddev|45.98208713083976|\n",
      "|    min|              0.0|\n",
      "|    25%|              0.0|\n",
      "|    50%|              0.0|\n",
      "|    75%|            99.99|\n",
      "|    max|            99.99|\n",
      "+-------+-----------------+\n",
      "\n",
      "+-------+------------------+\n",
      "|summary|              SNDP|\n",
      "+-------+------------------+\n",
      "|  count|             22601|\n",
      "|   mean| 948.1612362286069|\n",
      "| stddev|220.18555733674444|\n",
      "|    min|               0.4|\n",
      "|    25%|             999.9|\n",
      "|    50%|             999.9|\n",
      "|    75%|             999.9|\n",
      "|    max|             999.9|\n",
      "+-------+------------------+\n",
      "\n",
      "+-------+-----------------+\n",
      "|summary|           FRSHTT|\n",
      "+-------+-----------------+\n",
      "|  count|            22601|\n",
      "|   mean|7242.978629264192|\n",
      "| stddev|21136.62641143516|\n",
      "|    min|                0|\n",
      "|    25%|                0|\n",
      "|    50%|                0|\n",
      "|    75%|            10000|\n",
      "|    max|           111100|\n",
      "+-------+-----------------+\n",
      "\n",
      "+-------+-------------------+\n",
      "|summary|           ItRained|\n",
      "+-------+-------------------+\n",
      "|  count|              22601|\n",
      "|   mean|0.29286314764833415|\n",
      "| stddev| 0.4550862422261583|\n",
      "|    min|                  0|\n",
      "|    25%|                  0|\n",
      "|    50%|                  0|\n",
      "|    75%|                  1|\n",
      "|    max|                  1|\n",
      "+-------+-------------------+\n",
      "\n"
     ]
    },
    {
     "data": {
      "text/plain": [
       "'\\nfor cl in columns:\\n    df_clean.describe(cl).show()\\n\\n\\nfor cl in columns:\\n    df_clean.select(cl).distinct().show(10)\\n'"
      ]
     },
     "execution_count": 154,
     "metadata": {},
     "output_type": "execute_result"
    }
   ],
   "source": [
    "df_interest_cols.printSchema()\n",
    "df_clean = df_interest_cols.dropna()\n",
    "[df_interest_cols.count(), df_clean.count()]\n",
    "\n",
    "columns = df_clean.columns\n",
    "    \n",
    "for cl in df_clean.columns: \n",
    "    df_clean.select(cl).summary().show()\n",
    "    \n",
    "\"\"\"\n",
    "for cl in columns:\n",
    "    df_clean.describe(cl).show()\n",
    "\n",
    "\n",
    "for cl in columns:\n",
    "    df_clean.select(cl).distinct().show(10)\n",
    "\"\"\"\n"
   ]
  },
  {
   "cell_type": "code",
   "execution_count": 155,
   "id": "e9a4aa2c-d3ec-4e61-9ce9-4852cb5eb232",
   "metadata": {},
   "outputs": [
    {
     "data": {
      "image/png": "[encoded data removed]",
      "text/plain": [
       "<Figure size 432x288 with 1 Axes>"
      ]
     },
     "metadata": {
      "needs_background": "light"
     },
     "output_type": "display_data"
    },
    {
     "data": {
      "image/png": "[encoded data removed]",
      "text/plain": [
       "<Figure size 432x288 with 1 Axes>"
      ]
     },
     "metadata": {
      "needs_background": "light"
     },
     "output_type": "display_data"
    },
    {
     "data": {
      "image/png": "[encoded data removed]",
      "text/plain": [
       "<Figure size 432x288 with 1 Axes>"
      ]
     },
     "metadata": {
      "needs_background": "light"
     },
     "output_type": "display_data"
    },
    {
     "data": {
      "image/png": "[encoded data removed]",
      "text/plain": [
       "<Figure size 432x288 with 1 Axes>"
      ]
     },
     "metadata": {
      "needs_background": "light"
     },
     "output_type": "display_data"
    },
    {
     "data": {
      "image/png": "[encoded data removed]",
      "text/plain": [
       "<Figure size 432x288 with 1 Axes>"
      ]
     },
     "metadata": {
      "needs_background": "light"
     },
     "output_type": "display_data"
    },
    {
     "data": {
      "image/png": "[encoded data removed]",
      "text/plain": [
       "<Figure size 432x288 with 1 Axes>"
      ]
     },
     "metadata": {
      "needs_background": "light"
     },
     "output_type": "display_data"
    },
    {
     "data": {
      "image/png": "[encoded data removed]",
      "text/plain": [
       "<Figure size 432x288 with 1 Axes>"
      ]
     },
     "metadata": {
      "needs_background": "light"
     },
     "output_type": "display_data"
    },
    {
     "data": {
      "image/png": "[encoded data removed]",
      "text/plain": [
       "<Figure size 432x288 with 1 Axes>"
      ]
     },
     "metadata": {
      "needs_background": "light"
     },
     "output_type": "display_data"
    },
    {
     "data": {
      "image/png": "[encoded data removed]",
      "text/plain": [
       "<Figure size 432x288 with 1 Axes>"
      ]
     },
     "metadata": {
      "needs_background": "light"
     },
     "output_type": "display_data"
    },
    {
     "data": {
      "image/png": "[encoded data removed]",
      "text/plain": [
       "<Figure size 432x288 with 1 Axes>"
      ]
     },
     "metadata": {
      "needs_background": "light"
     },
     "output_type": "display_data"
    },
    {
     "data": {
      "image/png": "[encoded data removed]",
      "text/plain": [
       "<Figure size 432x288 with 1 Axes>"
      ]
     },
     "metadata": {
      "needs_background": "light"
     },
     "output_type": "display_data"
    },
    {
     "data": {
      "image/png": "[encoded data removed]",
      "text/plain": [
       "<Figure size 432x288 with 1 Axes>"
      ]
     },
     "metadata": {
      "needs_background": "light"
     },
     "output_type": "display_data"
    }
   ],
   "source": [
    "df_clean_pd = df_clean.toPandas()\n",
    "\n",
    "temp_median = df_clean_pd['TEMP'].quantile(0.50)\n",
    "df_clean_pd['TEMP'] = np.where(df_clean_pd['TEMP'] < -10, temp_median, df_clean_pd['TEMP'])\n",
    "plt.boxplot(df_clean_pd[\"TEMP\"])\n",
    "plt.show()\n",
    "\n",
    "dewp_median = df_clean_pd['DEWP'].quantile(0.50)\n",
    "df_clean_pd['DEWP'] = np.where(df_clean_pd['DEWP'] > 100, dewp_median, df_clean_pd['DEWP'])\n",
    "plt.boxplot(df_clean_pd[\"DEWP\"])\n",
    "plt.show()\n",
    "\n",
    "df_clean_slp_filter = df_clean.filter(df_clean.SLP < 4000).toPandas()\n",
    "slp_median = df_clean_slp_filter['SLP'].quantile(0.50)\n",
    "df_clean_pd['SLP'] = np.where(df_clean_pd['SLP'] > 4000, slp_median, df_clean_pd['SLP'])\n",
    "plt.boxplot(df_clean_pd[\"SLP\"])\n",
    "plt.show()\n",
    "\n",
    "df_clean_stp_filter = df_clean.filter(df_clean.STP < 100).toPandas()\n",
    "stp_median = df_clean_stp_filter['STP'].quantile(0.50)\n",
    "df_clean_pd['STP'] = np.where(df_clean_pd['STP'] > 100, stp_median, df_clean_pd['STP'])\n",
    "plt.boxplot(df_clean_pd[\"STP\"])\n",
    "plt.show()\n",
    "\n",
    "df_clean_visib_filter = df_clean.filter(df_clean.VISIB < 100).toPandas()\n",
    "visib_median = df_clean_visib_filter['VISIB'].quantile(0.50)\n",
    "df_clean_pd['VISIB'] = np.where(df_clean_pd['VISIB'] > 100, visib_median, df_clean_pd['VISIB'])\n",
    "plt.boxplot(df_clean_pd[\"VISIB\"])\n",
    "plt.show()\n",
    "\n",
    "df_clean_wdsp_filter = df_clean.filter(df_clean.WDSP < 100).toPandas()\n",
    "wdsp_median = df_clean_wdsp_filter['WDSP'].quantile(0.50)\n",
    "df_clean_pd['WDSP'] = np.where(df_clean_pd['WDSP'] > 100, wdsp_median, df_clean_pd['WDSP'])\n",
    "plt.boxplot(df_clean_pd[\"WDSP\"])\n",
    "plt.show()\n",
    "\n",
    "df_clean_mxspd_filter = df_clean.filter(df_clean.MXSPD < 100).toPandas()\n",
    "mxspd_median = df_clean_mxspd_filter['MXSPD'].quantile(0.50)\n",
    "df_clean_pd['MXSPD'] = np.where(df_clean_pd['MXSPD'] > 100, mxspd_median, df_clean_pd['MXSPD'])\n",
    "plt.boxplot(df_clean_pd[\"MXSPD\"])\n",
    "plt.show()\n",
    "\n",
    "df_clean_gust_filter = df_clean.filter(df_clean.GUST < 100).toPandas()\n",
    "gust_median = df_clean_gust_filter['GUST'].quantile(0.50)\n",
    "df_clean_pd['GUST'] = np.where(df_clean_pd['GUST'] > 100, gust_median, df_clean_pd['GUST'])\n",
    "plt.boxplot(df_clean_pd[\"GUST\"])\n",
    "plt.show()\n",
    "\n",
    "df_clean_max_filter = df_clean.filter(df_clean.MAX < 100).toPandas()\n",
    "max_median = df_clean_max_filter['MAX'].quantile(0.50)\n",
    "df_clean_pd['MAX'] = np.where((df_clean_pd['MAX'] < 100) & (df_clean_pd['MAX'] > -10), df_clean_pd['MAX'], max_median)\n",
    "plt.boxplot(df_clean_pd[\"MAX\"])\n",
    "plt.show()\n",
    "\n",
    "df_clean_min_filter = df_clean.filter(df_clean.MIN < 100).toPandas()\n",
    "min_median = df_clean_max_filter['MIN'].quantile(0.50)\n",
    "df_clean_pd['MIN'] = np.where((df_clean_pd['MIN'] < 100) & (df_clean_pd['MIN'] > -10), df_clean_pd['MIN'], min_median)\n",
    "plt.boxplot(df_clean_pd[\"MIN\"])\n",
    "plt.show()\n",
    "\n",
    "df_clean_prcp_filter = df_clean.filter(df_clean.PRCP < 100).toPandas()\n",
    "prcp_median = df_clean_prcp_filter['PRCP'].quantile(0.50)\n",
    "df_clean_pd['PRCP'] = np.where(df_clean_pd['PRCP'] > 50, prcp_median, df_clean_pd['PRCP'])\n",
    "plt.boxplot(df_clean_pd[\"PRCP\"])\n",
    "plt.show()\n",
    "\n",
    "df_clean_sndp_filter = df_clean.filter(df_clean.SNDP < 100).toPandas()\n",
    "sndp_median = df_clean_sndp_filter['SNDP'].quantile(0.50)\n",
    "df_clean_pd['SNDP'] = np.where(df_clean_pd['SNDP'] > 200, sndp_median, df_clean_pd['SNDP'])\n",
    "plt.boxplot(df_clean_pd[\"SNDP\"])\n",
    "plt.show()"
   ]
  },
  {
   "cell_type": "code",
   "execution_count": 156,
   "id": "e5cef332-5849-4d80-ba33-c4edaa8aa1a4",
   "metadata": {},
   "outputs": [
    {
     "name": "stdout",
     "output_type": "stream",
     "text": [
      "There are 18133 rows in the training set and 4468 in the test set\n"
     ]
    }
   ],
   "source": [
    "df_clean = myspark.createDataFrame(df_clean_pd)\n",
    "df_train, df_test = df_clean.randomSplit([0.8,0.2], seed = 42)\n",
    "df_train.cache()\n",
    "print(f\"There are {df_train.count()} rows in the training set and {df_test.count()} in the test set\")"
   ]
  },
  {
   "cell_type": "code",
   "execution_count": 200,
   "id": "6883501f-c09a-4204-822f-ade89542085f",
   "metadata": {},
   "outputs": [
    {
     "name": "stdout",
     "output_type": "stream",
     "text": [
      "+--------------------+--------+----------+\n",
      "|            features|ItRained|prediction|\n",
      "+--------------------+--------+----------+\n",
      "|[44.4,37.6,1010.8...|       1|       1.0|\n",
      "|[33.0,24.0,1010.8...|       1|       1.0|\n",
      "|[55.0,46.3,1010.8...|       1|       1.0|\n",
      "|[47.5,38.7,1010.8...|       1|       1.0|\n",
      "|[44.2,37.6,1010.8...|       1|       1.0|\n",
      "|[48.1,45.4,1010.8...|       1|       1.0|\n",
      "|[46.0,43.5,1010.8...|       1|       1.0|\n",
      "|[54.9,51.9,1010.8...|       1|       1.0|\n",
      "|[60.8,56.0,1010.8...|       0|       1.0|\n",
      "|[50.6,42.0,1010.8...|       1|       1.0|\n",
      "|[26.2,19.4,1010.8...|       0|       1.0|\n",
      "|[52.4,51.2,1010.8...|       1|       1.0|\n",
      "|[40.2,34.0,1010.8...|       0|       1.0|\n",
      "|[44.5,41.8,1010.8...|       1|       1.0|\n",
      "|[40.5,32.0,1010.8...|       1|       1.0|\n",
      "|[41.7,30.7,1010.8...|       1|       1.0|\n",
      "|[43.2,38.5,1010.8...|       1|       1.0|\n",
      "|[54.1,49.4,1010.8...|       1|       1.0|\n",
      "|[48.4,46.2,1010.8...|       1|       1.0|\n",
      "|[49.1,45.5,1010.8...|       1|       1.0|\n",
      "|[58.4,56.6,1010.8...|       1|       1.0|\n",
      "|[45.2,39.6,1010.8...|       0|       1.0|\n",
      "|[45.5,41.1,1010.8...|       1|       1.0|\n",
      "|[50.1,47.5,1010.8...|       1|       1.0|\n",
      "|[32.2,29.8,1010.8...|       0|       1.0|\n",
      "|[41.5,35.5,1010.8...|       1|       1.0|\n",
      "|[41.7,34.2,1010.8...|       1|       1.0|\n",
      "|[43.5,40.3,1010.8...|       1|       1.0|\n",
      "|[44.0,34.2,1010.8...|       1|       1.0|\n",
      "|[50.4,46.3,1010.8...|       1|       1.0|\n",
      "|[43.4,37.9,1010.8...|       1|       1.0|\n",
      "|[54.2,48.6,1010.8...|       0|       1.0|\n",
      "|[38.2,35.1,1010.8...|       0|       1.0|\n",
      "|[55.3,53.8,1010.8...|       1|       1.0|\n",
      "|[56.7,51.0,1010.8...|       1|       1.0|\n",
      "|[36.6,28.2,1010.8...|       1|       1.0|\n",
      "|[48.1,46.0,1010.8...|       1|       1.0|\n",
      "|[42.4,32.7,1010.8...|       1|       1.0|\n",
      "|[45.7,36.1,1010.8...|       1|       1.0|\n",
      "|[52.0,49.0,1010.8...|       1|       1.0|\n",
      "|[53.8,53.7,1010.8...|       1|       1.0|\n",
      "|[54.1,45.6,1010.8...|       1|       1.0|\n",
      "|[48.0,40.2,1010.8...|       1|       1.0|\n",
      "|[54.7,54.0,1010.8...|       1|       1.0|\n",
      "|[48.8,43.8,1010.8...|       1|       1.0|\n",
      "|[56.2,52.9,1010.8...|       0|       1.0|\n",
      "|[57.9,52.4,1010.8...|       0|       1.0|\n",
      "|[49.7,44.7,1010.8...|       1|       1.0|\n",
      "|[60.9,55.7,1010.8...|       0|       1.0|\n",
      "|[42.5,34.5,1010.8...|       1|       1.0|\n",
      "|[35.5,25.0,1010.8...|       1|       1.0|\n",
      "|[42.8,42.0,1010.8...|       1|       1.0|\n",
      "|[51.5,43.1,1010.8...|       1|       1.0|\n",
      "|[43.5,40.7,1010.8...|       1|       1.0|\n",
      "|[53.6,53.6,1010.8...|       1|       1.0|\n",
      "|[50.8,48.1,1010.8...|       1|       1.0|\n",
      "|[46.2,40.9,1010.8...|       1|       1.0|\n",
      "|[53.4,47.8,1010.8...|       1|       1.0|\n",
      "|[53.5,45.5,1010.8...|       1|       1.0|\n",
      "|[46.8,40.2,1010.8...|       1|       1.0|\n",
      "|[53.7,53.4,1010.8...|       1|       1.0|\n",
      "|[54.0,51.6,1010.8...|       1|       1.0|\n",
      "|[46.8,44.3,1010.8...|       1|       1.0|\n",
      "|[54.4,49.7,1010.8...|       1|       1.0|\n",
      "|[54.6,52.4,1010.8...|       0|       1.0|\n",
      "|[47.2,39.8,1010.8...|       1|       1.0|\n",
      "|[54.7,49.2,1010.8...|       1|       1.0|\n",
      "|[39.7,32.9,1010.8...|       1|       1.0|\n",
      "|[54.8,45.9,1010.8...|       1|       1.0|\n",
      "|[47.5,37.9,1010.8...|       1|       1.0|\n",
      "|[55.3,54.3,1010.8...|       1|       1.0|\n",
      "|[55.5,50.6,1010.8...|       1|       1.0|\n",
      "|[48.0,38.8,1010.8...|       1|       1.0|\n",
      "|[55.6,49.7,1010.8...|       1|       1.0|\n",
      "|[55.9,52.1,1010.8...|       1|       1.0|\n",
      "|[48.7,44.1,1010.8...|       0|       1.0|\n",
      "|[56.3,52.1,1010.8...|       1|       1.0|\n",
      "|[57.1,53.0,1010.8...|       0|       1.0|\n",
      "|[49.2,47.2,1010.8...|       1|       1.0|\n",
      "|[57.1,53.4,1010.8...|       1|       1.0|\n",
      "|[37.0,31.5,1010.8...|       1|       1.0|\n",
      "|[57.3,55.6,1010.8...|       1|       1.0|\n",
      "|[49.7,42.7,1010.8...|       1|       1.0|\n",
      "|[57.5,55.8,1010.8...|       1|       1.0|\n",
      "|[54.0,50.7,1010.8...|       1|       1.0|\n",
      "|[57.6,49.9,1010.8...|       0|       1.0|\n",
      "|[50.1,45.1,1010.8...|       1|       1.0|\n",
      "|[57.6,54.9,1010.8...|       1|       1.0|\n",
      "|[54.2,50.8,1010.8...|       1|       1.0|\n",
      "|[50.4,45.7,1010.8...|       1|       1.0|\n",
      "|[40.6,33.5,1010.8...|       0|       1.0|\n",
      "|[44.0,39.5,1010.8...|       1|       1.0|\n",
      "|[45.4,39.2,1010.8...|       1|       1.0|\n",
      "|[50.6,45.7,1010.8...|       1|       1.0|\n",
      "|[40.6,35.5,1010.8...|       1|       1.0|\n",
      "|[44.5,35.1,1010.8...|       1|       1.0|\n",
      "|[39.6,34.8,1010.8...|       1|       1.0|\n",
      "|[50.8,47.5,1010.8...|       1|       1.0|\n",
      "|[50.7,44.6,1010.8...|       1|       1.0|\n",
      "|[32.8,24.9,1010.8...|       1|       1.0|\n",
      "|[51.9,47.8,1010.8...|       1|       1.0|\n",
      "|[51.1,46.9,1010.8...|       1|       1.0|\n",
      "|[52.2,48.3,1010.8...|       1|       1.0|\n",
      "|[44.5,39.8,1010.8...|       1|       1.0|\n",
      "|[46.9,42.4,1010.8...|       1|       1.0|\n",
      "|[51.3,46.2,1010.8...|       1|       1.0|\n",
      "|[43.5,29.8,1010.8...|       1|       1.0|\n",
      "|[54.5,47.7,1010.8...|       1|       1.0|\n",
      "|[42.2,41.1,1010.8...|       1|       1.0|\n",
      "|[51.3,49.0,1010.8...|       1|       1.0|\n",
      "|[40.6,36.3,1010.8...|       1|       1.0|\n",
      "|[44.6,40.8,1010.8...|       1|       1.0|\n",
      "|[56.2,49.8,1010.8...|       0|       1.0|\n",
      "|[51.4,46.0,1010.8...|       1|       1.0|\n",
      "|[57.7,49.7,1010.8...|       0|       1.0|\n",
      "|[38.7,24.7,1010.8...|       1|       1.0|\n",
      "|[45.0,39.0,1010.8...|       1|       1.0|\n",
      "|[51.4,49.9,1010.8...|       1|       1.0|\n",
      "|[50.0,45.6,1010.8...|       1|       1.0|\n",
      "|[44.7,35.3,1010.8...|       1|       1.0|\n",
      "|[50.1,48.6,1010.8...|       1|       1.0|\n",
      "|[51.6,45.4,1010.8...|       0|       1.0|\n",
      "|[50.2,45.0,1010.8...|       1|       1.0|\n",
      "|[39.8,36.4,1010.8...|       1|       1.0|\n",
      "|[50.3,41.5,1010.8...|       1|       1.0|\n",
      "|[51.6,47.9,1010.8...|       1|       1.0|\n",
      "|[40.8,34.8,1010.8...|       1|       1.0|\n",
      "|[45.4,38.3,1010.8...|       1|       1.0|\n",
      "|[51.6,48.9,1010.8...|       1|       1.0|\n",
      "|[51.7,51.5,1010.8...|       1|       1.0|\n",
      "|[53.4,51.3,1010.8...|       1|       1.0|\n",
      "|[46.9,43.3,1010.8...|       1|       1.0|\n",
      "|[50.7,50.4,1010.8...|       1|       1.0|\n",
      "|[51.9,47.2,1010.8...|       1|       1.0|\n",
      "|[45.6,39.5,1010.8...|       1|       1.0|\n",
      "|[51.9,51.4,1010.8...|       1|       1.0|\n",
      "|[52.5,46.3,1010.8...|       1|       1.0|\n",
      "|[41.3,33.3,1010.8...|       1|       1.0|\n",
      "|[46.1,42.2,1010.8...|       1|       1.0|\n",
      "|[53.1,47.7,1010.8...|       1|       1.0|\n",
      "|[37.1,30.4,1010.8...|       0|       1.0|\n",
      "|[39.5,33.3,1010.8...|       1|       1.0|\n",
      "|[53.2,46.3,1010.8...|       1|       1.0|\n",
      "|[45.8,36.7,1010.8...|       0|       1.0|\n",
      "|[39.7,34.2,1010.8...|       1|       0.0|\n",
      "|[24.4,19.1,1010.8...|       0|       0.0|\n",
      "|[26.6,23.0,1010.8...|       0|       0.0|\n",
      "|[39.9,32.7,1010.8...|       1|       0.0|\n",
      "|[26.7,18.4,1010.8...|       1|       0.0|\n",
      "|[31.5,25.0,1010.8...|       0|       0.0|\n",
      "|[39.9,33.6,1010.8...|       1|       0.0|\n",
      "|[27.0,13.7,1010.8...|       0|       0.0|\n",
      "|[28.9,24.3,1010.8...|       1|       0.0|\n",
      "|[31.8,20.3,1010.8...|       1|       0.0|\n",
      "|[32.7,30.2,1010.8...|       1|       0.0|\n",
      "|[24.8,20.5,1010.8...|       0|       0.0|\n",
      "|[27.4,20.9,1010.8...|       0|       0.0|\n",
      "|[27.6,21.1,1010.8...|       0|       0.0|\n",
      "|[28.9,26.0,1010.8...|       0|       0.0|\n",
      "|[29.9,24.5,1010.8...|       1|       0.0|\n",
      "|[31.8,25.1,1010.8...|       1|       0.0|\n",
      "|[32.1,22.4,1010.8...|       1|       0.0|\n",
      "|[32.8,27.7,1010.8...|       1|       0.0|\n",
      "|[33.4,21.0,1010.8...|       1|       0.0|\n",
      "|[26.0,17.8,1010.8...|       0|       0.0|\n",
      "|[26.1,18.4,1010.8...|       0|       0.0|\n",
      "|[40.8,37.8,1010.8...|       1|       0.0|\n",
      "|[41.0,33.3,1010.8...|       1|       0.0|\n",
      "|[27.9,20.3,1010.8...|       1|       0.0|\n",
      "|[28.0,22.6,1010.8...|       0|       0.0|\n",
      "|[29.1,16.9,1010.8...|       0|       0.0|\n",
      "|[30.4,19.0,1010.8...|       0|       0.0|\n",
      "|[30.5,21.6,1010.8...|       1|       0.0|\n",
      "|[31.9,25.7,1010.8...|       0|       0.0|\n",
      "|[32.1,24.3,1010.8...|       1|       0.0|\n",
      "|[32.3,29.4,1010.8...|       1|       0.0|\n",
      "|[33.1,24.1,1010.8...|       0|       0.0|\n",
      "|[33.4,26.9,1010.8...|       0|       0.0|\n",
      "|[33.8,24.1,1010.8...|       1|       0.0|\n",
      "|[40.0,24.4,1010.8...|       0|       0.0|\n",
      "|[40.0,33.3,1010.8...|       1|       0.0|\n",
      "|[40.3,27.6,1010.8...|       1|       0.0|\n",
      "|[26.1,20.4,1010.8...|       0|       0.0|\n",
      "|[40.9,32.8,1010.8...|       1|       0.0|\n",
      "|[41.0,29.2,1010.8...|       1|       0.0|\n",
      "|[41.1,31.6,1010.8...|       1|       0.0|\n",
      "|[41.2,30.0,1010.8...|       1|       0.0|\n",
      "|[41.3,33.8,1010.8...|       1|       0.0|\n",
      "|[28.6,24.3,1010.8...|       0|       0.0|\n",
      "|[29.6,24.0,1010.8...|       1|       0.0|\n",
      "|[31.2,20.8,1010.8...|       1|       0.0|\n",
      "|[32.7,27.6,1010.8...|       0|       0.0|\n",
      "|[33.2,21.8,1010.8...|       1|       0.0|\n",
      "|[33.8,26.8,1010.8...|       0|       0.0|\n",
      "|[40.0,31.7,1010.8...|       1|       0.0|\n",
      "|[40.0,33.9,1010.8...|       1|       0.0|\n",
      "|[40.5,32.4,1010.8...|       1|       0.0|\n",
      "|[40.5,32.5,1010.8...|       1|       0.0|\n",
      "|[40.5,33.9,1010.8...|       1|       0.0|\n",
      "|[41.0,32.1,1010.8...|       1|       0.0|\n",
      "+--------------------+--------+----------+\n",
      "only showing top 200 rows\n",
      "\n"
     ]
    },
    {
     "data": {
      "text/plain": [
       "'\\nprediction_label = df_prediction.select(\"prediction\", \"ItRained\")\\n\\nevaluator = BinaryClassificationEvaluator(rawPredictionCol=\\'prediction\\')\\n\\nprint(\"areaUnderROC = \" + str(evaluator.evaluate(prediction_label)))\\n\\nlr = LinearRegression(featuresCol=\"features\", labelCol=\"ItRained\")\\nlr_model = lr.fit(vec_df_train)\\navg_ItRained = float(df_train.select(avg(\"ItRained\")).first()[0])\\ndf_pred = df_train.withColumn(\"avg_ItRained_prediction\", lit(avg_ItRained))\\navg_ItRained\\nevaluator = RegressionEvaluator(predictionCol=\"avg_ItRained_prediction\", labelCol=\"ItRained\", metricName=\"rmse\")\\nprint(f\"The RMSE for predicting the average frshtt is: {evaluator.evaluate(df_pred):.2f}\")\\npipeline = Pipeline(stages=[vec_assembler, lr_model])\\n\\n# get the model (as transformer)\\npipeline_model = pipeline.fit(df_train)\\ndf_prediction = pipeline_model.transform(df_test)\\n\\n# show the columns worth to be looked at\\ndf_prediction.select(\"features\",\"ItRained\",\"prediction\").sample(False, 0.1).sort(\"ItRained\", ascending=False).show(200)\\n\\ndf_prediction.columns\\n'"
      ]
     },
     "execution_count": 200,
     "metadata": {},
     "output_type": "execute_result"
    }
   ],
   "source": [
    "vec_assembler = VectorAssembler(inputCols=['TEMP', 'DEWP','SLP', 'STP', 'VISIB', 'WDSP', 'MXSPD', 'GUST', 'MAX', 'MIN'], outputCol=\"features\")\n",
    "vec_df_train = vec_assembler.transform(df_train)\n",
    "\n",
    "# show the content of the columns bedrooms, features and price\n",
    "# vec_df_train.select(\"TEMP\",\"DEWP\",\"features\").show(200)\n",
    "\n",
    "lsvc = LinearSVC(maxIter=10, regParam=0.1, labelCol=\"ItRained\")\n",
    "pipeline = Pipeline(stages=[vec_assembler, lsvc])\n",
    "pipeline_model = pipeline.fit(df_train)\n",
    "df_prediction = pipeline_model.transform(df_test)\n",
    "df_prediction.select(\"features\", \"ItRained\", \"prediction\").sort(\"prediction\", ascending=False).show(200)\n",
    "\n",
    "\"\"\"\n",
    "prediction_label = df_prediction.select(\"prediction\", \"ItRained\")\n",
    "\n",
    "evaluator = BinaryClassificationEvaluator(rawPredictionCol='prediction')\n",
    "\n",
    "print(\"areaUnderROC = \" + str(evaluator.evaluate(prediction_label)))\n",
    "\n",
    "lr = LinearRegression(featuresCol=\"features\", labelCol=\"ItRained\")\n",
    "lr_model = lr.fit(vec_df_train)\n",
    "avg_ItRained = float(df_train.select(avg(\"ItRained\")).first()[0])\n",
    "df_pred = df_train.withColumn(\"avg_ItRained_prediction\", lit(avg_ItRained))\n",
    "avg_ItRained\n",
    "evaluator = RegressionEvaluator(predictionCol=\"avg_ItRained_prediction\", labelCol=\"ItRained\", metricName=\"rmse\")\n",
    "print(f\"The RMSE for predicting the average frshtt is: {evaluator.evaluate(df_pred):.2f}\")\n",
    "pipeline = Pipeline(stages=[vec_assembler, lr_model])\n",
    "\n",
    "# get the model (as transformer)\n",
    "pipeline_model = pipeline.fit(df_train)\n",
    "df_prediction = pipeline_model.transform(df_test)\n",
    "\n",
    "# show the columns worth to be looked at\n",
    "df_prediction.select(\"features\",\"ItRained\",\"prediction\").sample(False, 0.1).sort(\"ItRained\", ascending=False).show(200)\n",
    "\n",
    "df_prediction.columns\n",
    "\"\"\""
   ]
  },
  {
   "cell_type": "code",
   "execution_count": 191,
   "id": "c2bc457c-ab8e-4baf-bef9-034d17d1777a",
   "metadata": {},
   "outputs": [
    {
     "ename": "IllegalArgumentException",
     "evalue": "features does not exist. Available: TEMP, DEWP, SLP, STP, VISIB, WDSP, MXSPD, GUST, MAX, MIN, PRCP, SNDP, FRSHTT, ItRained",
     "output_type": "error",
     "traceback": [
      "\u001b[0;31m---------------------------------------------------------------------------\u001b[0m",
      "\u001b[0;31mIllegalArgumentException\u001b[0m                  Traceback (most recent call last)",
      "Input \u001b[0;32mIn [191]\u001b[0m, in \u001b[0;36m<module>\u001b[0;34m\u001b[0m\n\u001b[1;32m      3\u001b[0m \u001b[38;5;28;01mfrom\u001b[39;00m \u001b[38;5;21;01mpyspark\u001b[39;00m\u001b[38;5;21;01m.\u001b[39;00m\u001b[38;5;21;01mmllib\u001b[39;00m\u001b[38;5;21;01m.\u001b[39;00m\u001b[38;5;21;01mevaluation\u001b[39;00m \u001b[38;5;28;01mimport\u001b[39;00m MulticlassMetrics\n\u001b[1;32m      4\u001b[0m \u001b[38;5;66;03m# Compute raw scores on the test set\u001b[39;00m\n\u001b[0;32m----> 6\u001b[0m lsvc \u001b[38;5;241m=\u001b[39m \u001b[43mLinearSVC\u001b[49m\u001b[43m(\u001b[49m\u001b[43mmaxIter\u001b[49m\u001b[38;5;241;43m=\u001b[39;49m\u001b[38;5;241;43m10\u001b[39;49m\u001b[43m,\u001b[49m\u001b[43m \u001b[49m\u001b[43mregParam\u001b[49m\u001b[38;5;241;43m=\u001b[39;49m\u001b[38;5;241;43m0.1\u001b[39;49m\u001b[43m,\u001b[49m\u001b[43m \u001b[49m\u001b[43mlabelCol\u001b[49m\u001b[38;5;241;43m=\u001b[39;49m\u001b[38;5;124;43m\"\u001b[39;49m\u001b[38;5;124;43mItRained\u001b[39;49m\u001b[38;5;124;43m\"\u001b[39;49m\u001b[43m)\u001b[49m\u001b[38;5;241;43m.\u001b[39;49m\u001b[43mfit\u001b[49m\u001b[43m(\u001b[49m\u001b[43mdf_train\u001b[49m\u001b[43m)\u001b[49m\n\u001b[1;32m      7\u001b[0m \u001b[38;5;124;03m\"\"\"\u001b[39;00m\n\u001b[1;32m      8\u001b[0m \u001b[38;5;124;03mpipeline = Pipeline(stages=[vec_assembler, lsvc])\u001b[39;00m\n\u001b[1;32m      9\u001b[0m \u001b[38;5;124;03mpipeline_model = pipeline.fit(df_train)\u001b[39;00m\n\u001b[1;32m     10\u001b[0m \u001b[38;5;124;03mdf_prediction = pipeline_model.transform(df_test)\u001b[39;00m\n\u001b[1;32m     11\u001b[0m \u001b[38;5;124;03mdf_prediction.select(\"features\", \"ItRained\", \"prediction\").sample(False, 0.1).show(10)\u001b[39;00m\n\u001b[1;32m     12\u001b[0m \u001b[38;5;124;03m\"\"\"\u001b[39;00m\n\u001b[1;32m     14\u001b[0m model \u001b[38;5;241m=\u001b[39m lsvc\n",
      "File \u001b[0;32m~/.local/lib/python3.8/site-packages/pyspark/ml/base.py:161\u001b[0m, in \u001b[0;36mEstimator.fit\u001b[0;34m(self, dataset, params)\u001b[0m\n\u001b[1;32m    159\u001b[0m         \u001b[38;5;28;01mreturn\u001b[39;00m \u001b[38;5;28mself\u001b[39m\u001b[38;5;241m.\u001b[39mcopy(params)\u001b[38;5;241m.\u001b[39m_fit(dataset)\n\u001b[1;32m    160\u001b[0m     \u001b[38;5;28;01melse\u001b[39;00m:\n\u001b[0;32m--> 161\u001b[0m         \u001b[38;5;28;01mreturn\u001b[39;00m \u001b[38;5;28;43mself\u001b[39;49m\u001b[38;5;241;43m.\u001b[39;49m\u001b[43m_fit\u001b[49m\u001b[43m(\u001b[49m\u001b[43mdataset\u001b[49m\u001b[43m)\u001b[49m\n\u001b[1;32m    162\u001b[0m \u001b[38;5;28;01melse\u001b[39;00m:\n\u001b[1;32m    163\u001b[0m     \u001b[38;5;28;01mraise\u001b[39;00m \u001b[38;5;167;01mTypeError\u001b[39;00m(\u001b[38;5;124m\"\u001b[39m\u001b[38;5;124mParams must be either a param map or a list/tuple of param maps, \u001b[39m\u001b[38;5;124m\"\u001b[39m\n\u001b[1;32m    164\u001b[0m                     \u001b[38;5;124m\"\u001b[39m\u001b[38;5;124mbut got \u001b[39m\u001b[38;5;132;01m%s\u001b[39;00m\u001b[38;5;124m.\u001b[39m\u001b[38;5;124m\"\u001b[39m \u001b[38;5;241m%\u001b[39m \u001b[38;5;28mtype\u001b[39m(params))\n",
      "File \u001b[0;32m~/.local/lib/python3.8/site-packages/pyspark/ml/wrapper.py:335\u001b[0m, in \u001b[0;36mJavaEstimator._fit\u001b[0;34m(self, dataset)\u001b[0m\n\u001b[1;32m    334\u001b[0m \u001b[38;5;28;01mdef\u001b[39;00m \u001b[38;5;21m_fit\u001b[39m(\u001b[38;5;28mself\u001b[39m, dataset):\n\u001b[0;32m--> 335\u001b[0m     java_model \u001b[38;5;241m=\u001b[39m \u001b[38;5;28;43mself\u001b[39;49m\u001b[38;5;241;43m.\u001b[39;49m\u001b[43m_fit_java\u001b[49m\u001b[43m(\u001b[49m\u001b[43mdataset\u001b[49m\u001b[43m)\u001b[49m\n\u001b[1;32m    336\u001b[0m     model \u001b[38;5;241m=\u001b[39m \u001b[38;5;28mself\u001b[39m\u001b[38;5;241m.\u001b[39m_create_model(java_model)\n\u001b[1;32m    337\u001b[0m     \u001b[38;5;28;01mreturn\u001b[39;00m \u001b[38;5;28mself\u001b[39m\u001b[38;5;241m.\u001b[39m_copyValues(model)\n",
      "File \u001b[0;32m~/.local/lib/python3.8/site-packages/pyspark/ml/wrapper.py:332\u001b[0m, in \u001b[0;36mJavaEstimator._fit_java\u001b[0;34m(self, dataset)\u001b[0m\n\u001b[1;32m    318\u001b[0m \u001b[38;5;124;03m\"\"\"\u001b[39;00m\n\u001b[1;32m    319\u001b[0m \u001b[38;5;124;03mFits a Java model to the input dataset.\u001b[39;00m\n\u001b[1;32m    320\u001b[0m \n\u001b[0;32m   (...)\u001b[0m\n\u001b[1;32m    329\u001b[0m \u001b[38;5;124;03m    fitted Java model\u001b[39;00m\n\u001b[1;32m    330\u001b[0m \u001b[38;5;124;03m\"\"\"\u001b[39;00m\n\u001b[1;32m    331\u001b[0m \u001b[38;5;28mself\u001b[39m\u001b[38;5;241m.\u001b[39m_transfer_params_to_java()\n\u001b[0;32m--> 332\u001b[0m \u001b[38;5;28;01mreturn\u001b[39;00m \u001b[38;5;28;43mself\u001b[39;49m\u001b[38;5;241;43m.\u001b[39;49m\u001b[43m_java_obj\u001b[49m\u001b[38;5;241;43m.\u001b[39;49m\u001b[43mfit\u001b[49m\u001b[43m(\u001b[49m\u001b[43mdataset\u001b[49m\u001b[38;5;241;43m.\u001b[39;49m\u001b[43m_jdf\u001b[49m\u001b[43m)\u001b[49m\n",
      "File \u001b[0;32m~/.local/lib/python3.8/site-packages/py4j/java_gateway.py:1321\u001b[0m, in \u001b[0;36mJavaMember.__call__\u001b[0;34m(self, *args)\u001b[0m\n\u001b[1;32m   1315\u001b[0m command \u001b[38;5;241m=\u001b[39m proto\u001b[38;5;241m.\u001b[39mCALL_COMMAND_NAME \u001b[38;5;241m+\u001b[39m\\\n\u001b[1;32m   1316\u001b[0m     \u001b[38;5;28mself\u001b[39m\u001b[38;5;241m.\u001b[39mcommand_header \u001b[38;5;241m+\u001b[39m\\\n\u001b[1;32m   1317\u001b[0m     args_command \u001b[38;5;241m+\u001b[39m\\\n\u001b[1;32m   1318\u001b[0m     proto\u001b[38;5;241m.\u001b[39mEND_COMMAND_PART\n\u001b[1;32m   1320\u001b[0m answer \u001b[38;5;241m=\u001b[39m \u001b[38;5;28mself\u001b[39m\u001b[38;5;241m.\u001b[39mgateway_client\u001b[38;5;241m.\u001b[39msend_command(command)\n\u001b[0;32m-> 1321\u001b[0m return_value \u001b[38;5;241m=\u001b[39m \u001b[43mget_return_value\u001b[49m\u001b[43m(\u001b[49m\n\u001b[1;32m   1322\u001b[0m \u001b[43m    \u001b[49m\u001b[43manswer\u001b[49m\u001b[43m,\u001b[49m\u001b[43m \u001b[49m\u001b[38;5;28;43mself\u001b[39;49m\u001b[38;5;241;43m.\u001b[39;49m\u001b[43mgateway_client\u001b[49m\u001b[43m,\u001b[49m\u001b[43m \u001b[49m\u001b[38;5;28;43mself\u001b[39;49m\u001b[38;5;241;43m.\u001b[39;49m\u001b[43mtarget_id\u001b[49m\u001b[43m,\u001b[49m\u001b[43m \u001b[49m\u001b[38;5;28;43mself\u001b[39;49m\u001b[38;5;241;43m.\u001b[39;49m\u001b[43mname\u001b[49m\u001b[43m)\u001b[49m\n\u001b[1;32m   1324\u001b[0m \u001b[38;5;28;01mfor\u001b[39;00m temp_arg \u001b[38;5;129;01min\u001b[39;00m temp_args:\n\u001b[1;32m   1325\u001b[0m     temp_arg\u001b[38;5;241m.\u001b[39m_detach()\n",
      "File \u001b[0;32m~/.local/lib/python3.8/site-packages/pyspark/sql/utils.py:117\u001b[0m, in \u001b[0;36mcapture_sql_exception.<locals>.deco\u001b[0;34m(*a, **kw)\u001b[0m\n\u001b[1;32m    113\u001b[0m converted \u001b[38;5;241m=\u001b[39m convert_exception(e\u001b[38;5;241m.\u001b[39mjava_exception)\n\u001b[1;32m    114\u001b[0m \u001b[38;5;28;01mif\u001b[39;00m \u001b[38;5;129;01mnot\u001b[39;00m \u001b[38;5;28misinstance\u001b[39m(converted, UnknownException):\n\u001b[1;32m    115\u001b[0m     \u001b[38;5;66;03m# Hide where the exception came from that shows a non-Pythonic\u001b[39;00m\n\u001b[1;32m    116\u001b[0m     \u001b[38;5;66;03m# JVM exception message.\u001b[39;00m\n\u001b[0;32m--> 117\u001b[0m     \u001b[38;5;28;01mraise\u001b[39;00m converted \u001b[38;5;28;01mfrom\u001b[39;00m \u001b[38;5;28mNone\u001b[39m\n\u001b[1;32m    118\u001b[0m \u001b[38;5;28;01melse\u001b[39;00m:\n\u001b[1;32m    119\u001b[0m     \u001b[38;5;28;01mraise\u001b[39;00m\n",
      "\u001b[0;31mIllegalArgumentException\u001b[0m: features does not exist. Available: TEMP, DEWP, SLP, STP, VISIB, WDSP, MXSPD, GUST, MAX, MIN, PRCP, SNDP, FRSHTT, ItRained"
     ]
    }
   ],
   "source": [
    "from pyspark.mllib.classification import LogisticRegressionWithLBFGS\n",
    "from pyspark.mllib.util import MLUtils\n",
    "from pyspark.mllib.evaluation import MulticlassMetrics\n",
    "# Compute raw scores on the test set\n",
    "\n",
    "\n",
    "\n",
    "\n",
    "model = lsvc\n",
    "\n",
    "predictionAndLabels = df_test.rdd.map(lambda lp: (float(model.predict(lp.features)), lp.label))\n",
    "\n",
    "# Instantiate metrics object\n",
    "metrics = MulticlassMetrics(predictionAndLabels)\n",
    "\n",
    "# Overall statistics\n",
    "precision = metrics.precision()\n",
    "recall = metrics.recall()\n",
    "f1Score = metrics.fMeasure()\n",
    "print(\"Summary Stats\")\n",
    "print(\"Precision = %s\" % precision)\n",
    "print(\"Recall = %s\" % recall)\n",
    "print(\"F1 Score = %s\" % f1Score)"
   ]
  },
  {
   "cell_type": "code",
   "execution_count": 166,
   "id": "d293991a-0014-42c0-9690-35d27269022a",
   "metadata": {},
   "outputs": [
    {
     "name": "stdout",
     "output_type": "stream",
     "text": [
      "The RMSE for predicting the average frshtt is: 0.46\n"
     ]
    }
   ],
   "source": []
  },
  {
   "cell_type": "code",
   "execution_count": 167,
   "id": "b572c282-22c9-4f2f-ad86-a0f8b97518d5",
   "metadata": {},
   "outputs": [],
   "source": []
  },
  {
   "cell_type": "code",
   "execution_count": null,
   "id": "6b99a62b-efc2-45c3-abe2-d7ae472e39f7",
   "metadata": {},
   "outputs": [],
   "source": []
  },
  {
   "cell_type": "code",
   "execution_count": null,
   "id": "caf43eb5-fb88-4729-82c3-171965a25d27",
   "metadata": {},
   "outputs": [],
   "source": []
  },
  {
   "cell_type": "code",
   "execution_count": null,
   "id": "3bbb1cff-8efc-4eda-8987-bb3d51d0488a",
   "metadata": {},
   "outputs": [],
   "source": []
  }
 ],
 "metadata": {
  "kernelspec": {
   "display_name": "Python 3 (ipykernel)",
   "language": "python",
   "name": "python3"
  },
  "language_info": {
   "codemirror_mode": {
    "name": "ipython",
    "version": 3
   },
   "file_extension": ".py",
   "mimetype": "text/x-python",
   "name": "python",
   "nbconvert_exporter": "python",
   "pygments_lexer": "ipython3",
   "version": "3.8.10"
  }
 },
 "nbformat": 4,
 "nbformat_minor": 5
}
