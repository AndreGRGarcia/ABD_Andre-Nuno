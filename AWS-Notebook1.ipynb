{
 "cells": [
  {
   "cell_type": "code",
   "execution_count": 2,
   "id": "e9d0be34",
   "metadata": {},
   "outputs": [],
   "source": [
    "import os \n",
    "\n",
    "import numpy as np \n",
    "import pandas as pd  \n",
    "import matplotlib.pyplot as plt\n",
    "import seaborn as sns\n",
    "import warnings\n",
    "import nbimporter\n",
    "import Useful_Visualization_Functions\n",
    "warnings.filterwarnings(\"ignore\")"
   ]
  },
  {
   "cell_type": "code",
   "execution_count": 3,
   "id": "387b62b3",
   "metadata": {},
   "outputs": [],
   "source": [
    "from pyspark.sql import SparkSession\n",
    "from pyspark.sql import Row\n",
    "from pyspark.sql.functions import lit, col, column, expr, desc, asc"
   ]
  },
  {
   "cell_type": "code",
   "execution_count": 4,
   "id": "a8da508b",
   "metadata": {},
   "outputs": [],
   "source": [
    "# ! pip install matplotlib\n",
    "# ! pip install seaborn\n",
    "# ! pip install ipynb\n",
    "# ! pip install nbimporter"
   ]
  },
  {
   "cell_type": "code",
   "execution_count": 5,
   "id": "0e5c799b",
   "metadata": {},
   "outputs": [
    {
     "name": "stderr",
     "output_type": "stream",
     "text": [
      "22/05/17 11:43:24 WARN Utils: Your hostname, nuno-g14 resolves to a loopback address: 127.0.1.1; using 192.168.1.225 instead (on interface wlp2s0)\n",
      "22/05/17 11:43:24 WARN Utils: Set SPARK_LOCAL_IP if you need to bind to another address\n",
      "WARNING: An illegal reflective access operation has occurred\n",
      "WARNING: Illegal reflective access by org.apache.spark.unsafe.Platform (file:/home/nuno/.local/lib/python3.8/site-packages/pyspark/jars/spark-unsafe_2.12-3.2.1.jar) to constructor java.nio.DirectByteBuffer(long,int)\n",
      "WARNING: Please consider reporting this to the maintainers of org.apache.spark.unsafe.Platform\n",
      "WARNING: Use --illegal-access=warn to enable warnings of further illegal reflective access operations\n",
      "WARNING: All illegal access operations will be denied in a future release\n",
      "Using Spark's default log4j profile: org/apache/spark/log4j-defaults.properties\n",
      "Setting default log level to \"WARN\".\n",
      "To adjust logging level use sc.setLogLevel(newLevel). For SparkR, use setLogLevel(newLevel).\n",
      "22/05/17 11:43:25 WARN NativeCodeLoader: Unable to load native-hadoop library for your platform... using builtin-java classes where applicable\n"
     ]
    }
   ],
   "source": [
    "# build our own SparkSession\n",
    "myspark = SparkSession\\\n",
    "    .builder\\\n",
    "    .appName(\"AWS-Spark\")\\\n",
    "    .config(\"spark.driver.memory\", \"15g\") \\\n",
    "    .config(\"spark.sql.shuffle.partitions\",6)\\\n",
    "    .config(\"spark.sql.repl.eagereval.enabled\",True)\\\n",
    "    .getOrCreate()"
   ]
  },
  {
   "cell_type": "code",
   "execution_count": 6,
   "id": "42d2d3be",
   "metadata": {},
   "outputs": [
    {
     "data": {
      "text/html": [
       "\n",
       "            <div>\n",
       "                <p><b>SparkSession - in-memory</b></p>\n",
       "                \n",
       "        <div>\n",
       "            <p><b>SparkContext</b></p>\n",
       "\n",
       "            <p><a href=\"http://nuno-g14.lan:4040\">Spark UI</a></p>\n",
       "\n",
       "            <dl>\n",
       "              <dt>Version</dt>\n",
       "                <dd><code>v3.2.1</code></dd>\n",
       "              <dt>Master</dt>\n",
       "                <dd><code>local[*]</code></dd>\n",
       "              <dt>AppName</dt>\n",
       "                <dd><code>AWS-Spark</code></dd>\n",
       "            </dl>\n",
       "        </div>\n",
       "        \n",
       "            </div>\n",
       "        "
      ],
      "text/plain": [
       "<pyspark.sql.session.SparkSession at 0x7f7066da4400>"
      ]
     },
     "execution_count": 6,
     "metadata": {},
     "output_type": "execute_result"
    }
   ],
   "source": [
    "myspark"
   ]
  },
  {
   "cell_type": "code",
   "execution_count": 7,
   "id": "12e89599",
   "metadata": {},
   "outputs": [
    {
     "name": "stderr",
     "output_type": "stream",
     "text": [
      "                                                                                \r"
     ]
    },
    {
     "data": {
      "text/plain": [
       "19329172"
      ]
     },
     "execution_count": 7,
     "metadata": {},
     "output_type": "execute_result"
    }
   ],
   "source": [
    "# ! head noaa.csv\n",
    "# noaa_data.show(10)\n",
    "noaa_data = myspark.read.load(\"noaa.csv\", format=\"csv\", sep=\",\", header=True, inferSchema=True)\n",
    "noaa_data.count()"
   ]
  },
  {
   "cell_type": "code",
   "execution_count": 8,
   "id": "277aed05",
   "metadata": {},
   "outputs": [],
   "source": [
    "# noaa_data.show(10)"
   ]
  },
  {
   "cell_type": "code",
   "execution_count": 9,
   "id": "82911c09",
   "metadata": {},
   "outputs": [],
   "source": [
    "# temp_filt = (noaa_data.filter(noaa_data.ELEVATION <= 5))\n",
    "# temp_filt.count()"
   ]
  },
  {
   "cell_type": "code",
   "execution_count": 10,
   "id": "f43d04d1",
   "metadata": {
    "scrolled": true
   },
   "outputs": [],
   "source": [
    "#latitude_order = noaa_data.orderBy(\"LATITUDE\", ascending=False)\n",
    "#latitude_order.show(10)"
   ]
  },
  {
   "cell_type": "code",
   "execution_count": 11,
   "id": "d31b3512",
   "metadata": {
    "scrolled": true
   },
   "outputs": [
    {
     "name": "stdout",
     "output_type": "stream",
     "text": [
      "root\n",
      " |-- STATION: string (nullable = true)\n",
      " |-- DATE: string (nullable = true)\n",
      " |-- LATITUDE: double (nullable = true)\n",
      " |-- LONGITUDE: double (nullable = true)\n",
      " |-- ELEVATION: double (nullable = true)\n",
      " |-- NAME: string (nullable = true)\n",
      " |-- TEMP: double (nullable = true)\n",
      " |-- TEMP_ATTRIBUTES: double (nullable = true)\n",
      " |-- DEWP: double (nullable = true)\n",
      " |-- DEWP_ATTRIBUTES: double (nullable = true)\n",
      " |-- SLP: double (nullable = true)\n",
      " |-- SLP_ATTRIBUTES: double (nullable = true)\n",
      " |-- STP: double (nullable = true)\n",
      " |-- STP_ATTRIBUTES: double (nullable = true)\n",
      " |-- VISIB: double (nullable = true)\n",
      " |-- VISIB_ATTRIBUTES: double (nullable = true)\n",
      " |-- WDSP: double (nullable = true)\n",
      " |-- WDSP_ATTRIBUTES: double (nullable = true)\n",
      " |-- MXSPD: double (nullable = true)\n",
      " |-- GUST: double (nullable = true)\n",
      " |-- MAX: double (nullable = true)\n",
      " |-- MAX_ATTRIBUTES: string (nullable = true)\n",
      " |-- MIN: double (nullable = true)\n",
      " |-- MIN_ATTRIBUTES: string (nullable = true)\n",
      " |-- PRCP: double (nullable = true)\n",
      " |-- PRCP_ATTRIBUTES: string (nullable = true)\n",
      " |-- SNDP: double (nullable = true)\n",
      " |-- FRSHTT: integer (nullable = true)\n",
      "\n"
     ]
    }
   ],
   "source": [
    "noaa_data.printSchema()"
   ]
  },
  {
   "cell_type": "code",
   "execution_count": 12,
   "id": "20f9f9a4",
   "metadata": {
    "scrolled": true
   },
   "outputs": [
    {
     "name": "stdout",
     "output_type": "stream",
     "text": [
      "+----+---------+-----+\n",
      "|TEMP|ELEVATION|VISIB|\n",
      "+----+---------+-----+\n",
      "|76.7|    93.87| 26.0|\n",
      "|75.8|    93.87| 19.9|\n",
      "|74.0|    93.87| 10.5|\n",
      "|76.0|    93.87| 16.5|\n",
      "|76.3|    93.87| 25.9|\n",
      "|76.0|    93.87| 20.6|\n",
      "|77.5|    93.87| 19.9|\n",
      "|76.7|    93.87| 14.3|\n",
      "|77.9|    93.87| 17.0|\n",
      "|77.9|    93.87| 19.9|\n",
      "+----+---------+-----+\n",
      "only showing top 10 rows\n",
      "\n"
     ]
    }
   ],
   "source": [
    "noaa_data.select(\"TEMP\", \"ELEVATION\", \"VISIB\").show(10)"
   ]
  },
  {
   "cell_type": "code",
   "execution_count": 13,
   "id": "d54a464c",
   "metadata": {},
   "outputs": [
    {
     "data": {
      "text/plain": [
       "'\\nfor cl in columns:\\n    noaa_data.describe(cl).show()\\n\\nfor cl in columns:\\n    noaa_data.select(cl).distinct().show(10)\\n'"
      ]
     },
     "execution_count": 13,
     "metadata": {},
     "output_type": "execute_result"
    }
   ],
   "source": [
    "\n",
    "columns = noaa_data.columns\n",
    "\"\"\"\n",
    "for cl in columns:\n",
    "    noaa_data.describe(cl).show()\n",
    "\n",
    "for cl in columns:\n",
    "    noaa_data.select(cl).distinct().show(10)\n",
    "\"\"\""
   ]
  },
  {
   "cell_type": "code",
   "execution_count": 14,
   "id": "a52fe125",
   "metadata": {},
   "outputs": [],
   "source": [
    "cols_to_drop = [\"STATION\", \"DATE\", \"LATITUDE\", \"LONGITUDE\", \"ELEVATION\", \"NAME\", \"TEMP_ATTRIBUTES\", \"DEWP_ATTRIBUTES\",\n",
    "               \"SLP_ATTRIBUTES\", \"STP_ATTRIBUTES\", \"VISIB_ATTRIBUTES\", \"WDSP_ATTRIBUTES\", \"MAX_ATTRIBUTES\",\n",
    "               \"MIN_ATTRIBUTES\", \"PRCP_ATTRIBUTES\"]\n",
    "\n",
    "\"\"\"\n",
    "Mean temperature (.1 Fahrenheit) - TEMP\n",
    "Mean dew point (.1 Fahrenheit) - DEWP\n",
    "Mean sea level pressure (.1 mb) - SLP\n",
    "Mean station pressure (.1 mb) - STP\n",
    "Mean visibility (.1 miles) - VISIB\n",
    "Mean wind speed (.1 knots) - WDSP\n",
    "Maximum sustained wind speed (.1 knots) - MXSPD \n",
    "Maximum wind gust (.1 knots) - GUST\n",
    "Maximum temperature (.1 Fahrenheit) - MAX\n",
    "Minimum temperature (.1 Fahrenheit) - MIN\n",
    "Precipitation amount (.01 inches) - PRCP\n",
    "Snow depth (.1 inches) - SNDP\n",
    "Indicator for occurrence of: Fog, Rain or Drizzle, Snow or Ice Pellets, Hail, Thunder, Tornado/Funnel Cloud. - FRSHTT\n",
    "\"\"\"\n",
    "\n",
    "cols_interest = [x for x in columns if x not in cols_to_drop]\n",
    "df_interest_cols = noaa_data.select(cols_interest)"
   ]
  },
  {
   "cell_type": "markdown",
   "id": "845fa6f5",
   "metadata": {},
   "source": [
    "### Data cleansing"
   ]
  },
  {
   "cell_type": "code",
   "execution_count": null,
   "id": "3a9de037",
   "metadata": {
    "scrolled": true
   },
   "outputs": [
    {
     "name": "stdout",
     "output_type": "stream",
     "text": [
      "root\n",
      " |-- TEMP: double (nullable = true)\n",
      " |-- DEWP: double (nullable = true)\n",
      " |-- SLP: double (nullable = true)\n",
      " |-- STP: double (nullable = true)\n",
      " |-- VISIB: double (nullable = true)\n",
      " |-- WDSP: double (nullable = true)\n",
      " |-- MXSPD: double (nullable = true)\n",
      " |-- GUST: double (nullable = true)\n",
      " |-- MAX: double (nullable = true)\n",
      " |-- MIN: double (nullable = true)\n",
      " |-- PRCP: double (nullable = true)\n",
      " |-- SNDP: double (nullable = true)\n",
      " |-- FRSHTT: integer (nullable = true)\n",
      "\n"
     ]
    },
    {
     "name": "stderr",
     "output_type": "stream",
     "text": [
      "                                                                                \r"
     ]
    },
    {
     "name": "stdout",
     "output_type": "stream",
     "text": [
      "+-------+------------------+\n",
      "|summary|              TEMP|\n",
      "+-------+------------------+\n",
      "|  count|          19329172|\n",
      "|   mean| 55.01233707268976|\n",
      "| stddev|22.768293098866074|\n",
      "|    min|            -114.7|\n",
      "|    max|             110.0|\n",
      "+-------+------------------+\n",
      "\n"
     ]
    },
    {
     "name": "stderr",
     "output_type": "stream",
     "text": [
      "                                                                                \r"
     ]
    },
    {
     "name": "stdout",
     "output_type": "stream",
     "text": [
      "+-------+-----------------+\n",
      "|summary|             DEWP|\n",
      "+-------+-----------------+\n",
      "|  count|         19329172|\n",
      "|   mean|486.8437543374978|\n",
      "| stddev|2053.069124349846|\n",
      "|    min|           -120.9|\n",
      "|    max|           9999.9|\n",
      "+-------+-----------------+\n",
      "\n"
     ]
    },
    {
     "name": "stderr",
     "output_type": "stream",
     "text": [
      "                                                                                \r"
     ]
    },
    {
     "name": "stdout",
     "output_type": "stream",
     "text": [
      "+-------+-----------------+\n",
      "|summary|              SLP|\n",
      "+-------+-----------------+\n",
      "|  count|         19329172|\n",
      "|   mean|4146.266166776542|\n",
      "| stddev|4281.330679825313|\n",
      "|    min|            904.4|\n",
      "|    max|           9999.9|\n",
      "+-------+-----------------+\n",
      "\n"
     ]
    },
    {
     "name": "stderr",
     "output_type": "stream",
     "text": [
      "                                                                                \r"
     ]
    },
    {
     "name": "stdout",
     "output_type": "stream",
     "text": [
      "+-------+-----------------+\n",
      "|summary|              STP|\n",
      "+-------+-----------------+\n",
      "|  count|         19329172|\n",
      "|   mean|703.9547709374414|\n",
      "| stddev| 430.617274739191|\n",
      "|    min|              0.0|\n",
      "|    max|            999.9|\n",
      "+-------+-----------------+\n",
      "\n"
     ]
    },
    {
     "name": "stderr",
     "output_type": "stream",
     "text": [
      "                                                                                \r"
     ]
    },
    {
     "name": "stdout",
     "output_type": "stream",
     "text": [
      "+-------+------------------+\n",
      "|summary|             VISIB|\n",
      "+-------+------------------+\n",
      "|  count|          19329172|\n",
      "|   mean|260.36188831581364|\n",
      "| stddev|430.60288398229255|\n",
      "|    min|               0.0|\n",
      "|    max|             999.9|\n",
      "+-------+------------------+\n",
      "\n"
     ]
    },
    {
     "name": "stderr",
     "output_type": "stream",
     "text": [
      "                                                                                \r"
     ]
    },
    {
     "name": "stdout",
     "output_type": "stream",
     "text": [
      "+-------+-----------------+\n",
      "|summary|             WDSP|\n",
      "+-------+-----------------+\n",
      "|  count|         19329172|\n",
      "|   mean|44.46515733314976|\n",
      "| stddev|190.7991395190877|\n",
      "|    min|              0.0|\n",
      "|    max|            999.9|\n",
      "+-------+-----------------+\n",
      "\n"
     ]
    },
    {
     "name": "stderr",
     "output_type": "stream",
     "text": [
      "\r",
      "[Stage 30:>                                                       (0 + 16) / 34]\r"
     ]
    }
   ],
   "source": [
    "df_interest_cols.printSchema()\n",
    "df_clean = df_interest_cols.dropna()\n",
    "[df_interest_cols.count(), df_clean.count()]\n",
    "columns = df_clean.columns\n",
    "\n",
    "for cl in columns:\n",
    "    df_clean.describe(cl).show()\n",
    "\"\"\"\n",
    "\n",
    "\n",
    "\n",
    "for cl in columns:\n",
    "    df_clean.select(cl).distinct().show(10)\n",
    "    \n",
    "for cl in df_clean.columns: \n",
    "    df_clean.select(cl).summary().show()\n",
    "\"\"\"\n"
   ]
  },
  {
   "cell_type": "code",
   "execution_count": null,
   "id": "8af76ca2",
   "metadata": {},
   "outputs": [],
   "source": [
    "# df_plot = df_clean.select('TEMP', 'PRCP').toPandas()\n",
    "# plotHistogram(df_plot, 'TEMP', 'PRCP')\n",
    "# df_plot_mini = df_plot.sample(n=1000)\n",
    "# Useful_Visualization_Functions.plotScatterMatrix(df_clean, 'PRCP')\n",
    "# Useful_Visualization_Functions.plotHistogram(df_plot_mini, 'TEMP', 'PRCP')"
   ]
  },
  {
   "cell_type": "code",
   "execution_count": null,
   "id": "e41c1fd5",
   "metadata": {},
   "outputs": [],
   "source": []
  }
 ],
 "metadata": {
  "kernelspec": {
   "display_name": "Python 3 (ipykernel)",
   "language": "python",
   "name": "python3"
  },
  "language_info": {
   "codemirror_mode": {
    "name": "ipython",
    "version": 3
   },
   "file_extension": ".py",
   "mimetype": "text/x-python",
   "name": "python",
   "nbconvert_exporter": "python",
   "pygments_lexer": "ipython3",
   "version": "3.8.10"
  }
 },
 "nbformat": 4,
 "nbformat_minor": 5
}
