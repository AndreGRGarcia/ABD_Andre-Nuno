{
 "cells": [
  {
   "cell_type": "code",
   "execution_count": 57,
   "id": "e9d0be34",
   "metadata": {},
   "outputs": [],
   "source": [
    "import os \n",
    "\n",
    "import numpy as np \n",
    "import pandas as pd  \n",
    "import matplotlib.pyplot as plt\n",
    "import seaborn as sns\n",
    "import warnings\n",
    "import nbimporter\n",
    "import Useful_Visualization_Functions\n",
    "from pyspark.ml import Pipeline\n",
    "from pyspark.ml.stat import Correlation\n",
    "from pyspark.ml.feature import Imputer, VectorAssembler\n",
    "from pyspark.ml.regression import LinearRegression\n",
    "from pyspark.ml.evaluation import RegressionEvaluator\n",
    "from pyspark.sql.types import *\n",
    "from pyspark.sql.functions import *\n",
    "warnings.filterwarnings(\"ignore\")"
   ]
  },
  {
   "cell_type": "code",
   "execution_count": null,
   "id": "387b62b3",
   "metadata": {},
   "outputs": [],
   "source": [
    "from pyspark.sql import SparkSession\n",
    "from pyspark.sql import Row\n",
    "from pyspark.sql.functions import lit, col, column, expr, desc, asc"
   ]
  },
  {
   "cell_type": "code",
   "execution_count": null,
   "id": "a8da508b",
   "metadata": {},
   "outputs": [],
   "source": [
    "# ! pip install matplotlib\n",
    "# ! pip install seaborn\n",
    "# ! pip install ipynb\n",
    "# ! pip install nbimporter"
   ]
  },
  {
   "cell_type": "code",
   "execution_count": null,
   "id": "0e5c799b",
   "metadata": {},
   "outputs": [],
   "source": [
    "# build our own SparkSession\n",
    "myspark = SparkSession\\\n",
    "    .builder\\\n",
    "    .appName(\"AWS-Spark\")\\\n",
    "    .config(\"spark.driver.memory\", \"15g\") \\\n",
    "    .config(\"spark.sql.shuffle.partitions\",6)\\\n",
    "    .config(\"spark.sql.repl.eagereval.enabled\",True)\\\n",
    "    .getOrCreate()"
   ]
  },
  {
   "cell_type": "code",
   "execution_count": null,
   "id": "42d2d3be",
   "metadata": {},
   "outputs": [],
   "source": [
    "myspark"
   ]
  },
  {
   "cell_type": "code",
   "execution_count": null,
   "id": "12e89599",
   "metadata": {},
   "outputs": [],
   "source": [
    "# ! head noaa.csv\n",
    "# noaa_data.show(10)\n",
    "noaa_data = myspark.read.load(\"noaa.csv\", format=\"csv\", sep=\",\", header=True, inferSchema=True)\n",
    "noaa_data.count()"
   ]
  },
  {
   "cell_type": "code",
   "execution_count": null,
   "id": "277aed05",
   "metadata": {},
   "outputs": [],
   "source": [
    "# noaa_data.show(10)"
   ]
  },
  {
   "cell_type": "code",
   "execution_count": null,
   "id": "82911c09",
   "metadata": {},
   "outputs": [],
   "source": [
    "# temp_filt = (noaa_data.filter(noaa_data.ELEVATION <= 5))\n",
    "# temp_filt.count()"
   ]
  },
  {
   "cell_type": "code",
   "execution_count": null,
   "id": "f43d04d1",
   "metadata": {
    "scrolled": true
   },
   "outputs": [],
   "source": [
    "#latitude_order = noaa_data.orderBy(\"LATITUDE\", ascending=False)\n",
    "#latitude_order.show(10)"
   ]
  },
  {
   "cell_type": "code",
   "execution_count": null,
   "id": "d31b3512",
   "metadata": {
    "scrolled": true
   },
   "outputs": [],
   "source": [
    "noaa_data.printSchema()"
   ]
  },
  {
   "cell_type": "code",
   "execution_count": null,
   "id": "20f9f9a4",
   "metadata": {
    "scrolled": true
   },
   "outputs": [],
   "source": [
    "noaa_data.select(\"TEMP\", \"ELEVATION\", \"VISIB\").show(10)"
   ]
  },
  {
   "cell_type": "code",
   "execution_count": null,
   "id": "d54a464c",
   "metadata": {},
   "outputs": [],
   "source": [
    "\n",
    "columns = noaa_data.columns\n",
    "\"\"\"\n",
    "for cl in columns:\n",
    "    noaa_data.describe(cl).show()\n",
    "\n",
    "for cl in columns:\n",
    "    noaa_data.select(cl).distinct().show(10)\n",
    "\"\"\""
   ]
  },
  {
   "cell_type": "code",
   "execution_count": null,
   "id": "a52fe125",
   "metadata": {},
   "outputs": [],
   "source": [
    "cols_to_drop = [\"STATION\", \"DATE\", \"LATITUDE\", \"LONGITUDE\", \"ELEVATION\", \"NAME\", \"TEMP_ATTRIBUTES\", \"DEWP_ATTRIBUTES\",\n",
    "               \"SLP_ATTRIBUTES\", \"STP_ATTRIBUTES\", \"VISIB_ATTRIBUTES\", \"WDSP_ATTRIBUTES\", \"MAX_ATTRIBUTES\",\n",
    "               \"MIN_ATTRIBUTES\", \"PRCP_ATTRIBUTES\"]\n",
    "\n",
    "cols_interest = [x for x in columns if x not in cols_to_drop]\n",
    "df_interest_cols = noaa_data.select(cols_interest)"
   ]
  },
  {
   "cell_type": "markdown",
   "id": "845fa6f5",
   "metadata": {},
   "source": [
    "### Data cleansing"
   ]
  },
  {
   "cell_type": "code",
   "execution_count": null,
   "id": "3a9de037",
   "metadata": {
    "scrolled": true
   },
   "outputs": [],
   "source": [
    "df_interest_cols.printSchema()\n",
    "df_clean = df_interest_cols.dropna()\n",
    "[df_interest_cols.count(), df_clean.count()]\n",
    "\n",
    "columns = df_clean.columns\n",
    "    \n",
    "for cl in df_clean.columns: \n",
    "    df_clean.select(cl).summary().show()\n",
    "    \n",
    "\"\"\"\n",
    "for cl in columns:\n",
    "    df_clean.describe(cl).show()\n",
    "\n",
    "\n",
    "for cl in columns:\n",
    "    df_clean.select(cl).distinct().show(10)\n",
    "\"\"\"\n"
   ]
  },
  {
   "cell_type": "code",
   "execution_count": null,
   "id": "e9a4aa2c-d3ec-4e61-9ce9-4852cb5eb232",
   "metadata": {},
   "outputs": [],
   "source": [
    "df_clean_pd = df_clean.toPandas()\n",
    "\n",
    "temp_median = df_clean_pd['TEMP'].quantile(0.50)\n",
    "df_clean_pd['TEMP'] = np.where(df_clean_pd['TEMP'] < -10, temp_median, df_clean_pd['TEMP'])\n",
    "plt.boxplot(df_clean_pd[\"TEMP\"])\n",
    "plt.show()\n",
    "\n",
    "dewp_median = df_clean_pd['DEWP'].quantile(0.50)\n",
    "df_clean_pd['DEWP'] = np.where(df_clean_pd['DEWP'] > 100, dewp_median, df_clean_pd['DEWP'])\n",
    "plt.boxplot(df_clean_pd[\"DEWP\"])\n",
    "plt.show()\n",
    "\n",
    "df_clean_slp_filter = df_clean.filter(df_clean.SLP < 4000).toPandas()\n",
    "slp_median = df_clean_slp_filter['SLP'].quantile(0.50)\n",
    "df_clean_pd['SLP'] = np.where(df_clean_pd['SLP'] > 4000, slp_median, df_clean_pd['SLP'])\n",
    "plt.boxplot(df_clean_pd[\"SLP\"])\n",
    "plt.show()\n",
    "\n",
    "df_clean_stp_filter = df_clean.filter(df_clean.STP < 100).toPandas()\n",
    "stp_median = df_clean_stp_filter['STP'].quantile(0.50)\n",
    "df_clean_pd['STP'] = np.where(df_clean_pd['STP'] > 100, stp_median, df_clean_pd['STP'])\n",
    "plt.boxplot(df_clean_pd[\"STP\"])\n",
    "plt.show()\n",
    "\n",
    "df_clean_visib_filter = df_clean.filter(df_clean.VISIB < 100).toPandas()\n",
    "visib_median = df_clean_visib_filter['VISIB'].quantile(0.50)\n",
    "df_clean_pd['VISIB'] = np.where(df_clean_pd['VISIB'] > 100, visib_median, df_clean_pd['VISIB'])\n",
    "plt.boxplot(df_clean_pd[\"VISIB\"])\n",
    "plt.show()\n",
    "\n",
    "df_clean_wdsp_filter = df_clean.filter(df_clean.WDSP < 100).toPandas()\n",
    "wdsp_median = df_clean_wdsp_filter['WDSP'].quantile(0.50)\n",
    "df_clean_pd['WDSP'] = np.where(df_clean_pd['WDSP'] > 100, wdsp_median, df_clean_pd['WDSP'])\n",
    "plt.boxplot(df_clean_pd[\"WDSP\"])\n",
    "plt.show()\n",
    "\n",
    "df_clean_mxspd_filter = df_clean.filter(df_clean.MXSPD < 100).toPandas()\n",
    "mxspd_median = df_clean_mxspd_filter['MXSPD'].quantile(0.50)\n",
    "df_clean_pd['MXSPD'] = np.where(df_clean_pd['MXSPD'] > 100, mxspd_median, df_clean_pd['MXSPD'])\n",
    "plt.boxplot(df_clean_pd[\"MXSPD\"])\n",
    "plt.show()\n",
    "\n",
    "df_clean_gust_filter = df_clean.filter(df_clean.GUST < 100).toPandas()\n",
    "gust_median = df_clean_gust_filter['GUST'].quantile(0.50)\n",
    "df_clean_pd['GUST'] = np.where(df_clean_pd['GUST'] > 100, gust_median, df_clean_pd['GUST'])\n",
    "plt.boxplot(df_clean_pd[\"GUST\"])\n",
    "plt.show()\n",
    "\n",
    "df_clean_max_filter = df_clean.filter(df_clean.MAX < 100).toPandas()\n",
    "max_median = df_clean_max_filter['MAX'].quantile(0.50)\n",
    "df_clean_pd['MAX'] = np.where((df_clean_pd['MAX'] < 100) & (df_clean_pd['MAX'] > -10), df_clean_pd['MAX'], max_median)\n",
    "plt.boxplot(df_clean_pd[\"MAX\"])\n",
    "plt.show()\n",
    "\n",
    "df_clean_min_filter = df_clean.filter(df_clean.MIN < 100).toPandas()\n",
    "min_median = df_clean_max_filter['MIN'].quantile(0.50)\n",
    "df_clean_pd['MIN'] = np.where((df_clean_pd['MIN'] < 100) & (df_clean_pd['MIN'] > -10), df_clean_pd['MIN'], min_median)\n",
    "plt.boxplot(df_clean_pd[\"MIN\"])\n",
    "plt.show()\n",
    "\n",
    "df_clean_prcp_filter = df_clean.filter(df_clean.PRCP < 100).toPandas()\n",
    "prcp_median = df_clean_prcp_filter['PRCP'].quantile(0.50)\n",
    "df_clean_pd['PRCP'] = np.where(df_clean_pd['PRCP'] > 50, prcp_median, df_clean_pd['PRCP'])\n",
    "plt.boxplot(df_clean_pd[\"PRCP\"])\n",
    "plt.show()\n",
    "\n",
    "df_clean_sndp_filter = df_clean.filter(df_clean.SNDP < 100).toPandas()\n",
    "sndp_median = df_clean_sndp_filter['SNDP'].quantile(0.50)\n",
    "df_clean_pd['SNDP'] = np.where(df_clean_pd['SNDP'] > 200, sndp_median, df_clean_pd['SNDP'])\n",
    "plt.boxplot(df_clean_pd[\"SNDP\"])\n",
    "plt.show()"
   ]
  },
  {
   "cell_type": "code",
   "execution_count": 67,
   "id": "e5cef332-5849-4d80-ba33-c4edaa8aa1a4",
   "metadata": {},
   "outputs": [
    {
     "name": "stderr",
     "output_type": "stream",
     "text": [
      "                                                                                \r"
     ]
    },
    {
     "name": "stdout",
     "output_type": "stream",
     "text": [
      "There are 18133 rows in the training set and 4468 in the test set\n"
     ]
    }
   ],
   "source": [
    "df_clean = myspark.createDataFrame(df_clean_pd)\n",
    "df_train, df_test = df_clean.randomSplit([0.8,0.2], seed = 42)\n",
    "df_train.cache()\n",
    "print(f\"There are {df_train.count()} rows in the training set and {df_test.count()} in the test set\")"
   ]
  },
  {
   "cell_type": "code",
   "execution_count": 68,
   "id": "6883501f-c09a-4204-822f-ade89542085f",
   "metadata": {},
   "outputs": [
    {
     "name": "stdout",
     "output_type": "stream",
     "text": [
      "+----+-----+--------------------+\n",
      "|TEMP| DEWP|            features|\n",
      "+----+-----+--------------------+\n",
      "|-7.7|-12.3|[-7.7,-12.3,998.4...|\n",
      "|-5.6|-12.5|[-5.6,-12.5,1010....|\n",
      "|-4.1|-14.6|[-4.1,-14.6,1016....|\n",
      "|-3.4| 34.0|[-3.4,34.0,1023.0...|\n",
      "|-3.1|-10.4|[-3.1,-10.4,1010....|\n",
      "|-2.8| -7.8|[-2.8,-7.8,1013.4...|\n",
      "|-2.3| -5.6|[-2.3,-5.6,1010.8...|\n",
      "|-2.1|-16.1|[-2.1,-16.1,1010....|\n",
      "|-1.8|-13.5|[-1.8,-13.5,1008....|\n",
      "|-1.4|-15.0|[-1.4,-15.0,1010....|\n",
      "+----+-----+--------------------+\n",
      "only showing top 10 rows\n",
      "\n"
     ]
    },
    {
     "name": "stderr",
     "output_type": "stream",
     "text": [
      "22/05/17 15:52:51 WARN Instrumentation: [1a1630b2] regParam is zero, which might cause numerical instability and overfitting.\n"
     ]
    }
   ],
   "source": [
    "vec_assembler = VectorAssembler(inputCols=['TEMP', 'DEWP', 'SLP', 'STP', 'VISIB', 'WDSP', 'MXSPD', 'GUST', 'MAX', 'MIN'], outputCol=\"features\")\n",
    "vec_df_train = vec_assembler.transform(df_train)\n",
    "\n",
    "# show the content of the columns bedrooms, features and price\n",
    "vec_df_train.select(\"TEMP\",\"DEWP\",\"features\").show(10)\n",
    "\n",
    "lr = LinearRegression(featuresCol=\"features\", labelCol=\"PRCP\")\n",
    "lr_model = lr.fit(vec_df_train)"
   ]
  },
  {
   "cell_type": "code",
   "execution_count": 69,
   "id": "970b680f-5674-4e53-a92d-4e6f7b1b790a",
   "metadata": {},
   "outputs": [
    {
     "name": "stdout",
     "output_type": "stream",
     "text": [
      "The formula for the linear regression line is: \tPRCP = -0.0 * [INPUTCOLS] + 0.93\n"
     ]
    }
   ],
   "source": [
    "m =  np.around(lr_model.coefficients, decimals=2)\n",
    "b =  np.around(lr_model.intercept, decimals= 2)\n",
    "\n",
    "# print the linear regression line\n",
    "\n",
    "print(f\"The formula for the linear regression line is: \\tPRCP = {m[0]} * [INPUTCOLS] + {b}\")"
   ]
  },
  {
   "cell_type": "code",
   "execution_count": 70,
   "id": "c2bc457c-ab8e-4baf-bef9-034d17d1777a",
   "metadata": {},
   "outputs": [
    {
     "data": {
      "text/plain": [
       "0.03605415540726854"
      ]
     },
     "execution_count": 70,
     "metadata": {},
     "output_type": "execute_result"
    }
   ],
   "source": [
    "avg_prcp = float(df_train.select(avg(\"PRCP\")).first()[0])\n",
    "df_pred = df_train.withColumn(\"avg_prcp_prediction\", lit(avg_prcp))\n",
    "avg_prcp"
   ]
  },
  {
   "cell_type": "code",
   "execution_count": 71,
   "id": "d293991a-0014-42c0-9690-35d27269022a",
   "metadata": {},
   "outputs": [
    {
     "name": "stdout",
     "output_type": "stream",
     "text": [
      "The RMSE for predicting the average price is: 0.21\n"
     ]
    }
   ],
   "source": [
    "evaluator = RegressionEvaluator(predictionCol=\"avg_prcp_prediction\", labelCol=\"PRCP\", metricName=\"rmse\")\n",
    "\n",
    "print(f\"The RMSE for predicting the average price is: {evaluator.evaluate(df_pred):.2f}\")"
   ]
  },
  {
   "cell_type": "code",
   "execution_count": 72,
   "id": "b572c282-22c9-4f2f-ad86-a0f8b97518d5",
   "metadata": {},
   "outputs": [],
   "source": [
    "pipeline = Pipeline(stages=[vec_assembler, lr_model])\n",
    "\n",
    "# get the model (as transformer)\n",
    "pipeline_model = pipeline.fit(df_train)"
   ]
  },
  {
   "cell_type": "code",
   "execution_count": 74,
   "id": "6b99a62b-efc2-45c3-abe2-d7ae472e39f7",
   "metadata": {},
   "outputs": [
    {
     "name": "stdout",
     "output_type": "stream",
     "text": [
      "+--------------------+----+--------------------+\n",
      "|            features|PRCP|          prediction|\n",
      "+--------------------+----+--------------------+\n",
      "|[33.8,22.7,1010.8...|2.76| 0.07207634870316681|\n",
      "|[61.8,45.3,1020.7...|1.57|  0.0632703377349173|\n",
      "|[38.5,23.5,1004.7...|1.57| 0.07179576368099228|\n",
      "|[37.3,27.3,1006.8...|1.18| 0.05567252949824186|\n",
      "|[50.1,47.0,1007.2...|0.75| 0.05182540963201432|\n",
      "|[30.0,26.2,979.0,...|0.45| 0.09484696716043806|\n",
      "|[40.4,34.3,1016.3...|0.41|0.038091194162264363|\n",
      "|[29.1,25.4,1010.8...|0.39| 0.05046234134859362|\n",
      "|[33.4,26.8,1003.3...|0.27|0.039482139837274555|\n",
      "|[44.0,41.8,1015.2...|0.19| 0.00913385700596403|\n",
      "|[42.6,37.4,1014.8...|0.19| 0.14521492763753774|\n",
      "|[35.1,33.5,1010.8...|0.17| 0.02624101924591904|\n",
      "|[45.4,38.7,1010.8...|0.16|0.029902359900101705|\n",
      "|[38.4,35.0,1010.8...|0.16| 0.03463889992621105|\n",
      "|[41.0,30.5,1003.9...|0.15|  0.0791146998574882|\n",
      "|[58.4,48.9,1004.5...|0.15| 0.08425758610305101|\n",
      "|[33.8,28.6,1013.5...|0.14|  0.0513826680940056|\n",
      "|[27.2,22.9,1010.8...|0.13|0.043598643785929925|\n",
      "|[38.3,34.1,1011.6...|0.11| 0.03502358141252082|\n",
      "|[44.4,44.1,999.6,...|0.11| 0.05712688657556442|\n",
      "|[57.4,56.2,1010.8...|0.11|0.023154417599987487|\n",
      "|[19.8,16.1,1006.4...| 0.1| 0.09216011646202438|\n",
      "|[51.7,47.6,1011.5...|0.07|0.016537861122110753|\n",
      "|[43.3,42.3,1000.1...|0.06|0.044182779834965435|\n",
      "|[30.8,27.3,995.4,...|0.06| 0.08598945903885802|\n",
      "|[52.7,45.1,1010.8...|0.06| 0.04575253172557203|\n",
      "|[30.5,22.8,1017.4...|0.05| 0.03434512905064824|\n",
      "|[30.1,24.3,1010.8...|0.05|0.052915875641765475|\n",
      "|[34.4,29.1,997.7,...|0.05| 0.13710436552340188|\n",
      "|[21.4,18.6,1005.4...|0.04|0.060167084656715386|\n",
      "|[34.2,29.5,998.8,...|0.04| 0.05348970481421644|\n",
      "|[39.3,37.9,1006.4...|0.04|0.025854382561652844|\n",
      "|[33.7,22.1,986.4,...|0.04| 0.07253318270205822|\n",
      "|[26.6,10.3,1003.6...|0.03| 0.08700499971843068|\n",
      "|[42.8,39.2,1010.8...|0.03| 0.03837715461416347|\n",
      "|[43.1,39.6,1000.7...|0.03|0.059089585987622595|\n",
      "|[35.4,29.0,1010.8...|0.03| 0.03757559515938569|\n",
      "|[25.5,20.4,1010.8...|0.03|0.052727485709910815|\n",
      "|[36.4,28.4,1010.8...|0.03| 0.02863589274403855|\n",
      "|[17.8,9.3,1010.8,...|0.02| 0.09894783832740339|\n",
      "|[71.2,56.9,1010.8...|0.02| 0.06449167248609633|\n",
      "|[2.3,-1.0,1025.4,...|0.02| 0.05642678618254526|\n",
      "|[38.4,35.4,1002.6...|0.02| 0.04479550028941781|\n",
      "|[15.0,5.7,1010.8,...|0.01| 0.04724225465555976|\n",
      "|[9.2,6.4,1006.6,1...|0.01| 0.06820244832010014|\n",
      "|[52.1,41.1,1026.3...|0.01| 0.13785466893471754|\n",
      "|[57.9,53.8,1010.8...|0.01|  0.0453078489652623|\n",
      "|[19.4,17.3,1018.6...|0.01| 0.07951561210009694|\n",
      "|[51.8,43.3,1007.4...|0.01|0.030323374993794894|\n",
      "|[25.4,20.2,1018.2...|0.01| 0.04217512494799658|\n",
      "|[39.3,33.7,1000.1...| 0.0|0.025252560864520546|\n",
      "|[23.3,19.4,1004.8...| 0.0| 0.06322056455987868|\n",
      "|[22.8,11.4,1026.7...| 0.0| 0.02302552823564219|\n",
      "|[45.9,41.5,1007.6...| 0.0|0.020194997972835305|\n",
      "|[17.1,6.0,1033.9,...| 0.0|0.009802209096360315|\n",
      "|[43.6,40.2,1012.1...| 0.0| 0.04350110916157579|\n",
      "|[27.4,25.8,1007.7...| 0.0|0.045791571776964024|\n",
      "|[29.3,21.0,1010.8...| 0.0| 0.02200790893150828|\n",
      "|[30.4,25.4,997.8,...| 0.0| 0.06009336847389357|\n",
      "|[33.4,26.4,1010.8...| 0.0| 0.03599163108751546|\n",
      "|[20.0,14.0,1010.9...| 0.0|0.037259629021814566|\n",
      "|[44.9,31.7,1010.8...| 0.0| 0.03244062922196189|\n",
      "|[48.1,36.0,1010.8...| 0.0|0.035314603055180416|\n",
      "|[54.7,50.0,1010.8...| 0.0|0.014286553290209336|\n",
      "|[12.3,3.3,1010.8,...| 0.0| 0.07059639375295756|\n",
      "|[12.4,3.3,1010.8,...| 0.0|0.009235810142978806|\n",
      "|[18.2,34.0,1010.8...| 0.0|0.052037858015864025|\n",
      "|[22.2,9.5,1007.9,...| 0.0|  0.1478982610184234|\n",
      "|[15.6,11.5,1010.8...| 0.0| 0.11307787080147413|\n",
      "|[20.0,10.9,1010.8...| 0.0| 0.05386623306285554|\n",
      "|[19.8,11.2,1010.8...| 0.0|0.020269644688827637|\n",
      "|[22.6,34.0,1010.8...| 0.0|0.029639311112836464|\n",
      "|[24.1,20.5,1010.8...| 0.0| 0.04580500970999901|\n",
      "|[31.5,28.0,1010.8...| 0.0| 0.03364616724052516|\n",
      "|[34.7,31.3,1010.8...| 0.0| 0.01996058352688923|\n",
      "|[36.4,35.1,1016.8...| 0.0| 0.03123828340687529|\n",
      "|[46.4,37.6,1010.8...| 0.0| 0.04500558572533564|\n",
      "|[57.0,51.3,1010.8...| 0.0| 0.03562600727305887|\n",
      "|[24.4,21.6,1011.3...| 0.0| 0.06453020804279608|\n",
      "|[37.2,31.9,1010.8...| 0.0|0.031185874306650208|\n",
      "|[31.7,27.0,1004.6...| 0.0| 0.03957526108187315|\n",
      "|[43.5,29.7,1010.8...| 0.0| 0.06362974839499991|\n",
      "|[35.2,32.2,1016.6...| 0.0| 0.03384110218429692|\n",
      "|[50.5,43.0,1010.8...| 0.0|0.037661859272062115|\n",
      "|[41.9,41.8,1017.1...| 0.0| 0.04078705551950801|\n",
      "|[59.0,38.0,1019.1...| 0.0|0.059106957660084336|\n",
      "|[49.5,34.5,1010.8...| 0.0| 0.03740131200565244|\n",
      "|[29.5,21.7,1010.8...| 0.0| 0.04236287308681952|\n",
      "|[-0.3,-6.2,1014.1...| 0.0| 0.07006174006895416|\n",
      "|[0.2,-3.2,1026.5,...| 0.0| 0.07559391490449752|\n",
      "|[57.4,54.4,1016.5...| 0.0| 0.03039538289954613|\n",
      "|[4.2,0.7,1014.1,9...| 0.0|0.057323310856564946|\n",
      "|[6.7,3.3,1022.8,1...| 0.0|0.041962056824665805|\n",
      "|[22.8,19.2,1010.8...| 0.0|  0.0437728224891617|\n",
      "|[23.5,17.9,998.2,...| 0.0| 0.09015021050030325|\n",
      "|[28.1,19.4,995.1,...| 0.0| 0.06588020228128944|\n",
      "|[29.1,23.3,1002.5...| 0.0| 0.03956846431392558|\n",
      "|[30.4,27.4,1010.8...| 0.0| 0.04054431483745169|\n",
      "|[18.0,12.5,1010.8...| 0.0| 0.05567602062847865|\n",
      "|[34.3,26.2,1010.8...| 0.0| 0.03466860379353787|\n",
      "|[35.4,25.9,1010.8...| 0.0| 0.02331137356352575|\n",
      "|[36.7,27.7,1010.8...| 0.0|0.026924757529646293|\n",
      "|[26.1,23.3,1022.5...| 0.0| 0.05572491402821911|\n",
      "|[40.8,36.2,1010.8...| 0.0|0.036583890613566816|\n",
      "|[28.4,24.0,1030.3...| 0.0|0.007576965944831704|\n",
      "|[50.2,40.0,1004.7...| 0.0|0.042999033968501243|\n",
      "|[35.7,26.3,1005.4...| 0.0| 0.03765656685023333|\n",
      "|[37.9,30.5,1028.1...| 0.0|0.012964095252510632|\n",
      "|[41.4,32.5,1019.8...| 0.0|  0.0276426818051575|\n",
      "|[37.4,30.2,1026.2...| 0.0| 0.01018166965109013|\n",
      "|[37.7,34.8,1004.4...| 0.0| 0.06463364168643626|\n",
      "|[3.5,-8.0,1010.8,...| 0.0| 0.05833589359060343|\n",
      "|[6.6,-5.1,1010.8,...| 0.0| 0.04144563620311881|\n",
      "|[44.6,35.2,1010.8...| 0.0| 0.02742841027034626|\n",
      "|[50.0,40.2,1020.4...| 0.0|0.012154510406805819|\n",
      "|[35.8,32.1,1010.8...| 0.0|0.032743568604871154|\n",
      "|[40.4,33.1,1010.8...| 0.0|0.030245932814466192|\n",
      "|[51.6,41.6,1004.9...| 0.0| 0.07143331151859222|\n",
      "|[51.8,40.3,999.9,...| 0.0| 0.04920438200001409|\n",
      "|[33.6,27.9,1013.4...| 0.0|0.027384273133661763|\n",
      "|[39.5,33.7,1022.7...| 0.0|0.011123836133655418|\n",
      "|[62.2,40.1,1010.8...| 0.0|0.050740140610415096|\n",
      "|[64.9,38.5,1022.1...| 0.0| 0.06968674343345527|\n",
      "|[22.5,34.0,1028.1...| 0.0| 0.15230300547679632|\n",
      "|[41.6,35.9,1010.8...| 0.0| 0.02688288546436668|\n",
      "|[35.5,31.0,1029.7...| 0.0|  0.1026387465895886|\n",
      "|[41.0,35.1,1010.8...| 0.0| 0.03671062278832582|\n",
      "|[30.1,24.3,1010.8...| 0.0|0.056987558640770986|\n",
      "|[47.8,35.6,1019.9...| 0.0|0.053702137680511464|\n",
      "|[36.6,25.8,1010.8...| 0.0|0.020236092671376715|\n",
      "|[33.4,26.9,1010.8...| 0.0| 0.05043243537634645|\n",
      "|[42.8,34.0,1033.8...| 0.0|  0.1299268980630366|\n",
      "|[44.9,37.2,1019.0...| 0.0| 0.04321166805971022|\n",
      "|[47.2,32.8,1028.9...| 0.0|  0.1499728651938277|\n",
      "|[41.1,31.6,1010.8...| 0.0|0.007677636447532055|\n",
      "|[47.8,42.0,1010.8...| 0.0|0.057445460327391396|\n",
      "|[49.9,45.5,1012.3...| 0.0|0.026380789704370966|\n",
      "|[56.2,53.4,1011.1...| 0.0|0.036285336272438795|\n",
      "|[58.1,53.5,1015.2...| 0.0|0.026785752814413977|\n",
      "|[60.5,45.5,1010.8...| 0.0|   0.075932673481244|\n",
      "|[64.0,58.2,1010.8...| 0.0|0.030615915095797086|\n",
      "|[65.6,61.9,1006.8...| 0.0|0.047289990302135654|\n",
      "|[9.5,34.0,1010.8,...| 0.0| 0.04671035138375379|\n",
      "|[10.7,34.0,1010.8...| 0.0|0.054889542659152135|\n",
      "|[25.5,10.6,1012.5...| 0.0|0.031889841786526985|\n",
      "|[26.3,34.0,1010.8...| 0.0|0.044204511769155075|\n",
      "|[29.5,34.0,1010.8...| 0.0| 0.03348988588293089|\n",
      "|[31.2,24.6,1013.1...| 0.0|0.021120644438017422|\n",
      "|[34.9,23.5,1003.0...| 0.0| 0.03479050290511243|\n",
      "|[37.7,20.8,1007.1...| 0.0| 0.03997940873393302|\n",
      "|[38.1,34.0,1010.8...| 0.0| 0.03407274938404847|\n",
      "|[38.6,34.0,1010.8...| 0.0| 0.04328845448870089|\n",
      "|[38.8,30.5,978.5,...| 0.0| 0.07175026891608027|\n",
      "|[38.8,30.6,996.1,...| 0.0| 0.04938629244716786|\n",
      "|[40.1,34.0,1010.8...| 0.0| 0.02225257889635024|\n",
      "|[42.7,34.0,1010.8...| 0.0|0.016468755332621265|\n",
      "|[44.4,40.9,1002.1...| 0.0| 0.03789823406352444|\n",
      "|[46.3,41.1,1012.2...| 0.0|0.014043699459579395|\n",
      "|[46.5,42.5,1002.1...| 0.0| 0.02957725989612925|\n",
      "|[47.8,34.0,1010.8...| 0.0|0.024015935446035752|\n",
      "|[48.3,41.3,1020.0...| 0.0|0.009591721440861734|\n",
      "|[34.8,28.0,991.5,...| 0.0| 0.03356712455367439|\n",
      "|[41.7,36.0,1010.8...| 0.0|0.027529512878699647|\n",
      "|[42.5,36.1,1010.8...| 0.0| 0.05061020670776517|\n",
      "|[46.7,37.5,1010.8...| 0.0|0.029465455832716536|\n",
      "|[56.6,48.5,1017.1...| 0.0|0.021323263203509635|\n",
      "|[22.7,10.2,1010.8...| 0.0| 0.03059107909675418|\n",
      "|[33.8,24.9,1010.8...| 0.0|0.026328968856754065|\n",
      "|[25.4,17.1,1010.8...| 0.0|0.029329929904400642|\n",
      "|[28.5,19.8,1010.8...| 0.0| 0.03842095485060204|\n",
      "|[32.6,20.9,1010.8...| 0.0|0.021886915826097475|\n",
      "|[37.3,34.6,1010.8...| 0.0|0.043348767108929875|\n",
      "|[50.1,49.7,1010.8...| 0.0|0.009477711668209099|\n",
      "|[53.0,47.6,1010.8...| 0.0|   0.016831036143376|\n",
      "|[15.8,6.0,1021.2,...| 0.0|0.023424102196982988|\n",
      "|[16.5,11.5,1010.8...| 0.0| 0.03412949952406863|\n",
      "|[24.7,18.4,1002.8...| 0.0| 0.04957120564198525|\n",
      "|[17.4,8.9,1010.8,...| 0.0|0.051232932459575276|\n",
      "|[31.9,27.1,1013.1...| 0.0| 0.04643759250054047|\n",
      "|[44.7,41.2,1010.8...| 0.0|0.033174801770438855|\n",
      "|[33.8,25.7,1018.7...| 0.0| 0.02978700511318333|\n",
      "|[33.9,26.7,1016.4...| 0.0|0.025170964594151357|\n",
      "|[36.6,31.0,1008.3...| 0.0| 0.02935330280958237|\n",
      "|[41.2,32.4,1025.8...| 0.0|0.023784281012612984|\n",
      "|[43.2,20.8,1006.1...| 0.0|  0.0675406884220543|\n",
      "|[47.2,40.4,999.3,...| 0.0| 0.03665937791454987|\n",
      "|[47.8,38.5,1010.8...| 0.0|0.016439089585879363|\n",
      "|[52.8,42.1,1010.8...| 0.0| 0.04154630670828774|\n",
      "|[53.3,44.4,1000.5...| 0.0| 0.03987338854049072|\n",
      "|[54.0,49.1,1010.8...| 0.0|0.025086757146333127|\n",
      "|[63.0,38.0,1015.1...| 0.0| 0.06577935743989693|\n",
      "|[16.2,8.7,1010.8,...| 0.0| 0.03392326473273399|\n",
      "|[26.7,18.4,1010.8...| 0.0|0.048288719615075526|\n",
      "|[28.9,26.0,1010.8...| 0.0|  0.0270104565230338|\n",
      "|[34.7,23.2,1010.8...| 0.0|0.001259621375653...|\n",
      "|[37.6,24.3,1010.8...| 0.0| 0.04225173061541743|\n",
      "|[38.0,28.5,1010.8...| 0.0| 0.01635937743439786|\n",
      "|[39.0,31.3,1010.8...| 0.0|0.021035143369136255|\n",
      "|[39.2,30.4,1010.8...| 0.0|0.010714904870134045|\n",
      "|[39.3,30.4,1010.8...| 0.0|0.012571519615188986|\n",
      "+--------------------+----+--------------------+\n",
      "only showing top 200 rows\n",
      "\n"
     ]
    },
    {
     "data": {
      "text/plain": [
       "['TEMP',\n",
       " 'DEWP',\n",
       " 'SLP',\n",
       " 'STP',\n",
       " 'VISIB',\n",
       " 'WDSP',\n",
       " 'MXSPD',\n",
       " 'GUST',\n",
       " 'MAX',\n",
       " 'MIN',\n",
       " 'PRCP',\n",
       " 'SNDP',\n",
       " 'FRSHTT',\n",
       " 'features',\n",
       " 'prediction']"
      ]
     },
     "execution_count": 74,
     "metadata": {},
     "output_type": "execute_result"
    }
   ],
   "source": [
    "df_prediction = pipeline_model.transform(df_test)\n",
    "\n",
    "# show the columns worth to be looked at\n",
    "df_prediction.select(\"features\",\"PRCP\",\"prediction\").sample(False, 0.1).sort(\"PRCP\", ascending=False).show(200)\n",
    "\n",
    "df_prediction.columns"
   ]
  },
  {
   "cell_type": "code",
   "execution_count": null,
   "id": "caf43eb5-fb88-4729-82c3-171965a25d27",
   "metadata": {},
   "outputs": [],
   "source": []
  },
  {
   "cell_type": "code",
   "execution_count": null,
   "id": "3bbb1cff-8efc-4eda-8987-bb3d51d0488a",
   "metadata": {},
   "outputs": [],
   "source": []
  }
 ],
 "metadata": {
  "kernelspec": {
   "display_name": "Python 3 (ipykernel)",
   "language": "python",
   "name": "python3"
  },
  "language_info": {
   "codemirror_mode": {
    "name": "ipython",
    "version": 3
   },
   "file_extension": ".py",
   "mimetype": "text/x-python",
   "name": "python",
   "nbconvert_exporter": "python",
   "pygments_lexer": "ipython3",
   "version": "3.8.10"
  }
 },
 "nbformat": 4,
 "nbformat_minor": 5
}
