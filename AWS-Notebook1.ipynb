{
 "cells": [
  {
   "cell_type": "code",
   "execution_count": 37,
   "id": "e9d0be34",
   "metadata": {},
   "outputs": [],
   "source": [
    "import os \n",
    "\n",
    "import numpy as np \n",
    "import pandas as pd  \n",
    "import matplotlib.pyplot as plt\n",
    "import seaborn as sns\n",
    "import warnings\n",
    "import nbimporter\n",
    "import Useful_Visualization_Functions\n",
    "from pyspark.ml import *\n",
    "from pyspark.sql import *\n",
    "from pyspark.ml.classification import LinearSVC\n",
    "from pyspark.ml.evaluation import BinaryClassificationEvaluator\n",
    "from pyspark.ml import Pipeline\n",
    "from pyspark.ml.stat import Correlation\n",
    "from pyspark.ml.feature import Imputer, VectorAssembler\n",
    "from pyspark.ml.regression import LinearRegression\n",
    "from pyspark.ml.evaluation import RegressionEvaluator\n",
    "from pyspark.sql.types import *\n",
    "from pyspark.sql.functions import *\n",
    "from pyspark.sql.functions import col, explode, array, lit\n",
    "warnings.filterwarnings(\"ignore\")\n",
    "import pyspark.sql.functions as F"
   ]
  },
  {
   "cell_type": "code",
   "execution_count": 38,
   "id": "387b62b3",
   "metadata": {},
   "outputs": [],
   "source": [
    "# from pyspark.sql import SparkSession\n",
    "# from pyspark.sql import Row\n",
    "# from pyspark.sql.functions import lit, col, column, expr, desc, asc"
   ]
  },
  {
   "cell_type": "code",
   "execution_count": 39,
   "id": "a8da508b",
   "metadata": {},
   "outputs": [],
   "source": [
    "# ! pip install matplotlib\n",
    "# ! pip install seaborn\n",
    "# ! pip install ipynb\n",
    "# ! pip install nbimporter"
   ]
  },
  {
   "cell_type": "code",
   "execution_count": 40,
   "id": "0e5c799b",
   "metadata": {},
   "outputs": [],
   "source": [
    "# build our own SparkSession\n",
    "myspark = SparkSession\\\n",
    "    .builder\\\n",
    "    .appName(\"AWS-Spark\")\\\n",
    "    .config(\"spark.driver.memory\", \"15g\") \\\n",
    "    .config(\"spark.sql.shuffle.partitions\",6)\\\n",
    "    .config(\"spark.sql.repl.eagereval.enabled\",True)\\\n",
    "    .getOrCreate()"
   ]
  },
  {
   "cell_type": "code",
   "execution_count": 41,
   "id": "42d2d3be",
   "metadata": {},
   "outputs": [
    {
     "data": {
      "text/html": [
       "\n",
       "            <div>\n",
       "                <p><b>SparkSession - in-memory</b></p>\n",
       "                \n",
       "        <div>\n",
       "            <p><b>SparkContext</b></p>\n",
       "\n",
       "            <p><a href=\"http://10.90.21.45:4040\">Spark UI</a></p>\n",
       "\n",
       "            <dl>\n",
       "              <dt>Version</dt>\n",
       "                <dd><code>v3.2.1</code></dd>\n",
       "              <dt>Master</dt>\n",
       "                <dd><code>local[*]</code></dd>\n",
       "              <dt>AppName</dt>\n",
       "                <dd><code>AWS-Spark</code></dd>\n",
       "            </dl>\n",
       "        </div>\n",
       "        \n",
       "            </div>\n",
       "        "
      ],
      "text/plain": [
       "<pyspark.sql.session.SparkSession at 0x7f3c02d8b0a0>"
      ]
     },
     "execution_count": 41,
     "metadata": {},
     "output_type": "execute_result"
    }
   ],
   "source": [
    "myspark"
   ]
  },
  {
   "cell_type": "code",
   "execution_count": 46,
   "id": "12e89599",
   "metadata": {},
   "outputs": [
    {
     "name": "stderr",
     "output_type": "stream",
     "text": [
      "                                                                                \r"
     ]
    },
    {
     "data": {
      "text/plain": [
       "25933550"
      ]
     },
     "execution_count": 46,
     "metadata": {},
     "output_type": "execute_result"
    }
   ],
   "source": [
    "# ! head noaa.csv\n",
    "# noaa_data.show(10)\n",
    "noaa_data = myspark.read.load(\"../Desktop/noaa.csv\", format=\"csv\", sep=\",\", header=True, inferSchema=True)\n",
    "noaa_data.count()"
   ]
  },
  {
   "cell_type": "code",
   "execution_count": 47,
   "id": "277aed05",
   "metadata": {},
   "outputs": [
    {
     "name": "stdout",
     "output_type": "stream",
     "text": [
      "+-----------+----------+----------+----------+---------+--------------------+----+---------------+----+---------------+------+--------------+----+--------------+-----+----------------+----+---------------+-----+-----+----+--------------+----+--------------+----+---------------+-----+------+\n",
      "|    STATION|      DATE|  LATITUDE| LONGITUDE|ELEVATION|                NAME|TEMP|TEMP_ATTRIBUTES|DEWP|DEWP_ATTRIBUTES|   SLP|SLP_ATTRIBUTES| STP|STP_ATTRIBUTES|VISIB|VISIB_ATTRIBUTES|WDSP|WDSP_ATTRIBUTES|MXSPD| GUST| MAX|MAX_ATTRIBUTES| MIN|MIN_ATTRIBUTES|PRCP|PRCP_ATTRIBUTES| SNDP|FRSHTT|\n",
      "+-----------+----------+----------+----------+---------+--------------------+----+---------------+----+---------------+------+--------------+----+--------------+-----+----------------+----+---------------+-----+-----+----+--------------+----+--------------+----+---------------+-----+------+\n",
      "|01001099999|2018-01-01|70.9333333|-8.6666667|      9.0|JAN MAYEN NOR NAV...|22.5|           24.0|15.5|           24.0|1006.2|          24.0| 5.0|          24.0|  9.8|             6.0|24.0|           24.0| 36.9|999.9|29.1|             *|18.9|             *|0.01|              G|999.9|  1000|\n",
      "|01001099999|2018-01-02|70.9333333|-8.6666667|      9.0|JAN MAYEN NOR NAV...|21.0|           24.0|13.3|           24.0|1009.3|          24.0| 8.1|          24.0| 14.0|             6.0|13.3|           24.0| 19.4|999.9|22.8|              |18.7|              | 0.0|              G|999.9|  1000|\n",
      "|01001099999|2018-01-03|70.9333333|-8.6666667|      9.0|JAN MAYEN NOR NAV...|21.6|           24.0|15.1|           24.0|1011.8|          24.0|10.6|          24.0| 11.9|             6.0| 7.3|           24.0| 15.7| 21.6|23.0|             *|17.8|             *| 0.0|              G|999.9|  1000|\n",
      "|01001099999|2018-01-04|70.9333333|-8.6666667|      9.0|JAN MAYEN NOR NAV...|19.5|           24.0|13.9|           24.0|1017.1|          24.0|15.9|          24.0|  7.3|             6.0|13.2|           24.0| 21.4| 25.4|24.4|             *|14.0|             *|0.02|              G|999.9|  1000|\n",
      "|01001099999|2018-01-05|70.9333333|-8.6666667|      9.0|JAN MAYEN NOR NAV...|11.4|           24.0| 4.1|           24.0|1021.8|          24.0|20.6|          24.0|  0.7|             6.0|19.8|           24.0| 23.3| 35.5|14.7|             *| 8.2|             *| 0.0|              G|999.9|  1000|\n",
      "|01001099999|2018-01-06|70.9333333|-8.6666667|      9.0|JAN MAYEN NOR NAV...|12.8|           24.0| 4.4|           24.0|1018.7|          24.0|17.5|          24.0|  4.8|             6.0|14.9|           24.0| 18.8| 29.3|15.4|             *| 9.5|             *|0.04|              G|999.9|  1000|\n",
      "|01001099999|2018-01-07|70.9333333|-8.6666667|      9.0|JAN MAYEN NOR NAV...|12.1|           24.0| 4.4|           24.0|1015.1|          24.0|13.9|          24.0|  3.9|             6.0|18.4|           24.0| 27.2| 40.6|13.1|             *| 9.0|              |0.01|              G|999.9|  1000|\n",
      "|01001099999|2018-01-08|70.9333333|-8.6666667|      9.0|JAN MAYEN NOR NAV...|25.8|           24.0|22.1|           24.0|1001.7|          24.0| 0.5|          24.0|  6.2|             6.0|18.9|           24.0| 33.0| 41.6|34.5|              |11.8|              | 0.0|              G|999.9|  1000|\n",
      "|01001099999|2018-01-09|70.9333333|-8.6666667|      9.0|JAN MAYEN NOR NAV...|29.9|           24.0|26.6|           24.0|1007.2|          24.0| 6.0|          24.0|  4.4|             6.0|15.0|           23.0| 36.9|999.9|35.2|             *|25.2|             *|0.26|              G|999.9|  1000|\n",
      "|01001099999|2018-01-10|70.9333333|-8.6666667|      9.0|JAN MAYEN NOR NAV...|35.8|           24.0|34.2|           24.0|1010.9|          24.0| 9.7|          24.0|  5.4|             6.0|11.4|           24.0| 17.5|999.9|37.4|             *|31.6|              |0.04|              G|999.9|110000|\n",
      "+-----------+----------+----------+----------+---------+--------------------+----+---------------+----+---------------+------+--------------+----+--------------+-----+----------------+----+---------------+-----+-----+----+--------------+----+--------------+----+---------------+-----+------+\n",
      "only showing top 10 rows\n",
      "\n"
     ]
    }
   ],
   "source": [
    "noaa_data.show(10)"
   ]
  },
  {
   "cell_type": "code",
   "execution_count": 29,
   "id": "d31b3512",
   "metadata": {
    "scrolled": true
   },
   "outputs": [
    {
     "name": "stdout",
     "output_type": "stream",
     "text": [
      "root\n",
      " |-- STATION: string (nullable = true)\n",
      " |-- DATE: string (nullable = true)\n",
      " |-- LATITUDE: double (nullable = true)\n",
      " |-- LONGITUDE: double (nullable = true)\n",
      " |-- ELEVATION: double (nullable = true)\n",
      " |-- NAME: string (nullable = true)\n",
      " |-- TEMP: double (nullable = true)\n",
      " |-- TEMP_ATTRIBUTES: double (nullable = true)\n",
      " |-- DEWP: double (nullable = true)\n",
      " |-- DEWP_ATTRIBUTES: double (nullable = true)\n",
      " |-- SLP: double (nullable = true)\n",
      " |-- SLP_ATTRIBUTES: double (nullable = true)\n",
      " |-- STP: double (nullable = true)\n",
      " |-- STP_ATTRIBUTES: double (nullable = true)\n",
      " |-- VISIB: double (nullable = true)\n",
      " |-- VISIB_ATTRIBUTES: double (nullable = true)\n",
      " |-- WDSP: double (nullable = true)\n",
      " |-- WDSP_ATTRIBUTES: double (nullable = true)\n",
      " |-- MXSPD: double (nullable = true)\n",
      " |-- GUST: double (nullable = true)\n",
      " |-- MAX: double (nullable = true)\n",
      " |-- MAX_ATTRIBUTES: string (nullable = true)\n",
      " |-- MIN: double (nullable = true)\n",
      " |-- MIN_ATTRIBUTES: string (nullable = true)\n",
      " |-- PRCP: double (nullable = true)\n",
      " |-- PRCP_ATTRIBUTES: string (nullable = true)\n",
      " |-- SNDP: double (nullable = true)\n",
      " |-- FRSHTT: integer (nullable = true)\n",
      "\n"
     ]
    }
   ],
   "source": [
    "noaa_data.printSchema()"
   ]
  },
  {
   "cell_type": "code",
   "execution_count": 30,
   "id": "20f9f9a4",
   "metadata": {
    "scrolled": true
   },
   "outputs": [
    {
     "name": "stdout",
     "output_type": "stream",
     "text": [
      "+----+---------+-----+\n",
      "|TEMP|ELEVATION|VISIB|\n",
      "+----+---------+-----+\n",
      "|22.5|      9.0|  9.8|\n",
      "|21.0|      9.0| 14.0|\n",
      "|21.6|      9.0| 11.9|\n",
      "|19.5|      9.0|  7.3|\n",
      "|11.4|      9.0|  0.7|\n",
      "|12.8|      9.0|  4.8|\n",
      "|12.1|      9.0|  3.9|\n",
      "|25.8|      9.0|  6.2|\n",
      "|29.9|      9.0|  4.4|\n",
      "|35.8|      9.0|  5.4|\n",
      "+----+---------+-----+\n",
      "only showing top 10 rows\n",
      "\n"
     ]
    }
   ],
   "source": [
    "noaa_data.select(\"TEMP\", \"ELEVATION\", \"VISIB\").show(10)"
   ]
  },
  {
   "cell_type": "code",
   "execution_count": 48,
   "id": "69c93883-e0e9-45c1-9213-66e728fbc2a3",
   "metadata": {},
   "outputs": [
    {
     "name": "stdout",
     "output_type": "stream",
     "text": [
      "+-----------+----------+----------+----------+---------+--------------------+----+---------------+----+---------------+------+--------------+----+--------------+-----+----------------+----+---------------+-----+-----+----+--------------+----+--------------+----+---------------+-----+------+--------+\n",
      "|    STATION|      DATE|  LATITUDE| LONGITUDE|ELEVATION|                NAME|TEMP|TEMP_ATTRIBUTES|DEWP|DEWP_ATTRIBUTES|   SLP|SLP_ATTRIBUTES| STP|STP_ATTRIBUTES|VISIB|VISIB_ATTRIBUTES|WDSP|WDSP_ATTRIBUTES|MXSPD| GUST| MAX|MAX_ATTRIBUTES| MIN|MIN_ATTRIBUTES|PRCP|PRCP_ATTRIBUTES| SNDP|FRSHTT|ItRained|\n",
      "+-----------+----------+----------+----------+---------+--------------------+----+---------------+----+---------------+------+--------------+----+--------------+-----+----------------+----+---------------+-----+-----+----+--------------+----+--------------+----+---------------+-----+------+--------+\n",
      "|01001099999|2018-01-01|70.9333333|-8.6666667|      9.0|JAN MAYEN NOR NAV...|22.5|           24.0|15.5|           24.0|1006.2|          24.0| 5.0|          24.0|  9.8|             6.0|24.0|           24.0| 36.9|999.9|29.1|             *|18.9|             *|0.01|              G|999.9|  1000|       0|\n",
      "|01001099999|2018-01-02|70.9333333|-8.6666667|      9.0|JAN MAYEN NOR NAV...|21.0|           24.0|13.3|           24.0|1009.3|          24.0| 8.1|          24.0| 14.0|             6.0|13.3|           24.0| 19.4|999.9|22.8|              |18.7|              | 0.0|              G|999.9|  1000|       0|\n",
      "|01001099999|2018-01-03|70.9333333|-8.6666667|      9.0|JAN MAYEN NOR NAV...|21.6|           24.0|15.1|           24.0|1011.8|          24.0|10.6|          24.0| 11.9|             6.0| 7.3|           24.0| 15.7| 21.6|23.0|             *|17.8|             *| 0.0|              G|999.9|  1000|       0|\n",
      "|01001099999|2018-01-04|70.9333333|-8.6666667|      9.0|JAN MAYEN NOR NAV...|19.5|           24.0|13.9|           24.0|1017.1|          24.0|15.9|          24.0|  7.3|             6.0|13.2|           24.0| 21.4| 25.4|24.4|             *|14.0|             *|0.02|              G|999.9|  1000|       0|\n",
      "|01001099999|2018-01-05|70.9333333|-8.6666667|      9.0|JAN MAYEN NOR NAV...|11.4|           24.0| 4.1|           24.0|1021.8|          24.0|20.6|          24.0|  0.7|             6.0|19.8|           24.0| 23.3| 35.5|14.7|             *| 8.2|             *| 0.0|              G|999.9|  1000|       0|\n",
      "|01001099999|2018-01-06|70.9333333|-8.6666667|      9.0|JAN MAYEN NOR NAV...|12.8|           24.0| 4.4|           24.0|1018.7|          24.0|17.5|          24.0|  4.8|             6.0|14.9|           24.0| 18.8| 29.3|15.4|             *| 9.5|             *|0.04|              G|999.9|  1000|       0|\n",
      "|01001099999|2018-01-07|70.9333333|-8.6666667|      9.0|JAN MAYEN NOR NAV...|12.1|           24.0| 4.4|           24.0|1015.1|          24.0|13.9|          24.0|  3.9|             6.0|18.4|           24.0| 27.2| 40.6|13.1|             *| 9.0|              |0.01|              G|999.9|  1000|       0|\n",
      "|01001099999|2018-01-08|70.9333333|-8.6666667|      9.0|JAN MAYEN NOR NAV...|25.8|           24.0|22.1|           24.0|1001.7|          24.0| 0.5|          24.0|  6.2|             6.0|18.9|           24.0| 33.0| 41.6|34.5|              |11.8|              | 0.0|              G|999.9|  1000|       0|\n",
      "|01001099999|2018-01-09|70.9333333|-8.6666667|      9.0|JAN MAYEN NOR NAV...|29.9|           24.0|26.6|           24.0|1007.2|          24.0| 6.0|          24.0|  4.4|             6.0|15.0|           23.0| 36.9|999.9|35.2|             *|25.2|             *|0.26|              G|999.9|  1000|       0|\n",
      "|01001099999|2018-01-10|70.9333333|-8.6666667|      9.0|JAN MAYEN NOR NAV...|35.8|           24.0|34.2|           24.0|1010.9|          24.0| 9.7|          24.0|  5.4|             6.0|11.4|           24.0| 17.5|999.9|37.4|             *|31.6|              |0.04|              G|999.9|110000|       1|\n",
      "+-----------+----------+----------+----------+---------+--------------------+----+---------------+----+---------------+------+--------------+----+--------------+-----+----------------+----+---------------+-----+-----+----+--------------+----+--------------+----+---------------+-----+------+--------+\n",
      "only showing top 10 rows\n",
      "\n"
     ]
    }
   ],
   "source": [
    "noaa_data = noaa_data.withColumn(\"ItRained\", when((F.length(noaa_data[\"FRSHTT\"]) <= 4), lit(0)) \\\n",
    "                    .when(F.length(noaa_data[\"FRSHTT\"]) == 5, lit(1)) \\\n",
    "                    .otherwise(lit(substring('FRSHTT', 2, 1).cast(IntegerType()))) \\\n",
    ")\n",
    "\n",
    "noaa_data.show(10)"
   ]
  },
  {
   "cell_type": "code",
   "execution_count": 49,
   "id": "d54a464c",
   "metadata": {},
   "outputs": [
    {
     "name": "stderr",
     "output_type": "stream",
     "text": [
      "                                                                                \r"
     ]
    },
    {
     "name": "stdout",
     "output_type": "stream",
     "text": [
      "+-------+--------------------+\n",
      "|summary|             STATION|\n",
      "+-------+--------------------+\n",
      "|  count|            25933550|\n",
      "|   mean|5.306301503662034...|\n",
      "| stddev|3.060898676315181...|\n",
      "|    min|         00702699999|\n",
      "|    max|         A5125600451|\n",
      "+-------+--------------------+\n",
      "\n"
     ]
    },
    {
     "name": "stderr",
     "output_type": "stream",
     "text": [
      "                                                                                \r"
     ]
    },
    {
     "name": "stdout",
     "output_type": "stream",
     "text": [
      "+-------+----------+\n",
      "|summary|      DATE|\n",
      "+-------+----------+\n",
      "|  count|  25933550|\n",
      "|   mean|      null|\n",
      "| stddev|      null|\n",
      "|    min|2016-01-01|\n",
      "|    max|2022-05-02|\n",
      "+-------+----------+\n",
      "\n"
     ]
    },
    {
     "name": "stderr",
     "output_type": "stream",
     "text": [
      "                                                                                \r"
     ]
    },
    {
     "name": "stdout",
     "output_type": "stream",
     "text": [
      "+-------+-----------------+\n",
      "|summary|         LATITUDE|\n",
      "+-------+-----------------+\n",
      "|  count|         25855512|\n",
      "|   mean|32.34458031097024|\n",
      "| stddev|28.03616478322267|\n",
      "|    min|            -90.0|\n",
      "|    max|            83.65|\n",
      "+-------+-----------------+\n",
      "\n"
     ]
    },
    {
     "name": "stderr",
     "output_type": "stream",
     "text": [
      "                                                                                \r"
     ]
    },
    {
     "name": "stdout",
     "output_type": "stream",
     "text": [
      "+-------+-------------------+\n",
      "|summary|          LONGITUDE|\n",
      "+-------+-------------------+\n",
      "|  count|           25855512|\n",
      "|   mean|-0.8675453553730872|\n",
      "| stddev|   85.4985819331213|\n",
      "|    min|       -179.9833333|\n",
      "|    max|             179.75|\n",
      "+-------+-------------------+\n",
      "\n"
     ]
    },
    {
     "name": "stderr",
     "output_type": "stream",
     "text": [
      "                                                                                \r"
     ]
    },
    {
     "name": "stdout",
     "output_type": "stream",
     "text": [
      "+-------+------------------+\n",
      "|summary|         ELEVATION|\n",
      "+-------+------------------+\n",
      "|  count|          25855045|\n",
      "|   mean|363.52407377514294|\n",
      "| stddev| 546.4576349838859|\n",
      "|    min|            -999.9|\n",
      "|    max|            7026.0|\n",
      "+-------+------------------+\n",
      "\n"
     ]
    },
    {
     "name": "stderr",
     "output_type": "stream",
     "text": [
      "                                                                                \r"
     ]
    },
    {
     "name": "stdout",
     "output_type": "stream",
     "text": [
      "+-------+--------------------+\n",
      "|summary|                NAME|\n",
      "+-------+--------------------+\n",
      "|  count|            25855518|\n",
      "|   mean|                null|\n",
      "| stddev|                null|\n",
      "|    min|068 BAFFIN BAY PO...|\n",
      "|    max|        ZYRYANKA, RS|\n",
      "+-------+--------------------+\n",
      "\n"
     ]
    },
    {
     "name": "stderr",
     "output_type": "stream",
     "text": [
      "                                                                                \r"
     ]
    },
    {
     "name": "stdout",
     "output_type": "stream",
     "text": [
      "+-------+------------------+\n",
      "|summary|              TEMP|\n",
      "+-------+------------------+\n",
      "|  count|          25933550|\n",
      "|   mean| 54.79614306178668|\n",
      "| stddev|23.268999499093304|\n",
      "|    min|            -114.7|\n",
      "|    max|             110.0|\n",
      "+-------+------------------+\n",
      "\n"
     ]
    },
    {
     "name": "stderr",
     "output_type": "stream",
     "text": [
      "                                                                                \r"
     ]
    },
    {
     "name": "stdout",
     "output_type": "stream",
     "text": [
      "+-------+------------------+\n",
      "|summary|   TEMP_ATTRIBUTES|\n",
      "+-------+------------------+\n",
      "|  count|          25933550|\n",
      "|   mean|18.128243800019664|\n",
      "| stddev| 7.476889945115773|\n",
      "|    min|               4.0|\n",
      "|    max|              24.0|\n",
      "+-------+------------------+\n",
      "\n"
     ]
    },
    {
     "name": "stderr",
     "output_type": "stream",
     "text": [
      "                                                                                \r"
     ]
    },
    {
     "name": "stdout",
     "output_type": "stream",
     "text": [
      "+-------+------------------+\n",
      "|summary|              DEWP|\n",
      "+-------+------------------+\n",
      "|  count|          25933550|\n",
      "|   mean|488.62406074386394|\n",
      "| stddev|2057.4176930485223|\n",
      "|    min|            -120.9|\n",
      "|    max|            9999.9|\n",
      "+-------+------------------+\n",
      "\n"
     ]
    },
    {
     "name": "stderr",
     "output_type": "stream",
     "text": [
      "                                                                                \r"
     ]
    },
    {
     "name": "stdout",
     "output_type": "stream",
     "text": [
      "+-------+-----------------+\n",
      "|summary|  DEWP_ATTRIBUTES|\n",
      "+-------+-----------------+\n",
      "|  count|         25933550|\n",
      "|   mean|17.12054631934309|\n",
      "| stddev|8.220488344276054|\n",
      "|    min|              0.0|\n",
      "|    max|             24.0|\n",
      "+-------+-----------------+\n",
      "\n"
     ]
    },
    {
     "name": "stderr",
     "output_type": "stream",
     "text": [
      "                                                                                \r"
     ]
    },
    {
     "name": "stdout",
     "output_type": "stream",
     "text": [
      "+-------+-----------------+\n",
      "|summary|              SLP|\n",
      "+-------+-----------------+\n",
      "|  count|         25933550|\n",
      "|   mean|4163.444167471172|\n",
      "| stddev|4286.966231240549|\n",
      "|    min|            904.4|\n",
      "|    max|           9999.9|\n",
      "+-------+-----------------+\n",
      "\n"
     ]
    },
    {
     "name": "stderr",
     "output_type": "stream",
     "text": [
      "                                                                                \r"
     ]
    },
    {
     "name": "stdout",
     "output_type": "stream",
     "text": [
      "+-------+------------------+\n",
      "|summary|    SLP_ATTRIBUTES|\n",
      "+-------+------------------+\n",
      "|  count|          25933550|\n",
      "|   mean|10.169011955555641|\n",
      "| stddev| 9.768325313957282|\n",
      "|    min|               0.0|\n",
      "|    max|              24.0|\n",
      "+-------+------------------+\n",
      "\n"
     ]
    },
    {
     "name": "stderr",
     "output_type": "stream",
     "text": [
      "                                                                                \r"
     ]
    },
    {
     "name": "stdout",
     "output_type": "stream",
     "text": [
      "+-------+------------------+\n",
      "|summary|               STP|\n",
      "+-------+------------------+\n",
      "|  count|          25933550|\n",
      "|   mean| 698.8149438683114|\n",
      "| stddev|432.57394120621365|\n",
      "|    min|               0.0|\n",
      "|    max|             999.9|\n",
      "+-------+------------------+\n",
      "\n"
     ]
    },
    {
     "name": "stderr",
     "output_type": "stream",
     "text": [
      "                                                                                \r"
     ]
    },
    {
     "name": "stdout",
     "output_type": "stream",
     "text": [
      "+-------+------------------+\n",
      "|summary|    STP_ATTRIBUTES|\n",
      "+-------+------------------+\n",
      "|  count|          25933550|\n",
      "|   mean|11.292145734000936|\n",
      "| stddev| 9.954688583635043|\n",
      "|    min|               0.0|\n",
      "|    max|              24.0|\n",
      "+-------+------------------+\n",
      "\n"
     ]
    },
    {
     "name": "stderr",
     "output_type": "stream",
     "text": [
      "                                                                                \r"
     ]
    },
    {
     "name": "stdout",
     "output_type": "stream",
     "text": [
      "+-------+------------------+\n",
      "|summary|             VISIB|\n",
      "+-------+------------------+\n",
      "|  count|          25933550|\n",
      "|   mean|279.09605141250455|\n",
      "| stddev|440.60251196673966|\n",
      "|    min|               0.0|\n",
      "|    max|             999.9|\n",
      "+-------+------------------+\n",
      "\n"
     ]
    },
    {
     "name": "stderr",
     "output_type": "stream",
     "text": [
      "                                                                                \r"
     ]
    },
    {
     "name": "stdout",
     "output_type": "stream",
     "text": [
      "+-------+------------------+\n",
      "|summary|  VISIB_ATTRIBUTES|\n",
      "+-------+------------------+\n",
      "|  count|          25933550|\n",
      "|   mean|12.187231674799632|\n",
      "| stddev|10.040637320406029|\n",
      "|    min|               0.0|\n",
      "|    max|              24.0|\n",
      "+-------+------------------+\n",
      "\n"
     ]
    },
    {
     "name": "stderr",
     "output_type": "stream",
     "text": [
      "                                                                                \r"
     ]
    },
    {
     "name": "stdout",
     "output_type": "stream",
     "text": [
      "+-------+------------------+\n",
      "|summary|              WDSP|\n",
      "+-------+------------------+\n",
      "|  count|          25933550|\n",
      "|   mean| 46.66762993881708|\n",
      "| stddev|196.08742453616355|\n",
      "|    min|               0.0|\n",
      "|    max|             999.9|\n",
      "+-------+------------------+\n",
      "\n"
     ]
    },
    {
     "name": "stderr",
     "output_type": "stream",
     "text": [
      "                                                                                \r"
     ]
    },
    {
     "name": "stdout",
     "output_type": "stream",
     "text": [
      "+-------+------------------+\n",
      "|summary|   WDSP_ATTRIBUTES|\n",
      "+-------+------------------+\n",
      "|  count|          25933550|\n",
      "|   mean|17.174985067605476|\n",
      "| stddev|  8.20162579982544|\n",
      "|    min|               0.0|\n",
      "|    max|              24.0|\n",
      "+-------+------------------+\n",
      "\n"
     ]
    },
    {
     "name": "stderr",
     "output_type": "stream",
     "text": [
      "                                                                                \r"
     ]
    },
    {
     "name": "stdout",
     "output_type": "stream",
     "text": [
      "+-------+------------------+\n",
      "|summary|             MXSPD|\n",
      "+-------+------------------+\n",
      "|  count|          25933550|\n",
      "|   mean| 68.24044310553055|\n",
      "| stddev|229.42500830443115|\n",
      "|    min|               0.2|\n",
      "|    max|             999.9|\n",
      "+-------+------------------+\n",
      "\n"
     ]
    },
    {
     "name": "stderr",
     "output_type": "stream",
     "text": [
      "                                                                                \r"
     ]
    },
    {
     "name": "stdout",
     "output_type": "stream",
     "text": [
      "+-------+-----------------+\n",
      "|summary|             GUST|\n",
      "+-------+-----------------+\n",
      "|  count|         25933550|\n",
      "|   mean|735.8077882579081|\n",
      "| stddev|433.9757345652434|\n",
      "|    min|              9.7|\n",
      "|    max|            999.9|\n",
      "+-------+-----------------+\n",
      "\n"
     ]
    },
    {
     "name": "stderr",
     "output_type": "stream",
     "text": [
      "                                                                                \r"
     ]
    },
    {
     "name": "stdout",
     "output_type": "stream",
     "text": [
      "+-------+-----------------+\n",
      "|summary|              MAX|\n",
      "+-------+-----------------+\n",
      "|  count|         25933550|\n",
      "|   mean|70.61048029675804|\n",
      "| stddev|252.2792810021753|\n",
      "|    min|           -112.4|\n",
      "|    max|           9999.9|\n",
      "+-------+-----------------+\n",
      "\n"
     ]
    },
    {
     "name": "stderr",
     "output_type": "stream",
     "text": [
      "                                                                                \r"
     ]
    },
    {
     "name": "stdout",
     "output_type": "stream",
     "text": [
      "+-------+--------------+\n",
      "|summary|MAX_ATTRIBUTES|\n",
      "+-------+--------------+\n",
      "|  count|      25933550|\n",
      "|   mean|          null|\n",
      "| stddev|          null|\n",
      "|    min|              |\n",
      "|    max|             *|\n",
      "+-------+--------------+\n",
      "\n"
     ]
    },
    {
     "name": "stderr",
     "output_type": "stream",
     "text": [
      "                                                                                \r"
     ]
    },
    {
     "name": "stdout",
     "output_type": "stream",
     "text": [
      "+-------+------------------+\n",
      "|summary|               MIN|\n",
      "+-------+------------------+\n",
      "|  count|          25933550|\n",
      "|   mean|51.935805815247065|\n",
      "| stddev|  249.204030036391|\n",
      "|    min|            -117.4|\n",
      "|    max|            9999.9|\n",
      "+-------+------------------+\n",
      "\n"
     ]
    },
    {
     "name": "stderr",
     "output_type": "stream",
     "text": [
      "                                                                                \r"
     ]
    },
    {
     "name": "stdout",
     "output_type": "stream",
     "text": [
      "+-------+--------------+\n",
      "|summary|MIN_ATTRIBUTES|\n",
      "+-------+--------------+\n",
      "|  count|      25933550|\n",
      "|   mean|          null|\n",
      "| stddev|          null|\n",
      "|    min|              |\n",
      "|    max|             *|\n",
      "+-------+--------------+\n",
      "\n"
     ]
    },
    {
     "name": "stderr",
     "output_type": "stream",
     "text": [
      "                                                                                \r"
     ]
    },
    {
     "name": "stdout",
     "output_type": "stream",
     "text": [
      "+-------+------------------+\n",
      "|summary|              PRCP|\n",
      "+-------+------------------+\n",
      "|  count|          25933550|\n",
      "|   mean| 7.615574490963987|\n",
      "| stddev|26.393258596339738|\n",
      "|    min|               0.0|\n",
      "|    max|             99.99|\n",
      "+-------+------------------+\n",
      "\n"
     ]
    },
    {
     "name": "stderr",
     "output_type": "stream",
     "text": [
      "                                                                                \r"
     ]
    },
    {
     "name": "stdout",
     "output_type": "stream",
     "text": [
      "+-------+---------------+\n",
      "|summary|PRCP_ATTRIBUTES|\n",
      "+-------+---------------+\n",
      "|  count|       25933550|\n",
      "|   mean|           null|\n",
      "| stddev|           null|\n",
      "|    min|               |\n",
      "|    max|              I|\n",
      "+-------+---------------+\n",
      "\n"
     ]
    },
    {
     "name": "stderr",
     "output_type": "stream",
     "text": [
      "                                                                                \r"
     ]
    },
    {
     "name": "stdout",
     "output_type": "stream",
     "text": [
      "+-------+------------------+\n",
      "|summary|              SNDP|\n",
      "+-------+------------------+\n",
      "|  count|          25933550|\n",
      "|   mean| 926.5820928782955|\n",
      "| stddev|259.24233782375796|\n",
      "|    min|               0.4|\n",
      "|    max|             999.9|\n",
      "+-------+------------------+\n",
      "\n"
     ]
    },
    {
     "name": "stderr",
     "output_type": "stream",
     "text": [
      "                                                                                \r"
     ]
    },
    {
     "name": "stdout",
     "output_type": "stream",
     "text": [
      "+-------+------------------+\n",
      "|summary|            FRSHTT|\n",
      "+-------+------------------+\n",
      "|  count|          25933550|\n",
      "|   mean| 8127.262761326544|\n",
      "| stddev|23948.355432848646|\n",
      "|    min|                 0|\n",
      "|    max|            111111|\n",
      "+-------+------------------+\n",
      "\n"
     ]
    },
    {
     "name": "stderr",
     "output_type": "stream",
     "text": [
      "                                                                                \r"
     ]
    },
    {
     "name": "stdout",
     "output_type": "stream",
     "text": [
      "+-------+-------------------+\n",
      "|summary|           ItRained|\n",
      "+-------+-------------------+\n",
      "|  count|           25933550|\n",
      "|   mean|0.23984209643492696|\n",
      "| stddev| 0.4269869696405484|\n",
      "|    min|                  0|\n",
      "|    max|                  1|\n",
      "+-------+-------------------+\n",
      "\n"
     ]
    },
    {
     "name": "stderr",
     "output_type": "stream",
     "text": [
      "                                                                                \r"
     ]
    },
    {
     "name": "stdout",
     "output_type": "stream",
     "text": [
      "+-----------+\n",
      "|    STATION|\n",
      "+-----------+\n",
      "|01001099999|\n",
      "|01001499999|\n",
      "|01007099999|\n",
      "|01010099999|\n",
      "|01020099999|\n",
      "|01023099999|\n",
      "|01035099999|\n",
      "|01045099999|\n",
      "|01059099999|\n",
      "|01086099999|\n",
      "+-----------+\n",
      "only showing top 10 rows\n",
      "\n"
     ]
    },
    {
     "name": "stderr",
     "output_type": "stream",
     "text": [
      "                                                                                \r"
     ]
    },
    {
     "name": "stdout",
     "output_type": "stream",
     "text": [
      "+----------+\n",
      "|      DATE|\n",
      "+----------+\n",
      "|2018-01-01|\n",
      "|2018-01-03|\n",
      "|2018-01-08|\n",
      "|2018-01-15|\n",
      "|2018-01-19|\n",
      "|2018-01-27|\n",
      "|2018-02-11|\n",
      "|2018-02-15|\n",
      "|2018-02-22|\n",
      "|2018-02-26|\n",
      "+----------+\n",
      "only showing top 10 rows\n",
      "\n"
     ]
    },
    {
     "name": "stderr",
     "output_type": "stream",
     "text": [
      "                                                                                \r"
     ]
    },
    {
     "name": "stdout",
     "output_type": "stream",
     "text": [
      "+----------+\n",
      "|  LATITUDE|\n",
      "+----------+\n",
      "|     78.25|\n",
      "|     69.65|\n",
      "|69.0166667|\n",
      "|71.0166667|\n",
      "|70.3666666|\n",
      "|67.5166667|\n",
      "| 65.461111|\n",
      "|      66.9|\n",
      "| 65.783997|\n",
      "|66.1166666|\n",
      "+----------+\n",
      "only showing top 10 rows\n",
      "\n"
     ]
    },
    {
     "name": "stderr",
     "output_type": "stream",
     "text": [
      "                                                                                \r"
     ]
    },
    {
     "name": "stdout",
     "output_type": "stream",
     "text": [
      "+----------+\n",
      "| LONGITUDE|\n",
      "+----------+\n",
      "|      15.5|\n",
      "|22.8166666|\n",
      "| 18.918919|\n",
      "|18.9333333|\n",
      "|      19.5|\n",
      "| 22.139744|\n",
      "|23.0666667|\n",
      "| 23.371667|\n",
      "|23.6833333|\n",
      "| 24.973489|\n",
      "+----------+\n",
      "only showing top 10 rows\n",
      "\n"
     ]
    },
    {
     "name": "stderr",
     "output_type": "stream",
     "text": [
      "                                                                                \r"
     ]
    },
    {
     "name": "stdout",
     "output_type": "stream",
     "text": [
      "+---------+\n",
      "|ELEVATION|\n",
      "+---------+\n",
      "|    438.0|\n",
      "|     4.87|\n",
      "|    14.22|\n",
      "|     7.62|\n",
      "|     13.0|\n",
      "|      9.1|\n",
      "|    319.0|\n",
      "|     19.0|\n",
      "|    200.0|\n",
      "|     17.0|\n",
      "+---------+\n",
      "only showing top 10 rows\n",
      "\n"
     ]
    },
    {
     "name": "stderr",
     "output_type": "stream",
     "text": [
      "                                                                                \r"
     ]
    },
    {
     "name": "stdout",
     "output_type": "stream",
     "text": [
      "+--------------------+\n",
      "|                NAME|\n",
      "+--------------------+\n",
      "|      NY ALESUND, SV|\n",
      "|        LONGYEAR, SV|\n",
      "|        KONGSOYA, NO|\n",
      "|         DRAUGEN, NO|\n",
      "|       PYRAMIDEN, NO|\n",
      "| BJORNOYA ISLAND, NO|\n",
      "|       SORKJOSEN, NO|\n",
      "|        KARASJOK, NO|\n",
      "|           NYRUD, NO|\n",
      "|SNORRE B OIL PLAT...|\n",
      "+--------------------+\n",
      "only showing top 10 rows\n",
      "\n"
     ]
    },
    {
     "name": "stderr",
     "output_type": "stream",
     "text": [
      "                                                                                \r"
     ]
    },
    {
     "name": "stdout",
     "output_type": "stream",
     "text": [
      "+----+\n",
      "|TEMP|\n",
      "+----+\n",
      "|21.6|\n",
      "|19.5|\n",
      "|36.1|\n",
      "|32.4|\n",
      "|30.3|\n",
      "|32.1|\n",
      "|34.6|\n",
      "|30.6|\n",
      "|34.7|\n",
      "|37.5|\n",
      "+----+\n",
      "only showing top 10 rows\n",
      "\n"
     ]
    },
    {
     "name": "stderr",
     "output_type": "stream",
     "text": [
      "                                                                                \r"
     ]
    },
    {
     "name": "stdout",
     "output_type": "stream",
     "text": [
      "+---------------+\n",
      "|TEMP_ATTRIBUTES|\n",
      "+---------------+\n",
      "|           22.0|\n",
      "|           19.0|\n",
      "|           17.0|\n",
      "|           13.0|\n",
      "|           24.0|\n",
      "|           15.0|\n",
      "|            9.0|\n",
      "|           10.0|\n",
      "|            5.0|\n",
      "|           16.0|\n",
      "+---------------+\n",
      "only showing top 10 rows\n",
      "\n"
     ]
    },
    {
     "name": "stderr",
     "output_type": "stream",
     "text": [
      "                                                                                \r"
     ]
    },
    {
     "name": "stdout",
     "output_type": "stream",
     "text": [
      "+----+\n",
      "|DEWP|\n",
      "+----+\n",
      "|15.5|\n",
      "|15.1|\n",
      "| 4.4|\n",
      "|26.6|\n",
      "|32.1|\n",
      "|29.6|\n",
      "|21.6|\n",
      "|26.7|\n",
      "|27.4|\n",
      "|21.7|\n",
      "+----+\n",
      "only showing top 10 rows\n",
      "\n"
     ]
    },
    {
     "name": "stderr",
     "output_type": "stream",
     "text": [
      "                                                                                \r"
     ]
    },
    {
     "name": "stdout",
     "output_type": "stream",
     "text": [
      "+---------------+\n",
      "|DEWP_ATTRIBUTES|\n",
      "+---------------+\n",
      "|           22.0|\n",
      "|           19.0|\n",
      "|           17.0|\n",
      "|           13.0|\n",
      "|           24.0|\n",
      "|           15.0|\n",
      "|            9.0|\n",
      "|           10.0|\n",
      "|            5.0|\n",
      "|            0.0|\n",
      "+---------------+\n",
      "only showing top 10 rows\n",
      "\n"
     ]
    },
    {
     "name": "stderr",
     "output_type": "stream",
     "text": [
      "                                                                                \r"
     ]
    },
    {
     "name": "stdout",
     "output_type": "stream",
     "text": [
      "+------+\n",
      "|   SLP|\n",
      "+------+\n",
      "|1009.3|\n",
      "| 961.8|\n",
      "| 995.2|\n",
      "|1012.8|\n",
      "|1006.0|\n",
      "| 984.5|\n",
      "| 991.2|\n",
      "| 988.5|\n",
      "|1009.7|\n",
      "|1015.7|\n",
      "+------+\n",
      "only showing top 10 rows\n",
      "\n"
     ]
    },
    {
     "name": "stderr",
     "output_type": "stream",
     "text": [
      "                                                                                \r"
     ]
    },
    {
     "name": "stdout",
     "output_type": "stream",
     "text": [
      "+--------------+\n",
      "|SLP_ATTRIBUTES|\n",
      "+--------------+\n",
      "|          19.0|\n",
      "|          22.0|\n",
      "|          17.0|\n",
      "|          13.0|\n",
      "|          24.0|\n",
      "|          15.0|\n",
      "|           0.0|\n",
      "|           9.0|\n",
      "|           5.0|\n",
      "|          10.0|\n",
      "+--------------+\n",
      "only showing top 10 rows\n",
      "\n"
     ]
    },
    {
     "name": "stderr",
     "output_type": "stream",
     "text": [
      "                                                                                \r"
     ]
    },
    {
     "name": "stdout",
     "output_type": "stream",
     "text": [
      "+-----+\n",
      "|  STP|\n",
      "+-----+\n",
      "| 20.6|\n",
      "|968.8|\n",
      "|997.9|\n",
      "|  1.3|\n",
      "| 13.0|\n",
      "| 15.1|\n",
      "|993.6|\n",
      "| 22.8|\n",
      "| 21.5|\n",
      "| 13.8|\n",
      "+-----+\n",
      "only showing top 10 rows\n",
      "\n"
     ]
    },
    {
     "name": "stderr",
     "output_type": "stream",
     "text": [
      "                                                                                \r"
     ]
    },
    {
     "name": "stdout",
     "output_type": "stream",
     "text": [
      "+--------------+\n",
      "|STP_ATTRIBUTES|\n",
      "+--------------+\n",
      "|          19.0|\n",
      "|          22.0|\n",
      "|          17.0|\n",
      "|          13.0|\n",
      "|          24.0|\n",
      "|          15.0|\n",
      "|           0.0|\n",
      "|           9.0|\n",
      "|           5.0|\n",
      "|          10.0|\n",
      "+--------------+\n",
      "only showing top 10 rows\n",
      "\n"
     ]
    },
    {
     "name": "stderr",
     "output_type": "stream",
     "text": [
      "                                                                                \r"
     ]
    },
    {
     "name": "stdout",
     "output_type": "stream",
     "text": [
      "+-----+\n",
      "|VISIB|\n",
      "+-----+\n",
      "|  3.9|\n",
      "|  4.4|\n",
      "| 15.5|\n",
      "| 10.9|\n",
      "|  9.9|\n",
      "| 11.1|\n",
      "|  7.5|\n",
      "|  2.9|\n",
      "| 10.5|\n",
      "|  8.2|\n",
      "+-----+\n",
      "only showing top 10 rows\n",
      "\n"
     ]
    },
    {
     "name": "stderr",
     "output_type": "stream",
     "text": [
      "                                                                                \r"
     ]
    },
    {
     "name": "stdout",
     "output_type": "stream",
     "text": [
      "+----------------+\n",
      "|VISIB_ATTRIBUTES|\n",
      "+----------------+\n",
      "|            13.0|\n",
      "|            19.0|\n",
      "|            17.0|\n",
      "|            22.0|\n",
      "|             5.0|\n",
      "|             9.0|\n",
      "|            15.0|\n",
      "|            10.0|\n",
      "|             0.0|\n",
      "|            24.0|\n",
      "+----------------+\n",
      "only showing top 10 rows\n",
      "\n"
     ]
    },
    {
     "name": "stderr",
     "output_type": "stream",
     "text": [
      "                                                                                \r"
     ]
    },
    {
     "name": "stdout",
     "output_type": "stream",
     "text": [
      "+----+\n",
      "|WDSP|\n",
      "+----+\n",
      "|13.2|\n",
      "|14.9|\n",
      "|21.6|\n",
      "| 4.4|\n",
      "|16.4|\n",
      "|14.6|\n",
      "|15.1|\n",
      "|19.9|\n",
      "|17.0|\n",
      "|16.2|\n",
      "+----+\n",
      "only showing top 10 rows\n",
      "\n"
     ]
    },
    {
     "name": "stderr",
     "output_type": "stream",
     "text": [
      "                                                                                \r"
     ]
    },
    {
     "name": "stdout",
     "output_type": "stream",
     "text": [
      "+---------------+\n",
      "|WDSP_ATTRIBUTES|\n",
      "+---------------+\n",
      "|           22.0|\n",
      "|           19.0|\n",
      "|           17.0|\n",
      "|           13.0|\n",
      "|           24.0|\n",
      "|           15.0|\n",
      "|            9.0|\n",
      "|           10.0|\n",
      "|            5.0|\n",
      "|            0.0|\n",
      "+---------------+\n",
      "only showing top 10 rows\n",
      "\n"
     ]
    },
    {
     "name": "stderr",
     "output_type": "stream",
     "text": [
      "                                                                                \r"
     ]
    },
    {
     "name": "stdout",
     "output_type": "stream",
     "text": [
      "+-----+\n",
      "|MXSPD|\n",
      "+-----+\n",
      "| 33.0|\n",
      "| 15.5|\n",
      "| 13.6|\n",
      "| 25.3|\n",
      "|  9.9|\n",
      "| 22.0|\n",
      "| 19.0|\n",
      "| 26.2|\n",
      "| 22.9|\n",
      "|  3.9|\n",
      "+-----+\n",
      "only showing top 10 rows\n",
      "\n"
     ]
    },
    {
     "name": "stderr",
     "output_type": "stream",
     "text": [
      "                                                                                \r"
     ]
    },
    {
     "name": "stdout",
     "output_type": "stream",
     "text": [
      "+----+\n",
      "|GUST|\n",
      "+----+\n",
      "|21.6|\n",
      "|25.3|\n",
      "|32.4|\n",
      "|13.0|\n",
      "|20.6|\n",
      "|53.2|\n",
      "|37.5|\n",
      "|10.9|\n",
      "|33.8|\n",
      "|32.1|\n",
      "+----+\n",
      "only showing top 10 rows\n",
      "\n"
     ]
    },
    {
     "name": "stderr",
     "output_type": "stream",
     "text": [
      "                                                                                \r"
     ]
    },
    {
     "name": "stdout",
     "output_type": "stream",
     "text": [
      "+----+\n",
      "| MAX|\n",
      "+----+\n",
      "|22.8|\n",
      "|14.7|\n",
      "|36.1|\n",
      "|33.8|\n",
      "|32.4|\n",
      "|34.7|\n",
      "|32.9|\n",
      "|37.9|\n",
      "|38.1|\n",
      "|26.6|\n",
      "+----+\n",
      "only showing top 10 rows\n",
      "\n"
     ]
    },
    {
     "name": "stderr",
     "output_type": "stream",
     "text": [
      "                                                                                \r"
     ]
    },
    {
     "name": "stdout",
     "output_type": "stream",
     "text": [
      "+--------------+\n",
      "|MAX_ATTRIBUTES|\n",
      "+--------------+\n",
      "|             *|\n",
      "|              |\n",
      "+--------------+\n",
      "\n"
     ]
    },
    {
     "name": "stderr",
     "output_type": "stream",
     "text": [
      "                                                                                \r"
     ]
    },
    {
     "name": "stdout",
     "output_type": "stream",
     "text": [
      "+----+\n",
      "| MIN|\n",
      "+----+\n",
      "| 8.2|\n",
      "|32.4|\n",
      "|33.8|\n",
      "|26.6|\n",
      "|23.5|\n",
      "|32.9|\n",
      "|25.3|\n",
      "|26.2|\n",
      "|30.6|\n",
      "|21.6|\n",
      "+----+\n",
      "only showing top 10 rows\n",
      "\n"
     ]
    },
    {
     "name": "stderr",
     "output_type": "stream",
     "text": [
      "                                                                                \r"
     ]
    },
    {
     "name": "stdout",
     "output_type": "stream",
     "text": [
      "+--------------+\n",
      "|MIN_ATTRIBUTES|\n",
      "+--------------+\n",
      "|             *|\n",
      "|              |\n",
      "+--------------+\n",
      "\n"
     ]
    },
    {
     "name": "stderr",
     "output_type": "stream",
     "text": [
      "                                                                                \r"
     ]
    },
    {
     "name": "stdout",
     "output_type": "stream",
     "text": [
      "+----+\n",
      "|PRCP|\n",
      "+----+\n",
      "|0.28|\n",
      "|0.07|\n",
      "|0.08|\n",
      "|4.77|\n",
      "|3.78|\n",
      "|0.27|\n",
      "|5.51|\n",
      "|0.75|\n",
      "|0.57|\n",
      "|2.33|\n",
      "+----+\n",
      "only showing top 10 rows\n",
      "\n"
     ]
    },
    {
     "name": "stderr",
     "output_type": "stream",
     "text": [
      "                                                                                \r"
     ]
    },
    {
     "name": "stdout",
     "output_type": "stream",
     "text": [
      "+---------------+\n",
      "|PRCP_ATTRIBUTES|\n",
      "+---------------+\n",
      "|              G|\n",
      "|              H|\n",
      "|              I|\n",
      "|              E|\n",
      "|              C|\n",
      "|              A|\n",
      "|              D|\n",
      "|              B|\n",
      "|               |\n",
      "|              F|\n",
      "+---------------+\n",
      "\n"
     ]
    },
    {
     "name": "stderr",
     "output_type": "stream",
     "text": [
      "                                                                                \r"
     ]
    },
    {
     "name": "stdout",
     "output_type": "stream",
     "text": [
      "+----+\n",
      "|SNDP|\n",
      "+----+\n",
      "| 3.9|\n",
      "| 5.9|\n",
      "| 4.3|\n",
      "|13.8|\n",
      "|14.6|\n",
      "| 9.1|\n",
      "|13.0|\n",
      "| 7.5|\n",
      "|14.2|\n",
      "|21.7|\n",
      "+----+\n",
      "only showing top 10 rows\n",
      "\n"
     ]
    },
    {
     "name": "stderr",
     "output_type": "stream",
     "text": [
      "                                                                                \r"
     ]
    },
    {
     "name": "stdout",
     "output_type": "stream",
     "text": [
      "+------+\n",
      "|FRSHTT|\n",
      "+------+\n",
      "|110000|\n",
      "|101000|\n",
      "|    10|\n",
      "|100010|\n",
      "| 11001|\n",
      "|  1000|\n",
      "| 11100|\n",
      "| 10010|\n",
      "|101001|\n",
      "|110100|\n",
      "+------+\n",
      "only showing top 10 rows\n",
      "\n"
     ]
    },
    {
     "name": "stderr",
     "output_type": "stream",
     "text": [
      "[Stage 333:==========================================>           (35 + 10) / 45]\r"
     ]
    },
    {
     "name": "stdout",
     "output_type": "stream",
     "text": [
      "+--------+\n",
      "|ItRained|\n",
      "+--------+\n",
      "|       1|\n",
      "|       0|\n",
      "+--------+\n",
      "\n"
     ]
    },
    {
     "name": "stderr",
     "output_type": "stream",
     "text": [
      "                                                                                \r"
     ]
    }
   ],
   "source": [
    "\n",
    "columns = noaa_data.columns\n",
    "\n",
    "for cl in columns:\n",
    "    noaa_data.describe(cl).show()\n",
    "\n",
    "for cl in columns:\n",
    "    noaa_data.select(cl).distinct().show(10)"
   ]
  },
  {
   "cell_type": "code",
   "execution_count": 50,
   "id": "b145d310-1a67-4963-968c-9d447153ed8a",
   "metadata": {},
   "outputs": [],
   "source": [
    "# Save File as parquet and create a new notebook"
   ]
  },
  {
   "cell_type": "markdown",
   "id": "845fa6f5",
   "metadata": {},
   "source": [
    "### Data cleansing"
   ]
  },
  {
   "cell_type": "code",
   "execution_count": 33,
   "id": "a52fe125",
   "metadata": {},
   "outputs": [],
   "source": [
    "cols_to_drop = [\"STATION\", \"DATE\", \"LATITUDE\", \"LONGITUDE\", \"ELEVATION\", \"NAME\", \"TEMP_ATTRIBUTES\", \"DEWP_ATTRIBUTES\",\n",
    "               \"SLP_ATTRIBUTES\", \"STP_ATTRIBUTES\", \"VISIB_ATTRIBUTES\", \"WDSP_ATTRIBUTES\", \"MAX_ATTRIBUTES\",\n",
    "               \"MIN_ATTRIBUTES\", \"PRCP_ATTRIBUTES\", \"GUST\"]\n",
    "\n",
    "cols_interest = [x for x in columns if x not in cols_to_drop]\n",
    "df_interest_cols = noaa_data.select(cols_interest)"
   ]
  },
  {
   "cell_type": "code",
   "execution_count": 34,
   "id": "3a9de037",
   "metadata": {
    "scrolled": true
   },
   "outputs": [
    {
     "name": "stdout",
     "output_type": "stream",
     "text": [
      "root\n",
      " |-- TEMP: double (nullable = true)\n",
      " |-- DEWP: double (nullable = true)\n",
      " |-- SLP: double (nullable = true)\n",
      " |-- STP: double (nullable = true)\n",
      " |-- VISIB: double (nullable = true)\n",
      " |-- WDSP: double (nullable = true)\n",
      " |-- MXSPD: double (nullable = true)\n",
      " |-- MAX: double (nullable = true)\n",
      " |-- MIN: double (nullable = true)\n",
      " |-- PRCP: double (nullable = true)\n",
      " |-- SNDP: double (nullable = true)\n",
      " |-- FRSHTT: integer (nullable = true)\n",
      " |-- ItRained: integer (nullable = true)\n",
      "\n"
     ]
    },
    {
     "name": "stderr",
     "output_type": "stream",
     "text": [
      "                                                                                \r"
     ]
    },
    {
     "data": {
      "text/plain": [
       "'\\nfor cl in columns:\\n    df_clean.describe(cl).show()\\n\\n\\nfor cl in columns:\\n    df_clean.select(cl).distinct().show(10)\\n'"
      ]
     },
     "execution_count": 34,
     "metadata": {},
     "output_type": "execute_result"
    }
   ],
   "source": [
    "df_interest_cols.printSchema()\n",
    "df_clean = df_interest_cols.dropna()\n",
    "[df_interest_cols.count(), df_clean.count()]\n",
    "\n",
    "columns = df_clean.columns\n",
    "\n",
    "# df_clean.select(\"GUST\").summary().show()\n",
    "\n",
    "\"\"\"\n",
    "for cl in df_clean.columns: \n",
    "    print(cl)\n",
    "    df_clean.select(cl).summary().show()\n",
    "df_clean.select(\"ItRained\").summary().show()\n",
    "\"\"\"  \n",
    "\n",
    "    \n",
    "\"\"\"\n",
    "for cl in columns:\n",
    "    df_clean.describe(cl).show()\n",
    "\n",
    "\n",
    "for cl in columns:\n",
    "    df_clean.select(cl).distinct().show(10)\n",
    "\"\"\"\n"
   ]
  },
  {
   "cell_type": "code",
   "execution_count": 35,
   "id": "e9a4aa2c-d3ec-4e61-9ce9-4852cb5eb232",
   "metadata": {},
   "outputs": [
    {
     "name": "stderr",
     "output_type": "stream",
     "text": [
      "                                                                                \r"
     ]
    },
    {
     "name": "stdout",
     "output_type": "stream",
     "text": [
      "25570167\n"
     ]
    },
    {
     "name": "stderr",
     "output_type": "stream",
     "text": [
      "                                                                                \r"
     ]
    },
    {
     "name": "stdout",
     "output_type": "stream",
     "text": [
      "24451437\n"
     ]
    },
    {
     "name": "stderr",
     "output_type": "stream",
     "text": [
      "                                                                                \r"
     ]
    },
    {
     "name": "stdout",
     "output_type": "stream",
     "text": [
      "15944455\n"
     ]
    },
    {
     "name": "stderr",
     "output_type": "stream",
     "text": [
      "                                                                                \r"
     ]
    },
    {
     "name": "stdout",
     "output_type": "stream",
     "text": [
      "6454723\n"
     ]
    },
    {
     "name": "stderr",
     "output_type": "stream",
     "text": [
      "                                                                                \r"
     ]
    },
    {
     "name": "stdout",
     "output_type": "stream",
     "text": [
      "4889339\n"
     ]
    },
    {
     "name": "stderr",
     "output_type": "stream",
     "text": [
      "                                                                                \r"
     ]
    },
    {
     "name": "stdout",
     "output_type": "stream",
     "text": [
      "4812399\n"
     ]
    },
    {
     "name": "stderr",
     "output_type": "stream",
     "text": [
      "                                                                                \r"
     ]
    },
    {
     "name": "stdout",
     "output_type": "stream",
     "text": [
      "4777308\n"
     ]
    },
    {
     "name": "stderr",
     "output_type": "stream",
     "text": [
      "                                                                                \r"
     ]
    },
    {
     "name": "stdout",
     "output_type": "stream",
     "text": [
      "4725430\n"
     ]
    },
    {
     "name": "stderr",
     "output_type": "stream",
     "text": [
      "                                                                                \r"
     ]
    },
    {
     "name": "stdout",
     "output_type": "stream",
     "text": [
      "4724993\n"
     ]
    },
    {
     "name": "stderr",
     "output_type": "stream",
     "text": [
      "                                                                                \r"
     ]
    },
    {
     "name": "stdout",
     "output_type": "stream",
     "text": [
      "4724993\n"
     ]
    },
    {
     "name": "stderr",
     "output_type": "stream",
     "text": [
      "[Stage 146:================================================>      (40 + 5) / 45]\r"
     ]
    },
    {
     "name": "stdout",
     "output_type": "stream",
     "text": [
      "415129\n"
     ]
    },
    {
     "name": "stderr",
     "output_type": "stream",
     "text": [
      "                                                                                \r"
     ]
    },
    {
     "data": {
      "text/plain": [
       "'\\ntemp_median = df_clean_pd[\\'TEMP\\'].quantile(0.50)\\ndf_clean_pd[\\'TEMP\\'] = np.where(df_clean_pd[\\'TEMP\\'] < -10, temp_median, df_clean_pd[\\'TEMP\\'])\\nplt.boxplot(df_clean_pd[\"TEMP\"])\\nplt.show()\\n\\ndewp_median = df_clean_pd[\\'DEWP\\'].quantile(0.50)\\ndf_clean_pd[\\'DEWP\\'] = np.where(df_clean_pd[\\'DEWP\\'] > 100, dewp_median, df_clean_pd[\\'DEWP\\'])\\nplt.boxplot(df_clean_pd[\"DEWP\"])\\nplt.show()\\n\\ndf_clean_slp_filter = df_clean.filter(df_clean.SLP < 4000).toPandas()\\nslp_median = df_clean_slp_filter[\\'SLP\\'].quantile(0.50)\\ndf_clean_pd[\\'SLP\\'] = np.where(df_clean_pd[\\'SLP\\'] > 4000, slp_median, df_clean_pd[\\'SLP\\'])\\nplt.boxplot(df_clean_pd[\"SLP\"])\\nplt.show()\\n\\ndf_clean_stp_filter = df_clean.filter(df_clean.STP < 100).toPandas()\\nstp_median = df_clean_stp_filter[\\'STP\\'].quantile(0.50)\\ndf_clean_pd[\\'STP\\'] = np.where(df_clean_pd[\\'STP\\'] > 100, stp_median, df_clean_pd[\\'STP\\'])\\nplt.boxplot(df_clean_pd[\"STP\"])\\nplt.show()\\n\\ndf_clean_visib_filter = df_clean.filter(df_clean.VISIB < 100).toPandas()\\nvisib_median = df_clean_visib_filter[\\'VISIB\\'].quantile(0.50)\\ndf_clean_pd[\\'VISIB\\'] = np.where(df_clean_pd[\\'VISIB\\'] > 100, visib_median, df_clean_pd[\\'VISIB\\'])\\nplt.boxplot(df_clean_pd[\"VISIB\"])\\nplt.show()\\n\\ndf_clean_wdsp_filter = df_clean.filter(df_clean.WDSP < 100).toPandas()\\nwdsp_median = df_clean_wdsp_filter[\\'WDSP\\'].quantile(0.50)\\ndf_clean_pd[\\'WDSP\\'] = np.where(df_clean_pd[\\'WDSP\\'] > 100, wdsp_median, df_clean_pd[\\'WDSP\\'])\\nplt.boxplot(df_clean_pd[\"WDSP\"])\\nplt.show()\\n\\ndf_clean_mxspd_filter = df_clean.filter(df_clean.MXSPD < 100).toPandas()\\nmxspd_median = df_clean_mxspd_filter[\\'MXSPD\\'].quantile(0.50)\\ndf_clean_pd[\\'MXSPD\\'] = np.where(df_clean_pd[\\'MXSPD\\'] > 100, mxspd_median, df_clean_pd[\\'MXSPD\\'])\\nplt.boxplot(df_clean_pd[\"MXSPD\"])\\nplt.show()\\n\\ndf_clean_gust_filter = df_clean.filter(df_clean.GUST < 100).toPandas()\\ngust_median = df_clean_gust_filter[\\'GUST\\'].quantile(0.50)\\ndf_clean_pd[\\'GUST\\'] = np.where(df_clean_pd[\\'GUST\\'] > 100, gust_median, df_clean_pd[\\'GUST\\'])\\nplt.boxplot(df_clean_pd[\"GUST\"])\\nplt.show()\\n\\ndf_clean_max_filter = df_clean.filter(df_clean.MAX < 100).toPandas()\\nmax_median = df_clean_max_filter[\\'MAX\\'].quantile(0.50)\\ndf_clean_pd[\\'MAX\\'] = np.where((df_clean_pd[\\'MAX\\'] < 100) & (df_clean_pd[\\'MAX\\'] > -10), df_clean_pd[\\'MAX\\'], max_median)\\nplt.boxplot(df_clean_pd[\"MAX\"])\\nplt.show()\\n\\ndf_clean_min_filter = df_clean.filter(df_clean.MIN < 100).toPandas()\\nmin_median = df_clean_max_filter[\\'MIN\\'].quantile(0.50)\\ndf_clean_pd[\\'MIN\\'] = np.where((df_clean_pd[\\'MIN\\'] < 100) & (df_clean_pd[\\'MIN\\'] > -10), df_clean_pd[\\'MIN\\'], min_median)\\nplt.boxplot(df_clean_pd[\"MIN\"])\\nplt.show()\\n\\ndf_clean_prcp_filter = df_clean.filter(df_clean.PRCP < 100).toPandas()\\nprcp_median = df_clean_prcp_filter[\\'PRCP\\'].quantile(0.50)\\ndf_clean_pd[\\'PRCP\\'] = np.where(df_clean_pd[\\'PRCP\\'] > 50, prcp_median, df_clean_pd[\\'PRCP\\'])\\nplt.boxplot(df_clean_pd[\"PRCP\"])\\nplt.show()\\n\\ndf_clean_sndp_filter = df_clean.filter(df_clean.SNDP < 100).toPandas()\\nsndp_median = df_clean_sndp_filter[\\'SNDP\\'].quantile(0.50)\\ndf_clean_pd[\\'SNDP\\'] = np.where(df_clean_pd[\\'SNDP\\'] > 200, sndp_median, df_clean_pd[\\'SNDP\\'])\\nplt.boxplot(df_clean_pd[\"SNDP\"])\\nplt.show()\\n'"
      ]
     },
     "execution_count": 35,
     "metadata": {},
     "output_type": "execute_result"
    }
   ],
   "source": [
    "df_clean = df_clean.filter(df_clean.TEMP > -10)\n",
    "print(df_clean.count())\n",
    "df_clean = df_clean.filter(df_clean.DEWP < 100)\n",
    "print(df_clean.count())\n",
    "df_clean = df_clean.filter(df_clean.SLP < 4000) #tira ~10M de rows\n",
    "print(df_clean.count())\n",
    "df_clean = df_clean.filter(df_clean.STP < 100) # tira ~10M de rows\n",
    "print(df_clean.count())\n",
    "df_clean = df_clean.filter(df_clean.VISIB < 100)\n",
    "print(df_clean.count())\n",
    "df_clean = df_clean.filter(df_clean.WDSP < 100)\n",
    "print(df_clean.count())\n",
    "df_clean = df_clean.filter(df_clean.MXSPD < 100)\n",
    "print(df_clean.count())\n",
    "# df_clean = df_clean.filter(df_clean.GUST < 100)\n",
    "df_clean = df_clean.filter(df_clean.MAX < 100)\n",
    "print(df_clean.count())\n",
    "df_clean = df_clean.filter(df_clean.MIN < 100)\n",
    "print(df_clean.count())\n",
    "df_clean = df_clean.filter(df_clean.PRCP < 100)\n",
    "print(df_clean.count())\n",
    "df_clean = df_clean.filter(df_clean.SNDP < 100)\n",
    "print(df_clean.count())\n",
    "\n",
    "\n",
    "\"\"\"\n",
    "temp_median = df_clean_pd['TEMP'].quantile(0.50)\n",
    "df_clean_pd['TEMP'] = np.where(df_clean_pd['TEMP'] < -10, temp_median, df_clean_pd['TEMP'])\n",
    "plt.boxplot(df_clean_pd[\"TEMP\"])\n",
    "plt.show()\n",
    "\n",
    "dewp_median = df_clean_pd['DEWP'].quantile(0.50)\n",
    "df_clean_pd['DEWP'] = np.where(df_clean_pd['DEWP'] > 100, dewp_median, df_clean_pd['DEWP'])\n",
    "plt.boxplot(df_clean_pd[\"DEWP\"])\n",
    "plt.show()\n",
    "\n",
    "df_clean_slp_filter = df_clean.filter(df_clean.SLP < 4000).toPandas()\n",
    "slp_median = df_clean_slp_filter['SLP'].quantile(0.50)\n",
    "df_clean_pd['SLP'] = np.where(df_clean_pd['SLP'] > 4000, slp_median, df_clean_pd['SLP'])\n",
    "plt.boxplot(df_clean_pd[\"SLP\"])\n",
    "plt.show()\n",
    "\n",
    "df_clean_stp_filter = df_clean.filter(df_clean.STP < 100).toPandas()\n",
    "stp_median = df_clean_stp_filter['STP'].quantile(0.50)\n",
    "df_clean_pd['STP'] = np.where(df_clean_pd['STP'] > 100, stp_median, df_clean_pd['STP'])\n",
    "plt.boxplot(df_clean_pd[\"STP\"])\n",
    "plt.show()\n",
    "\n",
    "df_clean_visib_filter = df_clean.filter(df_clean.VISIB < 100).toPandas()\n",
    "visib_median = df_clean_visib_filter['VISIB'].quantile(0.50)\n",
    "df_clean_pd['VISIB'] = np.where(df_clean_pd['VISIB'] > 100, visib_median, df_clean_pd['VISIB'])\n",
    "plt.boxplot(df_clean_pd[\"VISIB\"])\n",
    "plt.show()\n",
    "\n",
    "df_clean_wdsp_filter = df_clean.filter(df_clean.WDSP < 100).toPandas()\n",
    "wdsp_median = df_clean_wdsp_filter['WDSP'].quantile(0.50)\n",
    "df_clean_pd['WDSP'] = np.where(df_clean_pd['WDSP'] > 100, wdsp_median, df_clean_pd['WDSP'])\n",
    "plt.boxplot(df_clean_pd[\"WDSP\"])\n",
    "plt.show()\n",
    "\n",
    "df_clean_mxspd_filter = df_clean.filter(df_clean.MXSPD < 100).toPandas()\n",
    "mxspd_median = df_clean_mxspd_filter['MXSPD'].quantile(0.50)\n",
    "df_clean_pd['MXSPD'] = np.where(df_clean_pd['MXSPD'] > 100, mxspd_median, df_clean_pd['MXSPD'])\n",
    "plt.boxplot(df_clean_pd[\"MXSPD\"])\n",
    "plt.show()\n",
    "\n",
    "df_clean_gust_filter = df_clean.filter(df_clean.GUST < 100).toPandas()\n",
    "gust_median = df_clean_gust_filter['GUST'].quantile(0.50)\n",
    "df_clean_pd['GUST'] = np.where(df_clean_pd['GUST'] > 100, gust_median, df_clean_pd['GUST'])\n",
    "plt.boxplot(df_clean_pd[\"GUST\"])\n",
    "plt.show()\n",
    "\n",
    "df_clean_max_filter = df_clean.filter(df_clean.MAX < 100).toPandas()\n",
    "max_median = df_clean_max_filter['MAX'].quantile(0.50)\n",
    "df_clean_pd['MAX'] = np.where((df_clean_pd['MAX'] < 100) & (df_clean_pd['MAX'] > -10), df_clean_pd['MAX'], max_median)\n",
    "plt.boxplot(df_clean_pd[\"MAX\"])\n",
    "plt.show()\n",
    "\n",
    "df_clean_min_filter = df_clean.filter(df_clean.MIN < 100).toPandas()\n",
    "min_median = df_clean_max_filter['MIN'].quantile(0.50)\n",
    "df_clean_pd['MIN'] = np.where((df_clean_pd['MIN'] < 100) & (df_clean_pd['MIN'] > -10), df_clean_pd['MIN'], min_median)\n",
    "plt.boxplot(df_clean_pd[\"MIN\"])\n",
    "plt.show()\n",
    "\n",
    "df_clean_prcp_filter = df_clean.filter(df_clean.PRCP < 100).toPandas()\n",
    "prcp_median = df_clean_prcp_filter['PRCP'].quantile(0.50)\n",
    "df_clean_pd['PRCP'] = np.where(df_clean_pd['PRCP'] > 50, prcp_median, df_clean_pd['PRCP'])\n",
    "plt.boxplot(df_clean_pd[\"PRCP\"])\n",
    "plt.show()\n",
    "\n",
    "df_clean_sndp_filter = df_clean.filter(df_clean.SNDP < 100).toPandas()\n",
    "sndp_median = df_clean_sndp_filter['SNDP'].quantile(0.50)\n",
    "df_clean_pd['SNDP'] = np.where(df_clean_pd['SNDP'] > 200, sndp_median, df_clean_pd['SNDP'])\n",
    "plt.boxplot(df_clean_pd[\"SNDP\"])\n",
    "plt.show()\n",
    "\"\"\""
   ]
  },
  {
   "cell_type": "code",
   "execution_count": 17,
   "id": "e6b44a28-cc4d-4c60-8ddc-41dddb24cd53",
   "metadata": {},
   "outputs": [
    {
     "name": "stderr",
     "output_type": "stream",
     "text": [
      "[Stage 13:================================================>       (39 + 6) / 45]\r"
     ]
    },
    {
     "name": "stdout",
     "output_type": "stream",
     "text": [
      "total 5857048\n",
      "drwxrwxr-x  5 nuno nuno       4096 mai 23 16:03 .\n",
      "drwxr-xr-x 33 nuno nuno       4096 mai 23 15:56 ..\n",
      "-rw-rw-r--  1 nuno nuno      17410 mai 23 16:02 AWS-Notebook1.ipynb\n",
      "drwxr-xr-x  2 nuno nuno      12288 mai 23 16:03 clean-noaa\n",
      "-rw-rw-r--  1 nuno nuno    1645585 mai 23 15:59 Download-AWS-Data.ipynb\n",
      "drwxrwxr-x  8 nuno nuno       4096 mai 23 15:59 .git\n",
      "-rw-rw-r--  1 nuno nuno         66 mai 10 15:50 .gitattributes\n",
      "-rw-rw-r--  1 nuno nuno         16 mai 23 15:59 .gitignore\n",
      "drwxrwxr-x  2 nuno nuno       4096 mai 17 12:02 .ipynb_checkpoints\n",
      "-rw-rw-r--  1 nuno nuno 5995896920 mai 18 11:51 noaa.csv\n",
      "-rw-rw-r--  1 nuno nuno         62 mai 10 15:50 README.md\n",
      "-rw-rw-r--  1 nuno nuno       3929 mai 17 12:38 Useful_Visualization_Functions.ipynb\n"
     ]
    },
    {
     "name": "stderr",
     "output_type": "stream",
     "text": [
      "                                                                                \r"
     ]
    }
   ],
   "source": [
    "cleanfilename = \"clean-noaa\"\n",
    "df_clean.write.mode(\"overwrite\").parquet(cleanfilename)\n",
    "\n",
    "# check in your running directory if that was accomplished\n",
    "! ls -la"
   ]
  },
  {
   "cell_type": "code",
   "execution_count": null,
   "id": "1d25d075-c1e4-4514-9c8b-6097cdc0d8bb",
   "metadata": {},
   "outputs": [
    {
     "name": "stderr",
     "output_type": "stream",
     "text": [
      "[Stage 20:=====================================================>  (86 + 4) / 90]\r"
     ]
    },
    {
     "name": "stdout",
     "output_type": "stream",
     "text": [
      "+-------+------------------+\n",
      "|summary|          ItRained|\n",
      "+-------+------------------+\n",
      "|  count|             93537|\n",
      "|   mean|0.5003902199129756|\n",
      "| stddev|0.5000025204881431|\n",
      "|    min|                 0|\n",
      "|    25%|                 0|\n",
      "|    50%|                 1|\n",
      "|    75%|                 1|\n",
      "|    max|                 1|\n",
      "+-------+------------------+\n",
      "\n"
     ]
    },
    {
     "name": "stderr",
     "output_type": "stream",
     "text": [
      "                                                                                \r"
     ]
    }
   ],
   "source": [
    "# df = spark.createDataFrame([['a',1],['b',1],['c',1],['d',1], ['e',1], ['f',1], ['x', 0], ['y', 0]], ['feature', 'label'])\n",
    "# df.show()\n",
    "major_df = df_clean.filter(col(\"ItRained\") == 0)\n",
    "minor_df = df_clean.filter(col(\"ItRained\") == 1)\n",
    "ratio = major_df.count()/minor_df.count()\n",
    "sampled_majority_df = major_df.sample(False, 1/ratio)\n",
    "df_clean = sampled_majority_df.unionAll(minor_df)\n",
    "df_clean.select(\"ItRained\").summary().show()"
   ]
  },
  {
   "cell_type": "code",
   "execution_count": 19,
   "id": "e5cef332-5849-4d80-ba33-c4edaa8aa1a4",
   "metadata": {},
   "outputs": [
    {
     "name": "stderr",
     "output_type": "stream",
     "text": [
      "[Stage 26:====================================================>   (84 + 6) / 90]\r"
     ]
    },
    {
     "name": "stdout",
     "output_type": "stream",
     "text": [
      "There are 74913 rows in the training set and 18624 in the test set\n"
     ]
    },
    {
     "name": "stderr",
     "output_type": "stream",
     "text": [
      "                                                                                \r"
     ]
    }
   ],
   "source": [
    "# df_clean = myspark.createDataFrame(df_clean_pd)\n",
    "df_train, df_test = df_clean.randomSplit([0.8,0.2], seed = 42)\n",
    "df_train.cache()\n",
    "print(f\"There are {df_train.count()} rows in the training set and {df_test.count()} in the test set\")"
   ]
  },
  {
   "cell_type": "code",
   "execution_count": 20,
   "id": "6883501f-c09a-4204-822f-ade89542085f",
   "metadata": {},
   "outputs": [
    {
     "name": "stderr",
     "output_type": "stream",
     "text": [
      "[Stage 86:=======================================================>(89 + 1) / 90]\r"
     ]
    },
    {
     "name": "stdout",
     "output_type": "stream",
     "text": [
      "True Positive:  44.979596219931274 2 % \n",
      "True Negative:  36.02341065292096 % \n",
      "False Positive:  13.799398625429554 % \n",
      "False Negative:  5.197594501718213 % \n",
      "Prediction count: 18624\n"
     ]
    },
    {
     "name": "stderr",
     "output_type": "stream",
     "text": [
      "                                                                                \r"
     ]
    },
    {
     "data": {
      "text/plain": [
       "'\\nprediction_label = df_prediction.select(\"prediction\", \"ItRained\")\\n\\nevaluator = BinaryClassificationEvaluator(rawPredictionCol=\\'prediction\\')\\n\\nprint(\"areaUnderROC = \" + str(evaluator.evaluate(prediction_label)))\\n\\nlr = LinearRegression(featuresCol=\"features\", labelCol=\"ItRained\")\\nlr_model = lr.fit(vec_df_train)\\navg_ItRained = float(df_train.select(avg(\"ItRained\")).first()[0])\\ndf_pred = df_train.withColumn(\"avg_ItRained_prediction\", lit(avg_ItRained))\\navg_ItRained\\nevaluator = RegressionEvaluator(predictionCol=\"avg_ItRained_prediction\", labelCol=\"ItRained\", metricName=\"rmse\")\\nprint(f\"The RMSE for predicting the average frshtt is: {evaluator.evaluate(df_pred):.2f}\")\\npipeline = Pipeline(stages=[vec_assembler, lr_model])\\n\\n# get the model (as transformer)\\npipeline_model = pipeline.fit(df_train)\\ndf_prediction = pipeline_model.transform(df_test)\\n\\n# show the columns worth to be looked at\\ndf_prediction.select(\"features\",\"ItRained\",\"prediction\").sample(False, 0.1).sort(\"ItRained\", ascending=False).show(200)\\n\\ndf_prediction.columns\\n'"
      ]
     },
     "execution_count": 20,
     "metadata": {},
     "output_type": "execute_result"
    }
   ],
   "source": [
    "vec_assembler = VectorAssembler(inputCols=['TEMP', 'DEWP','SLP', 'STP', 'VISIB', 'WDSP', 'MXSPD', 'MAX', 'MIN'], outputCol=\"features\")\n",
    "vec_df_train = vec_assembler.transform(df_train)\n",
    "\n",
    "# show the content of the columns bedrooms, features and price\n",
    "# vec_df_train.select(\"TEMP\",\"DEWP\",\"features\").show(200)\n",
    "\n",
    "lsvc = LinearSVC(maxIter=10, regParam=0.1, labelCol=\"ItRained\")\n",
    "pipeline = Pipeline(stages=[vec_assembler, lsvc])\n",
    "pipeline_model = pipeline.fit(df_train)\n",
    "df_prediction = pipeline_model.transform(df_test)\n",
    "# df_prediction.select(\"features\", \"ItRained\", \"prediction\").sort(\"prediction\", ascending=False).show(200)\n",
    "\n",
    "prediction_label = df_prediction.select(\"prediction\", \"ItRained\")  \n",
    "\n",
    "# supports metricName=\"areaUnderROC\" (default) and \"areaUnderPR\"\n",
    "# it relates sensitivity (TP rate) and specificity (FP rate)\n",
    "\n",
    "evaluator = BinaryClassificationEvaluator(rawPredictionCol='prediction', labelCol='ItRained', )\n",
    "\n",
    "# print(\"areaUnderROC = \" + str(evaluator.evaluate(prediction_label)))\n",
    "\n",
    "n = df_prediction.count()\n",
    "tp = df_prediction.filter(expr(\"prediction > 0\") & expr(\"ItRained == prediction\")).count()\n",
    "tn = df_prediction.filter(expr(\"prediction <= 0\") & expr(\"ItRained == prediction\")).count()\n",
    "fp = df_prediction.filter(expr(\"prediction > 0\") & expr(\"ItRained != prediction\")).count()\n",
    "fn = n - tp - tn - fp\n",
    "print(\"True Positive: \",tp/n * 100, 2,\"%\", \"\\nTrue Negative: \", tn/n * 100,\"%\",\n",
    "      \"\\nFalse Positive: \", fp/n * 100 ,\"%\", \"\\nFalse Negative: \", fn/n * 100,\"%\", \n",
    "      \"\\nPrediction count:\", n)\n",
    "\n",
    "\"\"\"\n",
    "prediction_label = df_prediction.select(\"prediction\", \"ItRained\")\n",
    "\n",
    "evaluator = BinaryClassificationEvaluator(rawPredictionCol='prediction')\n",
    "\n",
    "print(\"areaUnderROC = \" + str(evaluator.evaluate(prediction_label)))\n",
    "\n",
    "lr = LinearRegression(featuresCol=\"features\", labelCol=\"ItRained\")\n",
    "lr_model = lr.fit(vec_df_train)\n",
    "avg_ItRained = float(df_train.select(avg(\"ItRained\")).first()[0])\n",
    "df_pred = df_train.withColumn(\"avg_ItRained_prediction\", lit(avg_ItRained))\n",
    "avg_ItRained\n",
    "evaluator = RegressionEvaluator(predictionCol=\"avg_ItRained_prediction\", labelCol=\"ItRained\", metricName=\"rmse\")\n",
    "print(f\"The RMSE for predicting the average frshtt is: {evaluator.evaluate(df_pred):.2f}\")\n",
    "pipeline = Pipeline(stages=[vec_assembler, lr_model])\n",
    "\n",
    "# get the model (as transformer)\n",
    "pipeline_model = pipeline.fit(df_train)\n",
    "df_prediction = pipeline_model.transform(df_test)\n",
    "\n",
    "# show the columns worth to be looked at\n",
    "df_prediction.select(\"features\",\"ItRained\",\"prediction\").sample(False, 0.1).sort(\"ItRained\", ascending=False).show(200)\n",
    "\n",
    "df_prediction.columns\n",
    "\"\"\""
   ]
  }
 ],
 "metadata": {
  "kernelspec": {
   "display_name": "Python 3 (ipykernel)",
   "language": "python",
   "name": "python3"
  },
  "language_info": {
   "codemirror_mode": {
    "name": "ipython",
    "version": 3
   },
   "file_extension": ".py",
   "mimetype": "text/x-python",
   "name": "python",
   "nbconvert_exporter": "python",
   "pygments_lexer": "ipython3",
   "version": "3.8.10"
  }
 },
 "nbformat": 4,
 "nbformat_minor": 5
}
