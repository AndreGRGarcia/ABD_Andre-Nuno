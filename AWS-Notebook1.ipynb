{
 "cells": [
  {
   "cell_type": "code",
   "execution_count": 27,
   "id": "20240ca6",
   "metadata": {},
   "outputs": [],
   "source": [
    "from pyspark.sql import SparkSession\n",
    "from pyspark.sql import Row\n",
    "from pyspark.sql.functions import lit, col, column, expr, desc, asc"
   ]
  },
  {
   "cell_type": "code",
   "execution_count": 26,
   "id": "0e5c799b",
   "metadata": {},
   "outputs": [],
   "source": [
    "# build our own SparkSession\n",
    "myspark = SparkSession\\\n",
    "    .builder\\\n",
    "    .appName(\"AWS-Spark\")\\\n",
    "    .config(\"spark.sql.shuffle.partitions\",6)\\\n",
    "    .config(\"spark.sql.repl.eagereval.enabled\",True)\\\n",
    "    .getOrCreate()"
   ]
  },
  {
   "cell_type": "code",
   "execution_count": 2,
   "id": "42d2d3be",
   "metadata": {},
   "outputs": [
    {
     "data": {
      "text/html": [
       "\n",
       "            <div>\n",
       "                <p><b>SparkSession - in-memory</b></p>\n",
       "                \n",
       "        <div>\n",
       "            <p><b>SparkContext</b></p>\n",
       "\n",
       "            <p><a href=\"http://172.20.10.2:4040\">Spark UI</a></p>\n",
       "\n",
       "            <dl>\n",
       "              <dt>Version</dt>\n",
       "                <dd><code>v3.2.1</code></dd>\n",
       "              <dt>Master</dt>\n",
       "                <dd><code>local[*]</code></dd>\n",
       "              <dt>AppName</dt>\n",
       "                <dd><code>AWS-Spark</code></dd>\n",
       "            </dl>\n",
       "        </div>\n",
       "        \n",
       "            </div>\n",
       "        "
      ],
      "text/plain": [
       "<pyspark.sql.session.SparkSession at 0x7fc863fc31c0>"
      ]
     },
     "execution_count": 2,
     "metadata": {},
     "output_type": "execute_result"
    }
   ],
   "source": [
    "myspark"
   ]
  },
  {
   "cell_type": "code",
   "execution_count": 5,
   "id": "005a372f",
   "metadata": {},
   "outputs": [],
   "source": [
    "# ! head noaa.csv\n",
    "# noaa_data.show(10)\n",
    "noaa_data = myspark.read.load(\"noaa.csv\", format=\"csv\", sep=\",\", header=True, inferSchema=True)\n",
    "noaa_data.count()"
   ]
  },
  {
   "cell_type": "code",
   "execution_count": 24,
   "id": "bc041721",
   "metadata": {},
   "outputs": [],
   "source": [
    "# noaa_data.show(10)"
   ]
  },
  {
   "cell_type": "code",
   "execution_count": 23,
   "id": "8ed4907b",
   "metadata": {},
   "outputs": [],
   "source": [
    "temp_filt = (noaa_data.filter(noaa_data.ELEVATION <= 5))\n",
    "# temp_filt.count()"
   ]
  },
  {
   "cell_type": "code",
   "execution_count": 22,
   "id": "13ba1f43",
   "metadata": {},
   "outputs": [],
   "source": [
    "latitude_order = noaa_data.orderBy(\"LATITUDE\", ascending=False)\n",
    "# latitude_order.show(10)"
   ]
  },
  {
   "cell_type": "code",
   "execution_count": 25,
   "id": "dd32da2f",
   "metadata": {
    "scrolled": true
   },
   "outputs": [
    {
     "name": "stdout",
     "output_type": "stream",
     "text": [
      "root\n",
      " |-- STATION: integer (nullable = true)\n",
      " |-- DATE: string (nullable = true)\n",
      " |-- LATITUDE: double (nullable = true)\n",
      " |-- LONGITUDE: double (nullable = true)\n",
      " |-- ELEVATION: double (nullable = true)\n",
      " |-- NAME: string (nullable = true)\n",
      " |-- TEMP: double (nullable = true)\n",
      " |-- TEMP_ATTRIBUTES: double (nullable = true)\n",
      " |-- DEWP: double (nullable = true)\n",
      " |-- DEWP_ATTRIBUTES: double (nullable = true)\n",
      " |-- SLP: double (nullable = true)\n",
      " |-- SLP_ATTRIBUTES: double (nullable = true)\n",
      " |-- STP: double (nullable = true)\n",
      " |-- STP_ATTRIBUTES: double (nullable = true)\n",
      " |-- VISIB: double (nullable = true)\n",
      " |-- VISIB_ATTRIBUTES: double (nullable = true)\n",
      " |-- WDSP: double (nullable = true)\n",
      " |-- WDSP_ATTRIBUTES: double (nullable = true)\n",
      " |-- MXSPD: double (nullable = true)\n",
      " |-- GUST: double (nullable = true)\n",
      " |-- MAX: double (nullable = true)\n",
      " |-- MAX_ATTRIBUTES: string (nullable = true)\n",
      " |-- MIN: double (nullable = true)\n",
      " |-- MIN_ATTRIBUTES: string (nullable = true)\n",
      " |-- PRCP: double (nullable = true)\n",
      " |-- PRCP_ATTRIBUTES: string (nullable = true)\n",
      " |-- SNDP: double (nullable = true)\n",
      " |-- FRSHTT: integer (nullable = true)\n",
      "\n"
     ]
    }
   ],
   "source": [
    "noaa_data.printSchema()"
   ]
  },
  {
   "cell_type": "code",
   "execution_count": 29,
   "id": "88830ec4",
   "metadata": {
    "scrolled": true
   },
   "outputs": [
    {
     "name": "stdout",
     "output_type": "stream",
     "text": [
      "+----+---------+-----+\n",
      "|TEMP|ELEVATION|VISIB|\n",
      "+----+---------+-----+\n",
      "|23.4|      9.0| 28.0|\n",
      "|31.5|      9.0|  4.9|\n",
      "|35.0|      9.0|  3.1|\n",
      "|35.4|      9.0|  6.1|\n",
      "|27.5|      9.0| 13.5|\n",
      "|23.6|      9.0|  8.6|\n",
      "|18.7|      9.0|  4.1|\n",
      "|26.9|      9.0|999.9|\n",
      "|31.7|      9.0|  5.9|\n",
      "|32.1|      9.0|  5.4|\n",
      "+----+---------+-----+\n",
      "only showing top 10 rows\n",
      "\n"
     ]
    }
   ],
   "source": [
    "noaa_data.select(\"TEMP\", \"ELEVATION\", \"VISIB\").show(10)"
   ]
  },
  {
   "cell_type": "code",
   "execution_count": null,
   "id": "6bb7ab96",
   "metadata": {},
   "outputs": [],
   "source": []
  }
 ],
 "metadata": {
  "kernelspec": {
   "display_name": "Python 3 (ipykernel)",
   "language": "python",
   "name": "python3"
  },
  "language_info": {
   "codemirror_mode": {
    "name": "ipython",
    "version": 3
   },
   "file_extension": ".py",
   "mimetype": "text/x-python",
   "name": "python",
   "nbconvert_exporter": "python",
   "pygments_lexer": "ipython3",
   "version": "3.8.10"
  }
 },
 "nbformat": 4,
 "nbformat_minor": 5
}
